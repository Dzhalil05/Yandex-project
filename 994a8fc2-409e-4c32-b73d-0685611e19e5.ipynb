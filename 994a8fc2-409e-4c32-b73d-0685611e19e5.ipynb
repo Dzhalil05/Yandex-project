{
 "cells": [
  {
   "cell_type": "markdown",
   "metadata": {},
   "source": [
    "# Исследование объявлений о продаже квартир\n",
    "\n",
    "В вашем распоряжении данные сервиса Яндекс.Недвижимость — архив объявлений о продаже квартир в Санкт-Петербурге и соседних населённых пунктов за несколько лет. Нужно научиться определять рыночную стоимость объектов недвижимости. Ваша задача — установить параметры. Это позволит построить автоматизированную систему: она отследит аномалии и мошенническую деятельность. \n",
    "\n",
    "По каждой квартире на продажу доступны два вида данных. Первые вписаны пользователем, вторые — получены автоматически на основе картографических данных. Например, расстояние до центра, аэропорта, ближайшего парка и водоёма. "
   ]
  },
  {
   "cell_type": "markdown",
   "metadata": {},
   "source": [
    "### Открываем файл с данными и изучите общую информацию. "
   ]
  },
  {
   "cell_type": "code",
   "execution_count": 1,
   "metadata": {},
   "outputs": [
    {
     "data": {
      "text/html": [
       "<div>\n",
       "<style scoped>\n",
       "    .dataframe tbody tr th:only-of-type {\n",
       "        vertical-align: middle;\n",
       "    }\n",
       "\n",
       "    .dataframe tbody tr th {\n",
       "        vertical-align: top;\n",
       "    }\n",
       "\n",
       "    .dataframe thead th {\n",
       "        text-align: right;\n",
       "    }\n",
       "</style>\n",
       "<table border=\"1\" class=\"dataframe\">\n",
       "  <thead>\n",
       "    <tr style=\"text-align: right;\">\n",
       "      <th></th>\n",
       "      <th>total_images</th>\n",
       "      <th>last_price</th>\n",
       "      <th>total_area</th>\n",
       "      <th>first_day_exposition</th>\n",
       "      <th>rooms</th>\n",
       "      <th>ceiling_height</th>\n",
       "      <th>floors_total</th>\n",
       "      <th>living_area</th>\n",
       "      <th>floor</th>\n",
       "      <th>is_apartment</th>\n",
       "      <th>studio</th>\n",
       "      <th>open_plan</th>\n",
       "      <th>kitchen_area</th>\n",
       "      <th>balcony</th>\n",
       "      <th>locality_name</th>\n",
       "      <th>airports_nearest</th>\n",
       "      <th>cityCenters_nearest</th>\n",
       "      <th>parks_around3000</th>\n",
       "      <th>parks_nearest</th>\n",
       "      <th>ponds_around3000</th>\n",
       "      <th>ponds_nearest</th>\n",
       "      <th>days_exposition</th>\n",
       "    </tr>\n",
       "  </thead>\n",
       "  <tbody>\n",
       "    <tr>\n",
       "      <th>0</th>\n",
       "      <td>20</td>\n",
       "      <td>13000000.0</td>\n",
       "      <td>108.0</td>\n",
       "      <td>2019-03-07T00:00:00</td>\n",
       "      <td>3</td>\n",
       "      <td>2.70</td>\n",
       "      <td>16.0</td>\n",
       "      <td>51.0</td>\n",
       "      <td>8</td>\n",
       "      <td>NaN</td>\n",
       "      <td>False</td>\n",
       "      <td>False</td>\n",
       "      <td>25.0</td>\n",
       "      <td>NaN</td>\n",
       "      <td>Санкт-Петербург</td>\n",
       "      <td>18863.0</td>\n",
       "      <td>16028.0</td>\n",
       "      <td>1.0</td>\n",
       "      <td>482.0</td>\n",
       "      <td>2.0</td>\n",
       "      <td>755.0</td>\n",
       "      <td>NaN</td>\n",
       "    </tr>\n",
       "    <tr>\n",
       "      <th>1</th>\n",
       "      <td>7</td>\n",
       "      <td>3350000.0</td>\n",
       "      <td>40.4</td>\n",
       "      <td>2018-12-04T00:00:00</td>\n",
       "      <td>1</td>\n",
       "      <td>NaN</td>\n",
       "      <td>11.0</td>\n",
       "      <td>18.6</td>\n",
       "      <td>1</td>\n",
       "      <td>NaN</td>\n",
       "      <td>False</td>\n",
       "      <td>False</td>\n",
       "      <td>11.0</td>\n",
       "      <td>2.0</td>\n",
       "      <td>посёлок Шушары</td>\n",
       "      <td>12817.0</td>\n",
       "      <td>18603.0</td>\n",
       "      <td>0.0</td>\n",
       "      <td>NaN</td>\n",
       "      <td>0.0</td>\n",
       "      <td>NaN</td>\n",
       "      <td>81.0</td>\n",
       "    </tr>\n",
       "    <tr>\n",
       "      <th>2</th>\n",
       "      <td>10</td>\n",
       "      <td>5196000.0</td>\n",
       "      <td>56.0</td>\n",
       "      <td>2015-08-20T00:00:00</td>\n",
       "      <td>2</td>\n",
       "      <td>NaN</td>\n",
       "      <td>5.0</td>\n",
       "      <td>34.3</td>\n",
       "      <td>4</td>\n",
       "      <td>NaN</td>\n",
       "      <td>False</td>\n",
       "      <td>False</td>\n",
       "      <td>8.3</td>\n",
       "      <td>0.0</td>\n",
       "      <td>Санкт-Петербург</td>\n",
       "      <td>21741.0</td>\n",
       "      <td>13933.0</td>\n",
       "      <td>1.0</td>\n",
       "      <td>90.0</td>\n",
       "      <td>2.0</td>\n",
       "      <td>574.0</td>\n",
       "      <td>558.0</td>\n",
       "    </tr>\n",
       "    <tr>\n",
       "      <th>3</th>\n",
       "      <td>0</td>\n",
       "      <td>64900000.0</td>\n",
       "      <td>159.0</td>\n",
       "      <td>2015-07-24T00:00:00</td>\n",
       "      <td>3</td>\n",
       "      <td>NaN</td>\n",
       "      <td>14.0</td>\n",
       "      <td>NaN</td>\n",
       "      <td>9</td>\n",
       "      <td>NaN</td>\n",
       "      <td>False</td>\n",
       "      <td>False</td>\n",
       "      <td>NaN</td>\n",
       "      <td>0.0</td>\n",
       "      <td>Санкт-Петербург</td>\n",
       "      <td>28098.0</td>\n",
       "      <td>6800.0</td>\n",
       "      <td>2.0</td>\n",
       "      <td>84.0</td>\n",
       "      <td>3.0</td>\n",
       "      <td>234.0</td>\n",
       "      <td>424.0</td>\n",
       "    </tr>\n",
       "    <tr>\n",
       "      <th>4</th>\n",
       "      <td>2</td>\n",
       "      <td>10000000.0</td>\n",
       "      <td>100.0</td>\n",
       "      <td>2018-06-19T00:00:00</td>\n",
       "      <td>2</td>\n",
       "      <td>3.03</td>\n",
       "      <td>14.0</td>\n",
       "      <td>32.0</td>\n",
       "      <td>13</td>\n",
       "      <td>NaN</td>\n",
       "      <td>False</td>\n",
       "      <td>False</td>\n",
       "      <td>41.0</td>\n",
       "      <td>NaN</td>\n",
       "      <td>Санкт-Петербург</td>\n",
       "      <td>31856.0</td>\n",
       "      <td>8098.0</td>\n",
       "      <td>2.0</td>\n",
       "      <td>112.0</td>\n",
       "      <td>1.0</td>\n",
       "      <td>48.0</td>\n",
       "      <td>121.0</td>\n",
       "    </tr>\n",
       "  </tbody>\n",
       "</table>\n",
       "</div>"
      ],
      "text/plain": [
       "   total_images  last_price  total_area first_day_exposition  rooms  \\\n",
       "0            20  13000000.0       108.0  2019-03-07T00:00:00      3   \n",
       "1             7   3350000.0        40.4  2018-12-04T00:00:00      1   \n",
       "2            10   5196000.0        56.0  2015-08-20T00:00:00      2   \n",
       "3             0  64900000.0       159.0  2015-07-24T00:00:00      3   \n",
       "4             2  10000000.0       100.0  2018-06-19T00:00:00      2   \n",
       "\n",
       "   ceiling_height  floors_total  living_area  floor is_apartment  studio  \\\n",
       "0            2.70          16.0         51.0      8          NaN   False   \n",
       "1             NaN          11.0         18.6      1          NaN   False   \n",
       "2             NaN           5.0         34.3      4          NaN   False   \n",
       "3             NaN          14.0          NaN      9          NaN   False   \n",
       "4            3.03          14.0         32.0     13          NaN   False   \n",
       "\n",
       "   open_plan  kitchen_area  balcony    locality_name  airports_nearest  \\\n",
       "0      False          25.0      NaN  Санкт-Петербург           18863.0   \n",
       "1      False          11.0      2.0   посёлок Шушары           12817.0   \n",
       "2      False           8.3      0.0  Санкт-Петербург           21741.0   \n",
       "3      False           NaN      0.0  Санкт-Петербург           28098.0   \n",
       "4      False          41.0      NaN  Санкт-Петербург           31856.0   \n",
       "\n",
       "   cityCenters_nearest  parks_around3000  parks_nearest  ponds_around3000  \\\n",
       "0              16028.0               1.0          482.0               2.0   \n",
       "1              18603.0               0.0            NaN               0.0   \n",
       "2              13933.0               1.0           90.0               2.0   \n",
       "3               6800.0               2.0           84.0               3.0   \n",
       "4               8098.0               2.0          112.0               1.0   \n",
       "\n",
       "   ponds_nearest  days_exposition  \n",
       "0          755.0              NaN  \n",
       "1            NaN             81.0  \n",
       "2          574.0            558.0  \n",
       "3          234.0            424.0  \n",
       "4           48.0            121.0  "
      ]
     },
     "execution_count": 1,
     "metadata": {},
     "output_type": "execute_result"
    }
   ],
   "source": [
    "# Загружаем нужные библиотеки для работы с данными а также сам датасет.\n",
    "import pandas as pd\n",
    "import matplotlib.pyplot as plt\n",
    "import numpy as np\n",
    "import seaborn as sns\n",
    "from datetime import datetime, date, time\n",
    "pd.set_option('display.max_columns', None)\n",
    "df = pd.read_csv('C:/Users/User/Desktop/проекты/real_estate_data.csv', sep='\\t')\n",
    "df.head()"
   ]
  },
  {
   "cell_type": "code",
   "execution_count": 2,
   "metadata": {},
   "outputs": [
    {
     "name": "stdout",
     "output_type": "stream",
     "text": [
      "<class 'pandas.core.frame.DataFrame'>\n",
      "RangeIndex: 23699 entries, 0 to 23698\n",
      "Data columns (total 22 columns):\n",
      " #   Column                Non-Null Count  Dtype  \n",
      "---  ------                --------------  -----  \n",
      " 0   total_images          23699 non-null  int64  \n",
      " 1   last_price            23699 non-null  float64\n",
      " 2   total_area            23699 non-null  float64\n",
      " 3   first_day_exposition  23699 non-null  object \n",
      " 4   rooms                 23699 non-null  int64  \n",
      " 5   ceiling_height        14504 non-null  float64\n",
      " 6   floors_total          23613 non-null  float64\n",
      " 7   living_area           21796 non-null  float64\n",
      " 8   floor                 23699 non-null  int64  \n",
      " 9   is_apartment          2775 non-null   object \n",
      " 10  studio                23699 non-null  bool   \n",
      " 11  open_plan             23699 non-null  bool   \n",
      " 12  kitchen_area          21421 non-null  float64\n",
      " 13  balcony               12180 non-null  float64\n",
      " 14  locality_name         23650 non-null  object \n",
      " 15  airports_nearest      18157 non-null  float64\n",
      " 16  cityCenters_nearest   18180 non-null  float64\n",
      " 17  parks_around3000      18181 non-null  float64\n",
      " 18  parks_nearest         8079 non-null   float64\n",
      " 19  ponds_around3000      18181 non-null  float64\n",
      " 20  ponds_nearest         9110 non-null   float64\n",
      " 21  days_exposition       20518 non-null  float64\n",
      "dtypes: bool(2), float64(14), int64(3), object(3)\n",
      "memory usage: 3.7+ MB\n"
     ]
    }
   ],
   "source": [
    "# Выводим информацию о датасете.\n",
    "df.info()"
   ]
  },
  {
   "cell_type": "markdown",
   "metadata": {},
   "source": [
    "Комментарии : Из предварительного вывода  данных видно что в 17 столбцах есть пропущенные значения. \n",
    "Также есть неккоректные названия столбцов в датафрейме(cityCenters_nearest, ponds_around3000, parks_around3000) которые требуется изменить. Требуется также изменить некоторые тип столбцов не более подходящие. "
   ]
  },
  {
   "cell_type": "markdown",
   "metadata": {},
   "source": [
    "### Предобработка данных"
   ]
  },
  {
   "cell_type": "code",
   "execution_count": 3,
   "metadata": {},
   "outputs": [],
   "source": [
    "#Поменяем названия столбцов на корректные для дальнейшего удобства написания кода\n",
    "df.columns = ['total_images', 'last_price', 'total_area', 'first_day_exposition',\n",
    "       'rooms', 'ceiling_height', 'floors_total', 'living_area', 'floor',\n",
    "       'is_apartment', 'studio', 'open_plan', 'kitchen_area', 'balcony',\n",
    "       'locality_name', 'airports_nearest', 'city_centers_nearest',\n",
    "       'parks_around_3000', 'parks_nearest', 'ponds_around_3000',\n",
    "       'ponds_nearest', 'days_exposition']"
   ]
  },
  {
   "cell_type": "code",
   "execution_count": 4,
   "metadata": {},
   "outputs": [
    {
     "data": {
      "text/plain": [
       "total_images                0\n",
       "last_price                  0\n",
       "total_area                  0\n",
       "first_day_exposition        0\n",
       "rooms                       0\n",
       "ceiling_height           9195\n",
       "floors_total               86\n",
       "living_area              1903\n",
       "floor                       0\n",
       "is_apartment            20924\n",
       "studio                      0\n",
       "open_plan                   0\n",
       "kitchen_area             2278\n",
       "balcony                 11519\n",
       "locality_name              49\n",
       "airports_nearest         5542\n",
       "city_centers_nearest     5519\n",
       "parks_around_3000        5518\n",
       "parks_nearest           15620\n",
       "ponds_around_3000        5518\n",
       "ponds_nearest           14589\n",
       "days_exposition          3181\n",
       "dtype: int64"
      ]
     },
     "execution_count": 4,
     "metadata": {},
     "output_type": "execute_result"
    }
   ],
   "source": [
    "# Найдем в пропущенные значения в наших столбцах\n",
    "df.isna().sum()"
   ]
  },
  {
   "cell_type": "code",
   "execution_count": 5,
   "metadata": {},
   "outputs": [
    {
     "data": {
      "text/plain": [
       "array([  2.7 ,    nan,   3.03,   2.5 ,   2.67,   2.56,   3.05,   2.75,\n",
       "         2.6 ,   2.9 ,   2.8 ,   2.55,   3.  ,   2.65,   3.2 ,   2.61,\n",
       "         3.25,   3.45,   2.77,   2.85,   2.64,   2.57,   4.15,   3.5 ,\n",
       "         3.3 ,   2.71,   4.  ,   2.47,   2.73,   2.84,   3.1 ,   2.34,\n",
       "         3.4 ,   3.06,   2.72,   2.54,   2.51,   2.78,   2.76,  25.  ,\n",
       "         2.58,   3.7 ,   2.52,   5.2 ,   2.87,   2.66,   2.59,   2.  ,\n",
       "         2.45,   3.6 ,   2.92,   3.11,   3.13,   3.8 ,   3.15,   3.55,\n",
       "         3.16,   3.62,   3.12,   2.53,   2.74,   2.96,   2.46,   5.3 ,\n",
       "         5.  ,   2.79,   2.95,   4.06,   2.94,   3.82,   3.54,   3.53,\n",
       "         2.83,   4.7 ,   2.4 ,   3.38,   3.01,   5.6 ,   3.65,   3.9 ,\n",
       "         3.18,   3.35,   2.3 ,   3.57,   2.48,   2.62,   2.82,   3.98,\n",
       "         2.63,   3.83,   3.52,   3.95,   3.75,   2.88,   3.67,   3.87,\n",
       "         3.66,   3.85,   3.86,   4.19,   3.24,   4.8 ,   4.5 ,   4.2 ,\n",
       "         3.36,  32.  ,   3.08,   3.68,   3.07,   3.37,   3.09,   8.  ,\n",
       "         3.26,   3.34,   2.81,   3.44,   2.97,   3.14,   4.37,   2.68,\n",
       "         3.22,   3.27,  27.  ,   4.1 ,   2.93,   3.46,  24.  ,   3.47,\n",
       "         3.33,   3.63,   3.32,  26.  ,   1.2 ,   8.3 ,   2.98,   2.86,\n",
       "         3.17,   4.4 ,   3.28,   3.04,   4.45,   5.5 ,   3.84,   3.23,\n",
       "         3.02,   3.21,   3.43,   3.78,   4.3 ,   3.39,   2.69,   3.31,\n",
       "         4.65,   3.56,   2.2 ,   3.51,   3.93,   3.42,   2.99,   3.49,\n",
       "        14.  ,   4.14,   2.91,   3.88,   1.75,   4.25,   3.29,  20.  ,\n",
       "         2.25,   3.76,   3.69,   6.  ,  22.6 ,   2.89,   3.58,   5.8 ,\n",
       "        27.5 ,   2.49,   4.9 ,   3.48,  10.3 ,   1.  , 100.  ,   3.59])"
      ]
     },
     "execution_count": 5,
     "metadata": {},
     "output_type": "execute_result"
    }
   ],
   "source": [
    "#Находим значения в стобце ceiling_height ошибочные значения влияющие на анализ\n",
    "df['ceiling_height'].unique()"
   ]
  },
  {
   "cell_type": "code",
   "execution_count": 6,
   "metadata": {},
   "outputs": [],
   "source": [
    "#Устраним  значения в стобце ceiling_height  с ошибочными значения влияющие на анализ\n",
    "df['ceiling_height'] = (df['ceiling_height'].loc[df['ceiling_height']!=100].where(df['ceiling_height'] <= 20, \n",
    "(df['ceiling_height'] / 10)))"
   ]
  },
  {
   "cell_type": "code",
   "execution_count": 7,
   "metadata": {},
   "outputs": [
    {
     "data": {
      "text/plain": [
       "176"
      ]
     },
     "execution_count": 7,
     "metadata": {},
     "output_type": "execute_result"
    }
   ],
   "source": [
    "df['ceiling_height'].nunique()"
   ]
  },
  {
   "cell_type": "markdown",
   "metadata": {},
   "source": [
    "Комментарии : В стобце ceiling_height были обнаружены аномальные значения.Скорее всего это ошибка в написании значения целого числа вместо вещественного. Таких значений было немного и мы решили их обработать."
   ]
  },
  {
   "cell_type": "code",
   "execution_count": 8,
   "metadata": {},
   "outputs": [],
   "source": [
    "#Обработаем пропущенные значения в столбцах а также добавим стобцы для последующего анализа\n",
    "df['balcony'] = df['balcony'].fillna(0)\n",
    "df['is_apartment'] = df['is_apartment'].fillna(False)\n",
    "df['ceiling_height'] = df['ceiling_height'].fillna(df['ceiling_height'].mean())\n",
    "df.dropna(subset=['floors_total'])\n",
    "df['coff_living_area'] = df['living_area'] / df['total_area']\n",
    "df['living_area'] = df['living_area'].fillna(df['coff_living_area'].median() * df['total_area'])\n",
    "df['coff_kitchen_area'] = df['kitchen_area'] / df['total_area']\n",
    "df['kitchen_area'] = df['kitchen_area'].fillna(df['coff_kitchen_area'].median() * df['total_area'])"
   ]
  },
  {
   "cell_type": "code",
   "execution_count": 9,
   "metadata": {},
   "outputs": [
    {
     "name": "stdout",
     "output_type": "stream",
     "text": [
      "<class 'pandas.core.frame.DataFrame'>\n",
      "RangeIndex: 23699 entries, 0 to 23698\n",
      "Data columns (total 24 columns):\n",
      " #   Column                Non-Null Count  Dtype  \n",
      "---  ------                --------------  -----  \n",
      " 0   total_images          23699 non-null  int64  \n",
      " 1   last_price            23699 non-null  float64\n",
      " 2   total_area            23699 non-null  float64\n",
      " 3   first_day_exposition  23699 non-null  object \n",
      " 4   rooms                 23699 non-null  int64  \n",
      " 5   ceiling_height        23699 non-null  float64\n",
      " 6   floors_total          23613 non-null  float64\n",
      " 7   living_area           23699 non-null  float64\n",
      " 8   floor                 23699 non-null  int64  \n",
      " 9   is_apartment          23699 non-null  bool   \n",
      " 10  studio                23699 non-null  bool   \n",
      " 11  open_plan             23699 non-null  bool   \n",
      " 12  kitchen_area          23699 non-null  float64\n",
      " 13  balcony               23699 non-null  float64\n",
      " 14  locality_name         23650 non-null  object \n",
      " 15  airports_nearest      18157 non-null  float64\n",
      " 16  city_centers_nearest  18180 non-null  float64\n",
      " 17  parks_around_3000     18181 non-null  float64\n",
      " 18  parks_nearest         8079 non-null   float64\n",
      " 19  ponds_around_3000     18181 non-null  float64\n",
      " 20  ponds_nearest         9110 non-null   float64\n",
      " 21  days_exposition       20518 non-null  float64\n",
      " 22  coff_living_area      21796 non-null  float64\n",
      " 23  coff_kitchen_area     21421 non-null  float64\n",
      "dtypes: bool(3), float64(16), int64(3), object(2)\n",
      "memory usage: 3.9+ MB\n"
     ]
    }
   ],
   "source": [
    "#Проверим информацию о нашем датасете после предработки данных\n",
    "df.info()"
   ]
  },
  {
   "cell_type": "markdown",
   "metadata": {},
   "source": [
    "Комментарий: Так как в некоторых столбцах обнаружены были пропуски мы заменили на число(0) и в одном случае в столбце 'ceiling_height на среднее значение. Также для устранения пропусков  столбцах living_area и kitchen_area мы рассчитали коэфф-т этих параметров к общей площади . После этого заменили пропущенные значениях этих параметров на медианные значения коэфф-в этих параметров умноженных на общую площадь."
   ]
  },
  {
   "cell_type": "code",
   "execution_count": 10,
   "metadata": {},
   "outputs": [
    {
     "data": {
      "text/plain": [
       "364"
      ]
     },
     "execution_count": 10,
     "metadata": {},
     "output_type": "execute_result"
    }
   ],
   "source": [
    "#Посчитаем количество уникальных значений в столбце locality_name\n",
    "len(df['locality_name'].dropna().unique())"
   ]
  },
  {
   "cell_type": "code",
   "execution_count": 11,
   "metadata": {},
   "outputs": [],
   "source": [
    "#Устраним неявные дубликаты путем преобразования их названий\n",
    "duplicates = ['городской посёлок', 'коттеджный посёлок','поселок городского типа', \n",
    "'поселок', 'посёлок городского типа', 'городской поселок', 'посёлок станции']\n",
    "name = 'посёлок' \n",
    "df['locality_name'] = df['locality_name'].replace(duplicates, name, regex=True)"
   ]
  },
  {
   "cell_type": "code",
   "execution_count": 12,
   "metadata": {},
   "outputs": [
    {
     "data": {
      "text/plain": [
       "array(['Санкт-Петербург', 'посёлок Шушары', 'посёлок Янино-1',\n",
       "       'посёлок Парголово', 'посёлок Мурино', 'Ломоносов', 'Сертолово',\n",
       "       'Петергоф', 'Пушкин', 'деревня Кудрово', 'Коммунар', 'Колпино',\n",
       "       'посёлок Красный Бор', 'Гатчина', 'деревня Фёдоровское', 'Выборг',\n",
       "       'Кронштадт', 'Кировск', 'деревня Новое Девяткино',\n",
       "       'посёлок Металлострой', 'посёлок Лебяжье', 'посёлок Сиверский',\n",
       "       'посёлок Молодцово', 'посёлок Кузьмоловский',\n",
       "       'садовое товарищество Новая Ропша', 'Павловск',\n",
       "       'деревня Пикколово', 'Всеволожск', 'Волхов', 'Кингисепп',\n",
       "       'Приозерск', 'Сестрорецк', 'деревня Куттузи', 'посёлок Аннино',\n",
       "       'посёлок Ефимовский', 'посёлок Плодовое', 'деревня Заклинье',\n",
       "       'посёлок Торковичи', 'посёлок Первомайское', 'Красное Село',\n",
       "       'посёлок Понтонный', 'Сясьстрой', 'деревня Старая',\n",
       "       'деревня Лесколово', 'посёлок Новый Свет', 'Сланцы',\n",
       "       'село Путилово', 'Ивангород', 'Мурино', 'Шлиссельбург',\n",
       "       'Никольское', 'Зеленогорск', 'Сосновый Бор', 'деревня Оржицы',\n",
       "       'деревня Кальтино', 'Кудрово', 'посёлок Романовка',\n",
       "       'посёлок Бугры', 'посёлок Рощино', 'Кириши', 'Луга', 'Волосово',\n",
       "       'Отрадное', 'село Павлово', 'посёлок Оредеж', 'село Копорье',\n",
       "       'посёлок Молодёжное', 'Тихвин', 'посёлок Победа', 'деревня Нурма',\n",
       "       'посёлок Синявино', 'Тосно', 'посёлок Стрельна', 'Бокситогорск',\n",
       "       'посёлок Александровская', 'деревня Лопухинка', 'Пикалёво',\n",
       "       'посёлок Терволово', 'посёлок Советский', 'Подпорожье',\n",
       "       'посёлок Петровское', 'посёлок Токсово', 'посёлок Сельцо',\n",
       "       'посёлок Вырица', 'деревня Кипень', 'деревня Келози',\n",
       "       'деревня Вартемяги', 'посёлок Тельмана', 'посёлок Севастьяново',\n",
       "       'городской посёлок Большая Ижора', nan, 'посёлок Павлово',\n",
       "       'деревня Агалатово', 'посёлок Новогорелово', 'посёлок Лесогорский',\n",
       "       'деревня Лаголово', 'посёлок Цвелодубово', 'посёлок Рахья',\n",
       "       'деревня Белогорка', 'посёлок Заводской', 'посёлок Новоселье',\n",
       "       'деревня Большие Колпаны', 'деревня Горбунки', 'деревня Батово',\n",
       "       'деревня Заневка', 'деревня Иссад', 'Приморск',\n",
       "       'посёлок Фёдоровское', 'деревня Мистолово', 'Новая Ладога',\n",
       "       'посёлок Зимитицы', 'посёлок Барышево', 'деревня Разметелево',\n",
       "       'посёлок имени Свердлова', 'деревня Пеники', 'посёлок Рябово',\n",
       "       'деревня Пудомяги', 'посёлок Корнево', 'деревня Низино',\n",
       "       'деревня Бегуницы', 'посёлок Поляны', 'посёлок Мга',\n",
       "       'посёлок Елизаветино', 'посёлок Кузнечное', 'деревня Колтуши',\n",
       "       'посёлок Запорожское', 'деревня Гостилицы',\n",
       "       'деревня Малое Карлино', 'посёлок Мичуринское',\n",
       "       'посёлок имени Морозова', 'посёлок Песочный', 'посёлок Сосново',\n",
       "       'деревня Аро', 'посёлок Ильичёво', 'посёлок Тайцы',\n",
       "       'деревня Малое Верево', 'деревня Извара', 'посёлок Вещево',\n",
       "       'село Паша', 'деревня Калитино', 'посёлок Ульяновка',\n",
       "       'деревня Чудской Бор', 'посёлок Дубровка', 'деревня Мины',\n",
       "       'посёлок Войсковицы', 'деревня Коркино', 'посёлок Ропша',\n",
       "       'посёлок Приладожский', 'посёлок Щеглово', 'посёлок Гаврилово',\n",
       "       'Лодейное Поле', 'деревня Рабитицы', 'посёлок Никольский',\n",
       "       'деревня Кузьмолово', 'деревня Малые Колпаны',\n",
       "       'посёлок Петро-Славянка', 'посёлок Назия', 'посёлок Репино',\n",
       "       'посёлок Углово', 'посёлок Старая Малукса',\n",
       "       'садовое товарищество Рахья', 'деревня Меньково',\n",
       "       'деревня Старые Бегуницы', 'посёлок Сапёрный', 'посёлок Семрино',\n",
       "       'посёлок Глажево', 'посёлок Кобринское', 'деревня Гарболово',\n",
       "       'деревня Юкки', 'посёлок Приветнинское', 'деревня Мануйлово',\n",
       "       'деревня Пчева', 'посёлок Цвылёво', 'посёлок Мельниково',\n",
       "       'посёлок Пудость', 'посёлок Усть-Луга', 'Светогорск', 'Любань',\n",
       "       'посёлок Селезнёво', 'Каменногорск', 'деревня Кривко',\n",
       "       'посёлок Глебычево', 'деревня Парицы', 'посёлок Жилпосёлок',\n",
       "       'городской посёлок Янино-1', 'посёлок Войскорово',\n",
       "       'село Никольское', 'посёлок Стеклянный', 'посёлок Важины',\n",
       "       'посёлок Мыза-Ивановка', 'село Русско-Высоцкое',\n",
       "       'посёлок Форносово', 'село Старая Ладога', 'посёлок Житково',\n",
       "       'посёлок Виллози', 'деревня Лампово', 'деревня Шпаньково',\n",
       "       'деревня Лаврики', 'посёлок Сумино', 'посёлок Возрождение',\n",
       "       'деревня Старосиверская', 'посёлок Кикерино',\n",
       "       'деревня Старое Хинколово', 'посёлок Пригородный',\n",
       "       'посёлок Торфяное', 'посёлок Будогощь', 'посёлок Суходолье',\n",
       "       'посёлок Красная Долина', 'деревня Хапо-Ое',\n",
       "       'посёлок Дружная Горка', 'посёлок Лисий Нос', 'деревня Яльгелево',\n",
       "       'село Рождествено', 'деревня Старополье', 'посёлок Левашово',\n",
       "       'деревня Сяськелево', 'деревня Камышовка',\n",
       "       'садоводческое некоммерческое товарищество Лесная Поляна',\n",
       "       'деревня Хязельки', 'посёлок Жилгородок', 'деревня Ялгино',\n",
       "       'посёлок Новый Учхоз', 'посёлок Гончарово', 'посёлок Почап',\n",
       "       'посёлок Сапёрное', 'посёлок Платформа 69-й километр',\n",
       "       'посёлок Каложицы', 'деревня Фалилеево', 'деревня Пельгора',\n",
       "       'деревня Торошковичи', 'посёлок Белоостров', 'посёлок Алексеевка',\n",
       "       'посёлок Серебрянский', 'посёлок Лукаши', 'деревня Щеглово',\n",
       "       'деревня Тарасово', 'посёлок Кингисеппский',\n",
       "       'посёлок при железнодорожной станции Вещево', 'посёлок Ушаки',\n",
       "       'деревня Котлы', 'деревня Сижно', 'деревня Торосово',\n",
       "       'посёлок Форт Красная Горка', 'деревня Новолисино',\n",
       "       'посёлок Громово', 'деревня Глинка', 'деревня Старая Пустошь',\n",
       "       'посёлок Коммунары', 'посёлок Починок', 'посёлок Вознесенье',\n",
       "       'деревня Разбегаево', 'посёлок Гладкое',\n",
       "       'посёлок при железнодорожной станции Приветнинское',\n",
       "       'посёлок Тёсово-4', 'деревня Бор', 'посёлок Коробицыно',\n",
       "       'деревня Большая Вруда', 'деревня Курковицы', 'посёлок Кобралово',\n",
       "       'деревня Суоранда', 'посёлок Кондратьево',\n",
       "       'коттеджный посёлок Счастье', 'посёлок Любань', 'деревня Реброво',\n",
       "       'деревня Зимитицы', 'деревня Тойворово', 'посёлок Семиозерье',\n",
       "       'посёлок Лесное', 'посёлок Совхозный', 'посёлок Ленинское',\n",
       "       'посёлок Суйда', 'деревня Нижние Осельки', 'посёлок Свирь',\n",
       "       'посёлок Перово', 'Высоцк', 'посёлок Гарболово', 'село Шум',\n",
       "       'посёлок Котельский', 'посёлок Лужайка',\n",
       "       'деревня Большая Пустомержа', 'посёлок Красносельское',\n",
       "       'деревня Вахнова Кара', 'деревня Пижма',\n",
       "       'коттеджный посёлок Кивеннапа Север', 'посёлок Ромашки',\n",
       "       'деревня Каськово', 'деревня Куровицы', 'посёлок Плоское',\n",
       "       'посёлок Большая Ижора', 'посёлок Кирпичное', 'деревня Ям-Тесово',\n",
       "       'деревня Раздолье', 'деревня Терпилицы', 'посёлок Шугозеро',\n",
       "       'деревня Ваганово', 'посёлок Пушное', 'садовое товарищество Садко',\n",
       "       'посёлок Усть-Ижора', 'деревня Выскатка', 'посёлок Свирьстрой',\n",
       "       'деревня Кисельня', 'деревня Трубников Бор', 'посёлок Калитино',\n",
       "       'посёлок Высокоключевой', 'садовое товарищество Приладожский',\n",
       "       'посёлок Пансионат Зелёный Бор', 'деревня Ненимяки',\n",
       "       'деревня Снегирёвка', 'деревня Рапполово', 'деревня Пустынка',\n",
       "       'посёлок Рабитицы', 'деревня Большой Сабск', 'деревня Русско',\n",
       "       'деревня Лупполово', 'деревня Большое Рейзино',\n",
       "       'деревня Малая Романовка', 'посёлок Дружноселье', 'посёлок Пчевжа',\n",
       "       'посёлок Володарское', 'деревня Нижняя', 'деревня Тихковицы',\n",
       "       'деревня Борисова Грива', 'посёлок Дзержинского'], dtype=object)"
      ]
     },
     "execution_count": 12,
     "metadata": {},
     "output_type": "execute_result"
    }
   ],
   "source": [
    "#Выведем названия уникальных значений с толбце locality_name\n",
    "df['locality_name'].unique()"
   ]
  },
  {
   "cell_type": "code",
   "execution_count": 13,
   "metadata": {},
   "outputs": [
    {
     "data": {
      "text/plain": [
       "322"
      ]
     },
     "execution_count": 13,
     "metadata": {},
     "output_type": "execute_result"
    }
   ],
   "source": [
    "# Посчитаем количество уникальных значений в столбце locality_na после преобразования\n",
    "len(df['locality_name'].dropna().unique())"
   ]
  },
  {
   "cell_type": "markdown",
   "metadata": {},
   "source": [
    " Комментарий :Устранили неявные дубликаты в столбце 'locality_name'. Количество уникальных значений в данном столбце стало меньше на 44 значения "
   ]
  },
  {
   "cell_type": "code",
   "execution_count": 14,
   "metadata": {},
   "outputs": [],
   "source": [
    "# В столбце locality_name заменили пропущеныне значения на Санкт-Петербург добавив условие \n",
    "df.loc[df['city_centers_nearest'] < 18000, 'locality_name'].fillna('Санкт-Петербург')\n",
    "df= df.dropna(subset=['locality_name']) "
   ]
  },
  {
   "cell_type": "code",
   "execution_count": 15,
   "metadata": {},
   "outputs": [],
   "source": [
    "# Перевели некторые столбцы датасета к правильному типу данных\n",
    "df['first_day_exposition'] = pd.to_datetime(df['first_day_exposition'], format='%Y-%m-%dT%H:%M:%S')\n",
    "df['is_apartment'] = df['is_apartment'].astype(bool)\n",
    "df['balcony'] = df['balcony'].astype(int)"
   ]
  },
  {
   "cell_type": "markdown",
   "metadata": {},
   "source": [
    "Комментарии : Данные изменены в 3 столбцах. \n",
    "В столбце first_day_exposition стоит дата исходя из этого тип был object мы поменяли на data.Количество комнат(floors_total) и балконов (balcony)поменяли на тип данны int так как количество комнат и балконов не может быть с число с остатком . И столбец апартаменты на булево значение . Так как там значения True или False"
   ]
  },
  {
   "cell_type": "code",
   "execution_count": 16,
   "metadata": {},
   "outputs": [
    {
     "data": {
      "image/png": "[encoded data removed]",
      "text/plain": [
       "<Figure size 432x288 with 1 Axes>"
      ]
     },
     "metadata": {
      "needs_background": "light"
     },
     "output_type": "display_data"
    },
    {
     "data": {
      "image/png": "[encoded data removed]",
      "text/plain": [
       "<Figure size 432x288 with 1 Axes>"
      ]
     },
     "metadata": {
      "needs_background": "light"
     },
     "output_type": "display_data"
    },
    {
     "data": {
      "image/png": "[encoded data removed]",
      "text/plain": [
       "<Figure size 432x288 with 1 Axes>"
      ]
     },
     "metadata": {
      "needs_background": "light"
     },
     "output_type": "display_data"
    },
    {
     "data": {
      "image/png": "[encoded data removed]",
      "text/plain": [
       "<Figure size 432x288 with 1 Axes>"
      ]
     },
     "metadata": {
      "needs_background": "light"
     },
     "output_type": "display_data"
    },
    {
     "data": {
      "image/png": "[encoded data removed]",
      "text/plain": [
       "<Figure size 432x288 with 1 Axes>"
      ]
     },
     "metadata": {
      "needs_background": "light"
     },
     "output_type": "display_data"
    },
    {
     "data": {
      "image/png": "[encoded data removed]",
      "text/plain": [
       "<Figure size 432x288 with 1 Axes>"
      ]
     },
     "metadata": {
      "needs_background": "light"
     },
     "output_type": "display_data"
    },
    {
     "data": {
      "image/png": "[encoded data removed]",
      "text/plain": [
       "<Figure size 432x288 with 1 Axes>"
      ]
     },
     "metadata": {
      "needs_background": "light"
     },
     "output_type": "display_data"
    },
    {
     "data": {
      "image/png": "[encoded data removed]",
      "text/plain": [
       "<Figure size 432x288 with 1 Axes>"
      ]
     },
     "metadata": {
      "needs_background": "light"
     },
     "output_type": "display_data"
    },
    {
     "data": {
      "image/png": "[encoded data removed]",
      "text/plain": [
       "<Figure size 432x288 with 1 Axes>"
      ]
     },
     "metadata": {
      "needs_background": "light"
     },
     "output_type": "display_data"
    },
    {
     "data": {
      "image/png": "[encoded data removed]",
      "text/plain": [
       "<Figure size 432x288 with 1 Axes>"
      ]
     },
     "metadata": {
      "needs_background": "light"
     },
     "output_type": "display_data"
    },
    {
     "data": {
      "image/png": "[encoded data removed]",
      "text/plain": [
       "<Figure size 432x288 with 1 Axes>"
      ]
     },
     "metadata": {
      "needs_background": "light"
     },
     "output_type": "display_data"
    },
    {
     "data": {
      "image/png": "[encoded data removed]",
      "text/plain": [
       "<Figure size 432x288 with 1 Axes>"
      ]
     },
     "metadata": {
      "needs_background": "light"
     },
     "output_type": "display_data"
    },
    {
     "data": {
      "image/png": "[encoded data removed]",
      "text/plain": [
       "<Figure size 432x288 with 1 Axes>"
      ]
     },
     "metadata": {
      "needs_background": "light"
     },
     "output_type": "display_data"
    },
    {
     "data": {
      "image/png": "[encoded data removed]",
      "text/plain": [
       "<Figure size 432x288 with 1 Axes>"
      ]
     },
     "metadata": {
      "needs_background": "light"
     },
     "output_type": "display_data"
    },
    {
     "data": {
      "image/png": "[encoded data removed]",
      "text/plain": [
       "<Figure size 432x288 with 1 Axes>"
      ]
     },
     "metadata": {
      "needs_background": "light"
     },
     "output_type": "display_data"
    },
    {
     "data": {
      "image/png": "[encoded data removed]",
      "text/plain": [
       "<Figure size 432x288 with 1 Axes>"
      ]
     },
     "metadata": {
      "needs_background": "light"
     },
     "output_type": "display_data"
    },
    {
     "data": {
      "image/png": "[encoded data removed]",
      "text/plain": [
       "<Figure size 432x288 with 1 Axes>"
      ]
     },
     "metadata": {
      "needs_background": "light"
     },
     "output_type": "display_data"
    },
    {
     "data": {
      "image/png": "[encoded data removed]",
      "text/plain": [
       "<Figure size 432x288 with 1 Axes>"
      ]
     },
     "metadata": {
      "needs_background": "light"
     },
     "output_type": "display_data"
    },
    {
     "data": {
      "image/png": "[encoded data removed]",
      "text/plain": [
       "<Figure size 432x288 with 1 Axes>"
      ]
     },
     "metadata": {
      "needs_background": "light"
     },
     "output_type": "display_data"
    }
   ],
   "source": [
    "# Построим ящик с усами(боксплоты) для определения аномальных значений в столбцах \n",
    "columns_list = ['total_images', 'last_price', 'total_area',\n",
    "       'rooms', 'ceiling_height', 'floors_total', 'living_area', 'floor',\n",
    "       'is_apartment', 'studio', 'open_plan', 'kitchen_area', 'balcony',\n",
    "        'airports_nearest', 'city_centers_nearest',\n",
    "       'parks_around_3000', 'parks_nearest', 'ponds_around_3000',\n",
    "       'ponds_nearest']\n",
    "for col in columns_list:\n",
    "    df.boxplot(column=col, grid=True)\n",
    "    plt.show()"
   ]
  },
  {
   "cell_type": "markdown",
   "metadata": {},
   "source": [
    "Комментарии : Как видно из диаграммы размаха полученные по столбцам датафрейма . \n",
    "Можно утверждать что в столбцах (last_price,total_area,living_area,kitchen_area,airports_nearest,parks_nearest) имеются выбросы\n",
    "которые могу сильно исказить данные при анализе.\n",
    "И только у столбца  ponds_nearest нет выбросов.\n",
    "    "
   ]
  },
  {
   "cell_type": "code",
   "execution_count": 17,
   "metadata": {},
   "outputs": [
    {
     "name": "stdout",
     "output_type": "stream",
     "text": [
      "count    23650.000000\n",
      "mean         9.862326\n",
      "std          5.682278\n",
      "min          0.000000\n",
      "25%          6.000000\n",
      "50%          9.000000\n",
      "75%         14.000000\n",
      "max         50.000000\n",
      "Name: total_images, dtype: float64\n",
      "count    2.365000e+04\n",
      "mean     6.541127e+06\n",
      "std      1.089640e+07\n",
      "min      1.219000e+04\n",
      "25%      3.400000e+06\n",
      "50%      4.650000e+06\n",
      "75%      6.799000e+06\n",
      "max      7.630000e+08\n",
      "Name: last_price, dtype: float64\n",
      "count    23650.000000\n",
      "mean        60.329069\n",
      "std         35.661808\n",
      "min         12.000000\n",
      "25%         40.000000\n",
      "50%         52.000000\n",
      "75%         69.700000\n",
      "max        900.000000\n",
      "Name: total_area, dtype: float64\n",
      "count    23650.000000\n",
      "mean         2.070106\n",
      "std          1.078620\n",
      "min          0.000000\n",
      "25%          1.000000\n",
      "50%          2.000000\n",
      "75%          3.000000\n",
      "max         19.000000\n",
      "Name: rooms, dtype: float64\n",
      "count    23650.000000\n",
      "mean         2.730193\n",
      "std          0.270131\n",
      "min          1.000000\n",
      "25%          2.600000\n",
      "50%          2.730348\n",
      "75%          2.730348\n",
      "max         20.000000\n",
      "Name: ceiling_height, dtype: float64\n",
      "count    23565.000000\n",
      "mean        10.675875\n",
      "std          6.594823\n",
      "min          1.000000\n",
      "25%          5.000000\n",
      "50%          9.000000\n",
      "75%         16.000000\n",
      "max         60.000000\n",
      "Name: floors_total, dtype: float64\n",
      "count    23650.000000\n",
      "mean        34.566441\n",
      "std         22.345625\n",
      "min          2.000000\n",
      "25%         19.000000\n",
      "50%         30.000000\n",
      "75%         42.100000\n",
      "max        409.700000\n",
      "Name: living_area, dtype: float64\n",
      "count    23650.000000\n",
      "mean         5.893277\n",
      "std          4.883317\n",
      "min          1.000000\n",
      "25%          2.000000\n",
      "50%          4.000000\n",
      "75%          8.000000\n",
      "max         33.000000\n",
      "Name: floor, dtype: float64\n",
      "count     23650\n",
      "unique        2\n",
      "top       False\n",
      "freq      23600\n",
      "Name: is_apartment, dtype: object\n",
      "count     23650\n",
      "unique        2\n",
      "top       False\n",
      "freq      23501\n",
      "Name: studio, dtype: object\n",
      "count     23650\n",
      "unique        2\n",
      "top       False\n",
      "freq      23583\n",
      "Name: open_plan, dtype: object\n",
      "count    23650.000000\n",
      "mean        10.488051\n",
      "std          6.026448\n",
      "min          1.300000\n",
      "25%          7.000000\n",
      "50%          9.000000\n",
      "75%         12.000000\n",
      "max        112.000000\n",
      "Name: kitchen_area, dtype: float64\n",
      "count    23650.000000\n",
      "mean         0.591712\n",
      "std          0.959662\n",
      "min          0.000000\n",
      "25%          0.000000\n",
      "50%          0.000000\n",
      "75%          1.000000\n",
      "max          5.000000\n",
      "Name: balcony, dtype: float64\n",
      "count    18116.000000\n",
      "mean     28803.225878\n",
      "std      12637.314144\n",
      "min          0.000000\n",
      "25%      18575.750000\n",
      "50%      26756.500000\n",
      "75%      37294.000000\n",
      "max      84869.000000\n",
      "Name: airports_nearest, dtype: float64\n",
      "count    18139.000000\n",
      "mean     14197.860742\n",
      "std       8606.830295\n",
      "min        181.000000\n",
      "25%       9241.000000\n",
      "50%      13105.000000\n",
      "75%      16293.000000\n",
      "max      65968.000000\n",
      "Name: city_centers_nearest, dtype: float64\n",
      "count    18140.000000\n",
      "mean         0.611577\n",
      "std          0.802003\n",
      "min          0.000000\n",
      "25%          0.000000\n",
      "50%          0.000000\n",
      "75%          1.000000\n",
      "max          3.000000\n",
      "Name: parks_around_3000, dtype: float64\n",
      "count    8064.000000\n",
      "mean      490.830729\n",
      "std       342.554386\n",
      "min         1.000000\n",
      "25%       288.000000\n",
      "50%       454.500000\n",
      "75%       612.000000\n",
      "max      3190.000000\n",
      "Name: parks_nearest, dtype: float64\n",
      "count    18140.000000\n",
      "mean         0.769680\n",
      "std          0.937948\n",
      "min          0.000000\n",
      "25%          0.000000\n",
      "50%          1.000000\n",
      "75%          1.000000\n",
      "max          3.000000\n",
      "Name: ponds_around_3000, dtype: float64\n",
      "count    9085.000000\n",
      "mean      518.059879\n",
      "std       277.841733\n",
      "min        13.000000\n",
      "25%       293.000000\n",
      "50%       502.000000\n",
      "75%       730.000000\n",
      "max      1344.000000\n",
      "Name: ponds_nearest, dtype: float64\n"
     ]
    }
   ],
   "source": [
    "# Построим статистические характеристики по каждым столбцам данных \n",
    "columns_list = ['total_images', 'last_price', 'total_area',\n",
    "       'rooms', 'ceiling_height', 'floors_total', 'living_area', 'floor',\n",
    "       'is_apartment', 'studio', 'open_plan', 'kitchen_area', 'balcony',\n",
    "        'airports_nearest', 'city_centers_nearest',\n",
    "       'parks_around_3000', 'parks_nearest', 'ponds_around_3000',\n",
    "       'ponds_nearest']\n",
    "for col in columns_list:\n",
    "    print(df[col].describe())\n",
    "    "
   ]
  },
  {
   "cell_type": "markdown",
   "metadata": {},
   "source": [
    "Комментарий : Как можно заметить в некторых столбцах с данными мы имеем дело с аномальными значениями"
   ]
  },
  {
   "cell_type": "code",
   "execution_count": 18,
   "metadata": {},
   "outputs": [],
   "source": [
    "# Устраним аномальные значения в столбцах\n",
    "columns_list =  ['total_images', 'last_price', 'total_area',\n",
    "       'rooms', 'ceiling_height', 'floors_total', 'living_area', 'floor',\n",
    "          'kitchen_area', 'balcony',\n",
    "        'airports_nearest', 'city_centers_nearest',\n",
    "       'parks_around_3000', 'parks_nearest', 'ponds_around_3000',\n",
    "       ]\n",
    "for column in columns_list:\n",
    "    Q99 = df[column].quantile(0.99)\n",
    "    df = df[(df[column] < Q99) | (df[column].isna())]"
   ]
  },
  {
   "cell_type": "code",
   "execution_count": 19,
   "metadata": {},
   "outputs": [
    {
     "data": {
      "image/png": "[encoded data removed]",
      "text/plain": [
       "<Figure size 432x288 with 1 Axes>"
      ]
     },
     "metadata": {
      "needs_background": "light"
     },
     "output_type": "display_data"
    },
    {
     "data": {
      "image/png": "[encoded data removed]",
      "text/plain": [
       "<Figure size 432x288 with 1 Axes>"
      ]
     },
     "metadata": {
      "needs_background": "light"
     },
     "output_type": "display_data"
    },
    {
     "data": {
      "image/png": "[encoded data removed]",
      "text/plain": [
       "<Figure size 432x288 with 1 Axes>"
      ]
     },
     "metadata": {
      "needs_background": "light"
     },
     "output_type": "display_data"
    },
    {
     "data": {
      "image/png": "[encoded data removed]",
      "text/plain": [
       "<Figure size 432x288 with 1 Axes>"
      ]
     },
     "metadata": {
      "needs_background": "light"
     },
     "output_type": "display_data"
    },
    {
     "data": {
      "image/png": "[encoded data removed]",
      "text/plain": [
       "<Figure size 432x288 with 1 Axes>"
      ]
     },
     "metadata": {
      "needs_background": "light"
     },
     "output_type": "display_data"
    },
    {
     "data": {
      "image/png": "[encoded data removed]",
      "text/plain": [
       "<Figure size 432x288 with 1 Axes>"
      ]
     },
     "metadata": {
      "needs_background": "light"
     },
     "output_type": "display_data"
    },
    {
     "data": {
      "image/png": "[encoded data removed]",
      "text/plain": [
       "<Figure size 432x288 with 1 Axes>"
      ]
     },
     "metadata": {
      "needs_background": "light"
     },
     "output_type": "display_data"
    },
    {
     "data": {
      "image/png": "[encoded data removed]",
      "text/plain": [
       "<Figure size 432x288 with 1 Axes>"
      ]
     },
     "metadata": {
      "needs_background": "light"
     },
     "output_type": "display_data"
    },
    {
     "data": {
      "image/png": "[encoded data removed]",
      "text/plain": [
       "<Figure size 432x288 with 1 Axes>"
      ]
     },
     "metadata": {
      "needs_background": "light"
     },
     "output_type": "display_data"
    },
    {
     "data": {
      "image/png": "[encoded data removed]",
      "text/plain": [
       "<Figure size 432x288 with 1 Axes>"
      ]
     },
     "metadata": {
      "needs_background": "light"
     },
     "output_type": "display_data"
    },
    {
     "data": {
      "image/png": "[encoded data removed]",
      "text/plain": [
       "<Figure size 432x288 with 1 Axes>"
      ]
     },
     "metadata": {
      "needs_background": "light"
     },
     "output_type": "display_data"
    },
    {
     "data": {
      "image/png": "[encoded data removed]",
      "text/plain": [
       "<Figure size 432x288 with 1 Axes>"
      ]
     },
     "metadata": {
      "needs_background": "light"
     },
     "output_type": "display_data"
    },
    {
     "data": {
      "image/png": "[encoded data removed]",
      "text/plain": [
       "<Figure size 432x288 with 1 Axes>"
      ]
     },
     "metadata": {
      "needs_background": "light"
     },
     "output_type": "display_data"
    },
    {
     "data": {
      "image/png": "[encoded data removed]",
      "text/plain": [
       "<Figure size 432x288 with 1 Axes>"
      ]
     },
     "metadata": {
      "needs_background": "light"
     },
     "output_type": "display_data"
    },
    {
     "data": {
      "image/png": "[encoded data removed]",
      "text/plain": [
       "<Figure size 432x288 with 1 Axes>"
      ]
     },
     "metadata": {
      "needs_background": "light"
     },
     "output_type": "display_data"
    }
   ],
   "source": [
    "# Построим ящик с усами(боксплоты) после очистки от аномальных значений\n",
    "columns_list = ['total_images', 'last_price', 'total_area',\n",
    "       'rooms', 'ceiling_height', 'floors_total', 'living_area', 'floor',\n",
    "          'kitchen_area', 'balcony',\n",
    "        'airports_nearest', 'city_centers_nearest',\n",
    "       'parks_around_3000', 'parks_nearest', 'ponds_around_3000',\n",
    "       ]\n",
    "for col in columns_list:\n",
    "    df.boxplot(column=col, grid=True)\n",
    "    plt.show()"
   ]
  },
  {
   "cell_type": "markdown",
   "metadata": {},
   "source": [
    "Комментарии: Избавились от хвостов в данных."
   ]
  },
  {
   "cell_type": "markdown",
   "metadata": {},
   "source": [
    "### Посчитаем  и добавим в таблицу новые столбцы для нашего анализа"
   ]
  },
  {
   "cell_type": "code",
   "execution_count": 20,
   "metadata": {},
   "outputs": [],
   "source": [
    "# Добавим новый столбец price_m характеризующий цену за квадратный метр\n",
    "df['price_m'] = df['last_price'] / df['total_area']/1000\n"
   ]
  },
  {
   "cell_type": "code",
   "execution_count": 21,
   "metadata": {},
   "outputs": [
    {
     "data": {
      "text/plain": [
       "1    3238\n",
       "3    3228\n",
       "2    3091\n",
       "4    3074\n",
       "0    2759\n",
       "5    1501\n",
       "6    1287\n",
       "Name: weekday_exposition, dtype: int64"
      ]
     },
     "execution_count": 21,
     "metadata": {},
     "output_type": "execute_result"
    }
   ],
   "source": [
    "# Добавим новый столбец weekday_exposition отобрающий день недели \n",
    "df['weekday_exposition'] = df['first_day_exposition'].dt.weekday\n",
    "df['weekday_exposition'].value_counts()"
   ]
  },
  {
   "cell_type": "code",
   "execution_count": 22,
   "metadata": {},
   "outputs": [
    {
     "data": {
      "text/plain": [
       "2     2034\n",
       "3     1958\n",
       "4     1808\n",
       "11    1801\n",
       "10    1662\n",
       "9     1515\n",
       "6     1371\n",
       "8     1322\n",
       "7     1275\n",
       "12    1274\n",
       "1     1168\n",
       "5      990\n",
       "Name: month_exposition, dtype: int64"
      ]
     },
     "execution_count": 22,
     "metadata": {},
     "output_type": "execute_result"
    }
   ],
   "source": [
    "# Добавим новый столбец month_exposition отобрающий месяц\n",
    "df['month_exposition'] = df['first_day_exposition'].dt.month \n",
    "df['month_exposition'].value_counts()"
   ]
  },
  {
   "cell_type": "code",
   "execution_count": 23,
   "metadata": {},
   "outputs": [
    {
     "data": {
      "text/plain": [
       "2018    6565\n",
       "2017    6344\n",
       "2019    2180\n",
       "2016    2165\n",
       "2015     846\n",
       "2014      78\n",
       "Name: year_exposition, dtype: int64"
      ]
     },
     "execution_count": 23,
     "metadata": {},
     "output_type": "execute_result"
    }
   ],
   "source": [
    "# Добавим новый столбец year_exposition отобрающий год\n",
    "df['year_exposition'] = df['first_day_exposition'].dt.year\n",
    "df['year_exposition'].value_counts()"
   ]
  },
  {
   "cell_type": "code",
   "execution_count": 24,
   "metadata": {},
   "outputs": [
    {
     "data": {
      "text/plain": [
       "other    13395\n",
       "last      2459\n",
       "first     2324\n",
       "Name: floor_type, dtype: int64"
      ]
     },
     "execution_count": 24,
     "metadata": {},
     "output_type": "execute_result"
    }
   ],
   "source": [
    "# Добавим новый столбец floor_type в котором будут только 3 значения  этажей\n",
    "df['floor_type'] = ['other']*len(df)\n",
    "df.loc[df['floor'] == 1, 'floor_type'] = 'first'\n",
    "df.loc[df['floor'] == df['floors_total'], 'floor_type'] = 'last'\n",
    "df['floor_type'].value_counts()"
   ]
  },
  {
   "cell_type": "code",
   "execution_count": 25,
   "metadata": {},
   "outputs": [],
   "source": [
    "df.insert(18, 'city_centers_nearest_km', round((df['city_centers_nearest'] / 1000),0), False)"
   ]
  },
  {
   "cell_type": "markdown",
   "metadata": {},
   "source": [
    "### Проведите исследовательский анализ данных"
   ]
  },
  {
   "cell_type": "code",
   "execution_count": 26,
   "metadata": {},
   "outputs": [
    {
     "data": {
      "text/plain": [
       "<AxesSubplot:ylabel='Frequency'>"
      ]
     },
     "execution_count": 26,
     "metadata": {},
     "output_type": "execute_result"
    },
    {
     "data": {
      "image/png": "[encoded data removed]",
      "text/plain": [
       "<Figure size 432x288 with 1 Axes>"
      ]
     },
     "metadata": {
      "needs_background": "light"
     },
     "output_type": "display_data"
    }
   ],
   "source": [
    "# Построим график распределения общей площади квартир\n",
    "df.plot(kind='hist', y = 'total_area', histtype='step', range=(0, 200), bins=100, linewidth=5, alpha=0.7, label='filtered', grid=True,\n",
    "    legend=True)"
   ]
  },
  {
   "cell_type": "markdown",
   "metadata": {},
   "source": [
    "Комментарии  : Как показано на графике большая часть объявлений составляет с площадью от 30 до 60 кв.м. Пик приходится в районе 40-45 кв.м"
   ]
  },
  {
   "cell_type": "code",
   "execution_count": 27,
   "metadata": {},
   "outputs": [
    {
     "data": {
      "image/png": "[encoded data removed]",
      "text/plain": [
       "<Figure size 432x288 with 1 Axes>"
      ]
     },
     "metadata": {
      "needs_background": "light"
     },
     "output_type": "display_data"
    }
   ],
   "source": [
    "# Построим график распределения жилой площади квартир\n",
    "df.plot(kind='hist', y = 'living_area', histtype='step', range=(0, 200), bins=100, linewidth=5, alpha=0.7, label='filtered', grid=True,\n",
    "    legend=True);"
   ]
  },
  {
   "cell_type": "markdown",
   "metadata": {},
   "source": [
    "Комментарии  : Как показано на графике он меньше похож на нормальное распределение как на предыдущем график . Так возрастает график примерно на значении 15 кв.м(также вляется его пиковым значением). Дальше идет спад. И с площадью  30 кв.м опять увеличивается количество объявлений и ближе к значению 50 кв.м начинает спадать "
   ]
  },
  {
   "cell_type": "code",
   "execution_count": 28,
   "metadata": {},
   "outputs": [
    {
     "data": {
      "image/png": "[encoded data removed]",
      "text/plain": [
       "<Figure size 432x288 with 1 Axes>"
      ]
     },
     "metadata": {
      "needs_background": "light"
     },
     "output_type": "display_data"
    }
   ],
   "source": [
    "# Построим график распределения  площади кухни в  квартирах\n",
    "df.plot(kind='hist', y = 'kitchen_area', histtype='step', range=(0, 200), bins=100, linewidth=5, alpha=0.7, label='filtered', grid=True,\n",
    "    legend=True);"
   ]
  },
  {
   "cell_type": "markdown",
   "metadata": {},
   "source": [
    "Комментарии  : Из гистограммы видно что большинство объявлений с размером кухни составляет от 5 до 20 кв.м . Пиковым значением можно считать 15 кв.м"
   ]
  },
  {
   "cell_type": "code",
   "execution_count": 60,
   "metadata": {},
   "outputs": [
    {
     "data": {
      "image/png": "[encoded data removed]",
      "text/plain": [
       "<Figure size 432x288 with 1 Axes>"
      ]
     },
     "metadata": {
      "needs_background": "light"
     },
     "output_type": "display_data"
    }
   ],
   "source": [
    "# Построим ценовой  график распределения  квартир \n",
    "df['last_price'].hist(bins=100, range=(0,2e+07));"
   ]
  },
  {
   "cell_type": "code",
   "execution_count": 30,
   "metadata": {},
   "outputs": [
    {
     "data": {
      "text/plain": [
       "count    1.817800e+04\n",
       "mean     4.927006e+06\n",
       "std      2.889492e+06\n",
       "min      4.300000e+05\n",
       "25%      3.250000e+06\n",
       "50%      4.300000e+06\n",
       "75%      5.850000e+06\n",
       "max      3.226000e+07\n",
       "Name: last_price, dtype: float64"
      ]
     },
     "execution_count": 30,
     "metadata": {},
     "output_type": "execute_result"
    }
   ],
   "source": [
    "df['last_price'].describe()"
   ]
  },
  {
   "cell_type": "markdown",
   "metadata": {},
   "source": [
    "Комментарии  : Как видно из гистограммы по цене имеет нормальное распредление . Большинство значений приходтся от 2 500 000млн до 7 000 000 млн"
   ]
  },
  {
   "cell_type": "code",
   "execution_count": 31,
   "metadata": {},
   "outputs": [
    {
     "data": {
      "image/png": "[encoded data removed]",
      "text/plain": [
       "<Figure size 432x288 with 1 Axes>"
      ]
     },
     "metadata": {
      "needs_background": "light"
     },
     "output_type": "display_data"
    }
   ],
   "source": [
    "# Построим гистограмму распределния комнат в квартирах\n",
    "df['rooms'].hist(bins=10, range=(0,10));"
   ]
  },
  {
   "cell_type": "markdown",
   "metadata": {},
   "source": [
    "Комментарии студента : Как видно из гистограммы Большинство предложений приходтся на 1, 2, 3 числом комнат ."
   ]
  },
  {
   "cell_type": "code",
   "execution_count": 32,
   "metadata": {},
   "outputs": [
    {
     "data": {
      "image/png": "[encoded data removed]",
      "text/plain": [
       "<Figure size 432x288 with 1 Axes>"
      ]
     },
     "metadata": {
      "needs_background": "light"
     },
     "output_type": "display_data"
    }
   ],
   "source": [
    "# Построим гистограмму распределния высоты потолка в квартирах\n",
    "df['ceiling_height'].hist(bins=10);"
   ]
  },
  {
   "cell_type": "code",
   "execution_count": 33,
   "metadata": {},
   "outputs": [
    {
     "data": {
      "text/plain": [
       "count    18178.000000\n",
       "mean         2.692197\n",
       "std          0.150099\n",
       "min          1.000000\n",
       "25%          2.600000\n",
       "50%          2.730348\n",
       "75%          2.730348\n",
       "max          3.490000\n",
       "Name: ceiling_height, dtype: float64"
      ]
     },
     "execution_count": 33,
     "metadata": {},
     "output_type": "execute_result"
    }
   ],
   "source": [
    "df['ceiling_height'].describe()"
   ]
  },
  {
   "cell_type": "markdown",
   "metadata": {},
   "source": [
    "Комментарии  : В среднем в большинстве количестве объявлений преобладает высота потолка от 2.5м\n",
    "    "
   ]
  },
  {
   "cell_type": "code",
   "execution_count": 34,
   "metadata": {},
   "outputs": [
    {
     "data": {
      "text/plain": [
       "<AxesSubplot:>"
      ]
     },
     "execution_count": 34,
     "metadata": {},
     "output_type": "execute_result"
    },
    {
     "data": {
      "image/png": "[encoded data removed]",
      "text/plain": [
       "<Figure size 432x288 with 1 Axes>"
      ]
     },
     "metadata": {
      "needs_background": "light"
     },
     "output_type": "display_data"
    }
   ],
   "source": [
    "# Построим гистограмму распределния этажей в квартирах\n",
    "df['floor_type'].hist(bins=36)"
   ]
  },
  {
   "cell_type": "markdown",
   "metadata": {},
   "source": [
    "Комментарий  : Больше всего объявлений попадают не на первый и последний этажи, что в целом логично.\n",
    "Общее количество этажей в доме"
   ]
  },
  {
   "cell_type": "code",
   "execution_count": 35,
   "metadata": {},
   "outputs": [
    {
     "data": {
      "text/plain": [
       "<AxesSubplot:>"
      ]
     },
     "execution_count": 35,
     "metadata": {},
     "output_type": "execute_result"
    },
    {
     "data": {
      "image/png": "[encoded data removed]",
      "text/plain": [
       "<Figure size 432x288 with 1 Axes>"
      ]
     },
     "metadata": {
      "needs_background": "light"
     },
     "output_type": "display_data"
    }
   ],
   "source": [
    "# Построим гистограмму распределния количества этажей в квартирах\n",
    "df['floors_total'].hist(bins=36)"
   ]
  },
  {
   "cell_type": "markdown",
   "metadata": {},
   "source": [
    "Комментарии  : Больше всего объявлений из 5-ти этажек, дальше идут 10-ти этажные дома."
   ]
  },
  {
   "cell_type": "code",
   "execution_count": 36,
   "metadata": {},
   "outputs": [
    {
     "data": {
      "image/png": "[encoded data removed]",
      "text/plain": [
       "<Figure size 432x288 with 1 Axes>"
      ]
     },
     "metadata": {
      "needs_background": "light"
     },
     "output_type": "display_data"
    }
   ],
   "source": [
    "# Построим гистограмму распределния расстояния до центра города \n",
    "df['city_centers_nearest'].hist(bins=100);"
   ]
  },
  {
   "cell_type": "markdown",
   "metadata": {},
   "source": [
    "Комментарий  : Как видно из графика большинство объявлений связанны с расстояним до центра города в радиусе начиная от 11 до 18 ка."
   ]
  },
  {
   "cell_type": "code",
   "execution_count": 37,
   "metadata": {},
   "outputs": [
    {
     "data": {
      "image/png": "[encoded data removed]",
      "text/plain": [
       "<Figure size 432x288 with 1 Axes>"
      ]
     },
     "metadata": {
      "needs_background": "light"
     },
     "output_type": "display_data"
    }
   ],
   "source": [
    "# Построим гистограмму распределния расстояния до ближайшего аэропорта\n",
    "df['airports_nearest'].hist(bins=100);"
   ]
  },
  {
   "cell_type": "markdown",
   "metadata": {},
   "source": [
    "Комментарий  :Больше всего объявлений на расстоянии от 15 до 40 км.\n",
    "Расстояние до ближайшего аэропорта."
   ]
  },
  {
   "cell_type": "code",
   "execution_count": 38,
   "metadata": {},
   "outputs": [
    {
     "data": {
      "text/plain": [
       "<AxesSubplot:>"
      ]
     },
     "execution_count": 38,
     "metadata": {},
     "output_type": "execute_result"
    },
    {
     "data": {
      "image/png": "[encoded data removed]",
      "text/plain": [
       "<Figure size 432x288 with 1 Axes>"
      ]
     },
     "metadata": {
      "needs_background": "light"
     },
     "output_type": "display_data"
    }
   ],
   "source": [
    "# Построим гистограмму распределния расстояния до ближайшего парка\n",
    "df['parks_nearest'].hist(bins=50)"
   ]
  },
  {
   "cell_type": "code",
   "execution_count": 39,
   "metadata": {},
   "outputs": [
    {
     "data": {
      "text/plain": [
       "count    5191.000000\n",
       "mean      480.136390\n",
       "std       261.879077\n",
       "min         1.000000\n",
       "25%       307.000000\n",
       "50%       470.000000\n",
       "75%       620.000000\n",
       "max      2131.000000\n",
       "Name: parks_nearest, dtype: float64"
      ]
     },
     "execution_count": 39,
     "metadata": {},
     "output_type": "execute_result"
    }
   ],
   "source": [
    "df['parks_nearest'].describe()"
   ]
  },
  {
   "cell_type": "markdown",
   "metadata": {},
   "source": [
    "Комментарий : Из графика распределения мы видим что в большинстве объявлениий  расстояние до ближайщего парка  составялет от 400 до 600 метров . Пик объявлений приходится на расстояние 500 метров "
   ]
  },
  {
   "cell_type": "code",
   "execution_count": 40,
   "metadata": {},
   "outputs": [
    {
     "data": {
      "image/png": "[encoded data removed]",
      "text/plain": [
       "<Figure size 432x288 with 1 Axes>"
      ]
     },
     "metadata": {
      "needs_background": "light"
     },
     "output_type": "display_data"
    }
   ],
   "source": [
    "# Построим гистограмму распределния количества дней показа объявления\n",
    "df['days_exposition'].hist(bins=200);"
   ]
  },
  {
   "cell_type": "code",
   "execution_count": 41,
   "metadata": {},
   "outputs": [
    {
     "data": {
      "text/plain": [
       "count    15987.000000\n",
       "mean       172.017514\n",
       "std        210.456531\n",
       "min          1.000000\n",
       "25%         44.000000\n",
       "50%         90.000000\n",
       "75%        217.500000\n",
       "max       1580.000000\n",
       "Name: days_exposition, dtype: float64"
      ]
     },
     "execution_count": 41,
     "metadata": {},
     "output_type": "execute_result"
    }
   ],
   "source": [
    "df['days_exposition'].describe()"
   ]
  },
  {
   "cell_type": "markdown",
   "metadata": {},
   "source": [
    "Комментарий : Средний срок продажи квартир в районе 172 дней, т.е. около 6 - х месяцев, но если посмотреть на медианное значение то оно составляет всего лишь примерно 90 дней. В данном примере медиана более информативна нежели среднее "
   ]
  },
  {
   "cell_type": "code",
   "execution_count": 42,
   "metadata": {},
   "outputs": [
    {
     "data": {
      "text/plain": [
       "<AxesSubplot:>"
      ]
     },
     "execution_count": 42,
     "metadata": {},
     "output_type": "execute_result"
    },
    {
     "data": {
      "image/png": "[encoded data removed]",
      "text/plain": [
       "<Figure size 432x288 with 1 Axes>"
      ]
     },
     "metadata": {
      "needs_background": "light"
     },
     "output_type": "display_data"
    }
   ],
   "source": [
    "# Построим гистограмму распределния по  дням  показа объявления\n",
    "df['weekday_exposition'].hist(bins=100)"
   ]
  },
  {
   "cell_type": "markdown",
   "metadata": {},
   "source": [
    "Комментарий студента : Как видно из гистограммы частот больше всего объявлений на день недели (вторник, среда, четверг)"
   ]
  },
  {
   "cell_type": "code",
   "execution_count": 43,
   "metadata": {},
   "outputs": [
    {
     "data": {
      "text/plain": [
       "<AxesSubplot:>"
      ]
     },
     "execution_count": 43,
     "metadata": {},
     "output_type": "execute_result"
    },
    {
     "data": {
      "image/png": "[encoded data removed]",
      "text/plain": [
       "<Figure size 432x288 with 1 Axes>"
      ]
     },
     "metadata": {
      "needs_background": "light"
     },
     "output_type": "display_data"
    }
   ],
   "source": [
    "# Построим гистограмму распределния по  месяцу  показа объявления\n",
    "df['month_exposition'].hist(bins=50)"
   ]
  },
  {
   "cell_type": "markdown",
   "metadata": {},
   "source": [
    "Комментарий студента : Как видно из гистограммы частот большинстов объявлений приходится на (2,3,4)месяца"
   ]
  },
  {
   "cell_type": "code",
   "execution_count": 44,
   "metadata": {},
   "outputs": [
    {
     "data": {
      "text/plain": [
       "<AxesSubplot:>"
      ]
     },
     "execution_count": 44,
     "metadata": {},
     "output_type": "execute_result"
    },
    {
     "data": {
      "image/png": "[encoded data removed]",
      "text/plain": [
       "<Figure size 432x288 with 1 Axes>"
      ]
     },
     "metadata": {
      "needs_background": "light"
     },
     "output_type": "display_data"
    }
   ],
   "source": [
    "# Построим гистограмму распределния по  году  показа объявления\n",
    "df['year_exposition'].hist(bins=50)"
   ]
  },
  {
   "cell_type": "markdown",
   "metadata": {},
   "source": [
    "Комментарий студента : Как видно из гистограммы частот большинство объявлений приходится на 2017 и 2018 года"
   ]
  },
  {
   "cell_type": "code",
   "execution_count": 45,
   "metadata": {},
   "outputs": [
    {
     "data": {
      "text/plain": [
       "<AxesSubplot:xlabel='last_price', ylabel='total_area'>"
      ]
     },
     "execution_count": 45,
     "metadata": {},
     "output_type": "execute_result"
    },
    {
     "data": {
      "image/png": "[encoded data removed]",
      "text/plain": [
       "<Figure size 432x288 with 1 Axes>"
      ]
     },
     "metadata": {
      "needs_background": "light"
     },
     "output_type": "display_data"
    }
   ],
   "source": [
    "# Построим график  рассеяния общей площади относительно цены \n",
    "df.plot(x='last_price', y='total_area', kind ='scatter', alpha=0.2)"
   ]
  },
  {
   "cell_type": "code",
   "execution_count": 46,
   "metadata": {},
   "outputs": [
    {
     "data": {
      "text/plain": [
       "<AxesSubplot:xlabel='last_price', ylabel='living_area'>"
      ]
     },
     "execution_count": 46,
     "metadata": {},
     "output_type": "execute_result"
    },
    {
     "data": {
      "image/png": "[encoded data removed]",
      "text/plain": [
       "<Figure size 432x288 with 1 Axes>"
      ]
     },
     "metadata": {
      "needs_background": "light"
     },
     "output_type": "display_data"
    }
   ],
   "source": [
    "# Построим график  рассеяния жилой площади относительно цены \n",
    "df.plot(x='last_price', y='living_area', kind ='scatter', alpha=0.2)"
   ]
  },
  {
   "cell_type": "code",
   "execution_count": 47,
   "metadata": {},
   "outputs": [
    {
     "data": {
      "text/plain": [
       "<AxesSubplot:xlabel='last_price', ylabel='kitchen_area'>"
      ]
     },
     "execution_count": 47,
     "metadata": {},
     "output_type": "execute_result"
    },
    {
     "data": {
      "image/png": "[encoded data removed]",
      "text/plain": [
       "<Figure size 432x288 with 1 Axes>"
      ]
     },
     "metadata": {
      "needs_background": "light"
     },
     "output_type": "display_data"
    }
   ],
   "source": [
    "# Построим график  рассеяния  площади кухни относительно цены \n",
    "df.plot(x='last_price', y='kitchen_area', kind ='scatter', alpha=0.2)"
   ]
  },
  {
   "cell_type": "code",
   "execution_count": 48,
   "metadata": {},
   "outputs": [
    {
     "data": {
      "text/plain": [
       "0.7215063133682527"
      ]
     },
     "execution_count": 48,
     "metadata": {},
     "output_type": "execute_result"
    }
   ],
   "source": [
    "# Найдем коэффицент корреляции между ценой и общей площадью\n",
    "df['last_price'].corr(df['total_area'])"
   ]
  },
  {
   "cell_type": "code",
   "execution_count": 49,
   "metadata": {},
   "outputs": [
    {
     "data": {
      "text/plain": [
       "0.550755121351962"
      ]
     },
     "execution_count": 49,
     "metadata": {},
     "output_type": "execute_result"
    }
   ],
   "source": [
    "# Найдем коэффицент корреляции между ценой и  площадью кухни\n",
    "df['last_price'].corr(df['kitchen_area'])"
   ]
  },
  {
   "cell_type": "code",
   "execution_count": 50,
   "metadata": {},
   "outputs": [
    {
     "data": {
      "text/plain": [
       "0.5995819565866555"
      ]
     },
     "execution_count": 50,
     "metadata": {},
     "output_type": "execute_result"
    }
   ],
   "source": [
    "# Найдем коэффицент корреляции между ценой и общей площадью\n",
    "df['last_price'].corr(df['living_area'])"
   ]
  },
  {
   "cell_type": "markdown",
   "metadata": {},
   "source": [
    "Комментарии  : Как видно из диаграммы рассеяния и вычисления коэффицента корреляции наибольшая связь цены объекта наблюдается с общей площадью значение (0.65). Остальные два параментра таких как жилая площадь и площадь кухни коррелирует меньше с общей ценой объекта "
   ]
  },
  {
   "cell_type": "code",
   "execution_count": 51,
   "metadata": {},
   "outputs": [
    {
     "data": {
      "text/plain": [
       "<AxesSubplot:xlabel='rooms'>"
      ]
     },
     "execution_count": 51,
     "metadata": {},
     "output_type": "execute_result"
    },
    {
     "data": {
      "image/png": "[encoded data removed]",
      "text/plain": [
       "<Figure size 432x288 with 1 Axes>"
      ]
     },
     "metadata": {
      "needs_background": "light"
     },
     "output_type": "display_data"
    }
   ],
   "source": [
    "# Построим  столбчатую диаграмму на основании сводной таблицы где на оси х у нас будет цена квартиры  исходя из количества комнат\n",
    "df.pivot_table(index='rooms', values='last_price').plot(y='last_price', kind ='bar')"
   ]
  },
  {
   "cell_type": "markdown",
   "metadata": {},
   "source": [
    "Комментарии  : С увеличением количеством комнат увеличивается и цена"
   ]
  },
  {
   "cell_type": "code",
   "execution_count": 52,
   "metadata": {},
   "outputs": [
    {
     "data": {
      "text/plain": [
       "<AxesSubplot:xlabel='floor_type'>"
      ]
     },
     "execution_count": 52,
     "metadata": {},
     "output_type": "execute_result"
    },
    {
     "data": {
      "image/png": "[encoded data removed]",
      "text/plain": [
       "<Figure size 432x288 with 1 Axes>"
      ]
     },
     "metadata": {
      "needs_background": "light"
     },
     "output_type": "display_data"
    }
   ],
   "source": [
    "# Построим  столбчатую диаграмму на основании сводной таблицы где на оси х у нас будет цена квартиры  исходя из этажа в квартире\n",
    "df.pivot_table(index='floor_type', values='last_price').plot(y='last_price', kind ='bar')"
   ]
  },
  {
   "cell_type": "markdown",
   "metadata": {},
   "source": [
    "Комментарии  : У первого и последнего этажа цена ниже чем у остальных"
   ]
  },
  {
   "cell_type": "code",
   "execution_count": 53,
   "metadata": {},
   "outputs": [
    {
     "data": {
      "image/png": "[encoded data removed]",
      "text/plain": [
       "<Figure size 432x288 with 1 Axes>"
      ]
     },
     "metadata": {
      "needs_background": "light"
     },
     "output_type": "display_data"
    }
   ],
   "source": [
    "# Построим линейный график на основании сводной таблицы где на оси х у нас будет цена квартиры  исходя из дня публицкации объявления\n",
    "df.pivot_table(index='weekday_exposition', values='last_price', \n",
    "aggfunc='mean').plot(y='last_price', kind ='line', title='mean');"
   ]
  },
  {
   "cell_type": "markdown",
   "metadata": {},
   "source": [
    "Комментарии  : Из графика видно что цена объявлений выше когда публикуется в среду и опускается после среды"
   ]
  },
  {
   "cell_type": "code",
   "execution_count": 54,
   "metadata": {},
   "outputs": [
    {
     "data": {
      "image/png": "[encoded data removed]",
      "text/plain": [
       "<Figure size 432x288 with 1 Axes>"
      ]
     },
     "metadata": {
      "needs_background": "light"
     },
     "output_type": "display_data"
    }
   ],
   "source": [
    "# Построим линейный график на основании сводной таблицы где на оси х у нас будет цена квартиры  исходя из месяца публицкации объявления\n",
    "df.pivot_table(index='month_exposition', values='last_price', \n",
    "aggfunc='mean').plot(y='last_price', kind ='line', title='median');"
   ]
  },
  {
   "cell_type": "markdown",
   "metadata": {},
   "source": [
    "Комментарий  : Высокие цены мы наблюдаем в объявлениях сентября и ноября "
   ]
  },
  {
   "cell_type": "code",
   "execution_count": 61,
   "metadata": {},
   "outputs": [
    {
     "data": {
      "text/plain": [
       "<AxesSubplot:title={'center':'mean'}, xlabel='year_exposition'>"
      ]
     },
     "execution_count": 61,
     "metadata": {},
     "output_type": "execute_result"
    },
    {
     "data": {
      "image/png": "[encoded data removed]",
      "text/plain": [
       "<Figure size 432x288 with 1 Axes>"
      ]
     },
     "metadata": {
      "needs_background": "light"
     },
     "output_type": "display_data"
    }
   ],
   "source": [
    "# Построим линейный график на основании сводной таблицы где на оси х у нас будет цена квартиры  исходя из года публицкации объявления\n",
    "df.pivot_table(index='year_exposition', values='last_price', \n",
    "aggfunc='mean').plot(y='last_price', kind ='line', title='mean')"
   ]
  },
  {
   "cell_type": "markdown",
   "metadata": {},
   "source": [
    "Комментарий  : Самое пиковое значение цены мы наблюдаем в 2014 году. Дальше идет спад вплоть до 2018"
   ]
  },
  {
   "cell_type": "code",
   "execution_count": 56,
   "metadata": {},
   "outputs": [],
   "source": [
    "# Отберем топ 10 населенных пунктов по количеству объявлений\n",
    "top_10 = df['locality_name'].value_counts().index[0:10]"
   ]
  },
  {
   "cell_type": "code",
   "execution_count": 57,
   "metadata": {},
   "outputs": [
    {
     "data": {
      "image/png": "[encoded data removed]",
      "text/plain": [
       "<Figure size 432x288 with 1 Axes>"
      ]
     },
     "metadata": {
      "needs_background": "light"
     },
     "output_type": "display_data"
    }
   ],
   "source": [
    "# Построим гистограмму с вертикальной ориентацией столбцов ценового ориентира  квадратного метра в населенных пунктах топ 10 \n",
    "df.query('locality_name in @top_10').pivot_table(index='locality_name', values='price_m', \n",
    "aggfunc='mean').sort_values(by='price_m',ascending=False).plot(kind='barh');"
   ]
  },
  {
   "cell_type": "markdown",
   "metadata": {},
   "source": [
    "Комментарии  : Среди 10 населённых пунктов с наибольшим числом объявлений самая высока цена за \n",
    "кв.м. в Санкт-Петербурге, самая низкая в Выборге."
   ]
  },
  {
   "cell_type": "code",
   "execution_count": 58,
   "metadata": {},
   "outputs": [],
   "source": [
    "# Оберем объявления где населенный пункт Санкт-Петербург\n",
    "SPB = df[df['locality_name'] == 'Санкт-Петербург']"
   ]
  },
  {
   "cell_type": "code",
   "execution_count": 59,
   "metadata": {},
   "outputs": [
    {
     "data": {
      "text/plain": [
       "<AxesSubplot:xlabel='city_centers_nearest_km'>"
      ]
     },
     "execution_count": 59,
     "metadata": {},
     "output_type": "execute_result"
    },
    {
     "data": {
      "image/png": "[encoded data removed]",
      "text/plain": [
       "<Figure size 432x288 with 1 Axes>"
      ]
     },
     "metadata": {
      "needs_background": "light"
     },
     "output_type": "display_data"
    }
   ],
   "source": [
    "# Построим стобцатую диаграмму  ценового ориентира квадратного метра в зависимости от расстояния до центра в Санкт Петербурге\n",
    "SPB.pivot_table(index='city_centers_nearest_km', values='price_m', \n",
    "aggfunc='mean').plot(kind='bar')"
   ]
  },
  {
   "cell_type": "markdown",
   "metadata": {},
   "source": [
    "Комментарий  : Как видно из гистограммы частот чем ближе к центру тем соотвественно цена выше это логично . Дальше от центра цена убывает "
   ]
  },
  {
   "cell_type": "markdown",
   "metadata": {},
   "source": [
    "### Общий вывод"
   ]
  },
  {
   "cell_type": "markdown",
   "metadata": {},
   "source": [
    "Был проанализирован датасет объявлений о продаже недвижимости в Санкт-Петербурге и \n",
    "окрестностях за период с конца 2014-го по середину 2019-го года. Основное количество \n",
    "объявлений на рынке недвижимости предлагает объекты площадью от 30 до 60 кв.м. \n",
    "Большинство планировок имеет высоту потолков 2.5 м. свыше 1000 объявлений \n",
    "Больше всего объявлений \n",
    "попадают не на первый и последний этажи, но, несмотря на данный факт, цена на \n",
    "последние этажи самая высокая. Больше всего объявлений в 5-ти этажных домах, дальше \n",
    "идут 10-ти этажные дома. Цена объекта связана с общей площадью. \n",
    "Больше всего объявлений предполагает квартиры с 1,2,3 комнатами\n",
    ". Основное кол-во объявлений по недорогим объектам, чем цена выше, \n",
    "тем объявлений меньше. Чаще всего объявления выкладывают в будние дни в равных \n",
    "пропорциях. По месяцам заметен спад в декабре-январе и с мая по август. Наиболее \n",
    "популярный месяц - февраль и март. По году - пик размещения объявления приходится на \n",
    "2017-2018 год. Интересно, что цена выше, если объявления публикуют в четверг. \n",
    "Следующий пик заметен в субботу. Самая высокие цены наблюдаются при публикациях в \n",
    "апреле, июле и стабильный рост от октября до конца декабря. По году заметно снижении \n",
    "цены до 2018 года, видимо, это связано с эконмичсекой ситуацией. После 18 года цена \n",
    "начинает немного расти. Чем ближе к центру, тем цена выше. Также стоит отметить \n",
    "всплеск цены в районе 27 км. - видимо, это район с элитной недвижимостью в курортных \n",
    "поселках. Также в ходе исследования мы выявили корреляцию цены по отношению к общей площади, жилой площади и площади кухни. В ходе исследования привышли к выводу что цена больше коррелирует с общей площадью нежели с другими 2 параментрами (жилой площади и площади кухни) отсюда можно сделать вывод о том что цена в большей степени зависит именно от общей площади обхекта. Отдельно стоит проработать гипотезы об изменении цены в разных дня , месяцах. \n"
   ]
  },
  {
   "cell_type": "code",
   "execution_count": null,
   "metadata": {},
   "outputs": [],
   "source": []
  }
 ],
 "metadata": {
  "ExecuteTimeLog": [
   {
    "duration": 545,
    "start_time": "2023-04-23T11:57:45.689Z"
   },
   {
    "duration": 181,
    "start_time": "2023-04-23T11:57:54.134Z"
   },
   {
    "duration": 138,
    "start_time": "2023-04-23T11:58:08.666Z"
   },
   {
    "duration": 112,
    "start_time": "2023-04-23T12:00:17.960Z"
   },
   {
    "duration": 833,
    "start_time": "2023-04-23T12:01:57.471Z"
   },
   {
    "duration": 1649,
    "start_time": "2023-04-23T12:02:35.605Z"
   },
   {
    "duration": 261,
    "start_time": "2023-04-23T12:02:42.806Z"
   },
   {
    "duration": 258,
    "start_time": "2023-04-23T12:03:29.775Z"
   },
   {
    "duration": 361,
    "start_time": "2023-04-23T12:05:39.182Z"
   },
   {
    "duration": 207,
    "start_time": "2023-04-23T12:06:43.907Z"
   },
   {
    "duration": 157,
    "start_time": "2023-04-23T12:07:29.105Z"
   },
   {
    "duration": 142,
    "start_time": "2023-04-23T12:07:42.972Z"
   },
   {
    "duration": 15,
    "start_time": "2023-04-23T12:07:56.743Z"
   },
   {
    "duration": 111,
    "start_time": "2023-04-23T12:08:17.957Z"
   },
   {
    "duration": 142,
    "start_time": "2023-04-23T12:08:30.433Z"
   },
   {
    "duration": 4,
    "start_time": "2023-04-23T12:08:39.154Z"
   },
   {
    "duration": 33,
    "start_time": "2023-04-23T12:08:50.786Z"
   },
   {
    "duration": 29,
    "start_time": "2023-04-23T12:09:20.602Z"
   },
   {
    "duration": 31,
    "start_time": "2023-04-23T12:09:35.995Z"
   },
   {
    "duration": 10,
    "start_time": "2023-04-23T12:09:51.265Z"
   },
   {
    "duration": 30,
    "start_time": "2023-04-23T12:09:59.451Z"
   },
   {
    "duration": 27,
    "start_time": "2023-04-23T12:10:13.443Z"
   },
   {
    "duration": 103,
    "start_time": "2023-04-23T12:10:42.961Z"
   },
   {
    "duration": 134,
    "start_time": "2023-04-23T12:11:31.598Z"
   },
   {
    "duration": 111,
    "start_time": "2023-04-23T12:11:41.304Z"
   },
   {
    "duration": 512,
    "start_time": "2023-04-23T13:27:59.321Z"
   },
   {
    "duration": 5,
    "start_time": "2023-04-23T13:27:59.835Z"
   },
   {
    "duration": 70,
    "start_time": "2023-04-23T13:31:20.729Z"
   },
   {
    "duration": 4,
    "start_time": "2023-04-23T13:31:25.202Z"
   },
   {
    "duration": 5,
    "start_time": "2023-04-23T13:31:53.056Z"
   },
   {
    "duration": 5,
    "start_time": "2023-04-23T13:32:18.161Z"
   },
   {
    "duration": 3,
    "start_time": "2023-04-23T13:33:09.930Z"
   },
   {
    "duration": 3,
    "start_time": "2023-04-23T13:35:25.435Z"
   },
   {
    "duration": 3,
    "start_time": "2023-04-23T13:35:27.034Z"
   },
   {
    "duration": 9,
    "start_time": "2023-04-23T13:36:54.237Z"
   },
   {
    "duration": 12,
    "start_time": "2023-04-23T13:37:02.421Z"
   },
   {
    "duration": 8,
    "start_time": "2023-04-23T13:37:49.497Z"
   },
   {
    "duration": 6,
    "start_time": "2023-04-23T13:39:00.501Z"
   },
   {
    "duration": 11,
    "start_time": "2023-04-23T13:41:01.400Z"
   },
   {
    "duration": 9,
    "start_time": "2023-04-23T13:41:07.233Z"
   },
   {
    "duration": 8,
    "start_time": "2023-04-23T13:41:25.969Z"
   },
   {
    "duration": 6,
    "start_time": "2023-04-23T13:41:41.351Z"
   },
   {
    "duration": 7,
    "start_time": "2023-04-23T13:41:58.063Z"
   },
   {
    "duration": 123,
    "start_time": "2023-04-23T13:46:12.441Z"
   },
   {
    "duration": 50,
    "start_time": "2023-04-23T13:49:08.327Z"
   },
   {
    "duration": 8,
    "start_time": "2023-04-23T13:49:18.794Z"
   },
   {
    "duration": 30,
    "start_time": "2023-04-23T13:49:41.848Z"
   },
   {
    "duration": 5,
    "start_time": "2023-04-23T13:51:11.396Z"
   },
   {
    "duration": 7,
    "start_time": "2023-04-23T13:51:14.102Z"
   },
   {
    "duration": 59,
    "start_time": "2023-04-23T13:52:46.398Z"
   },
   {
    "duration": 25,
    "start_time": "2023-04-23T13:53:02.342Z"
   },
   {
    "duration": 26,
    "start_time": "2023-04-23T13:53:06.996Z"
   },
   {
    "duration": 7,
    "start_time": "2023-04-23T13:55:31.361Z"
   },
   {
    "duration": 26,
    "start_time": "2023-04-23T13:55:40.325Z"
   },
   {
    "duration": 4,
    "start_time": "2023-04-23T13:56:05.731Z"
   },
   {
    "duration": 15,
    "start_time": "2023-04-23T13:56:07.127Z"
   },
   {
    "duration": 6,
    "start_time": "2023-04-23T13:56:29.729Z"
   },
   {
    "duration": 868,
    "start_time": "2023-04-24T05:57:46.927Z"
   },
   {
    "duration": 72,
    "start_time": "2023-04-24T05:57:47.797Z"
   },
   {
    "duration": 0,
    "start_time": "2023-04-24T05:57:47.871Z"
   },
   {
    "duration": 0,
    "start_time": "2023-04-24T05:57:47.872Z"
   },
   {
    "duration": 0,
    "start_time": "2023-04-24T05:57:47.874Z"
   },
   {
    "duration": 0,
    "start_time": "2023-04-24T05:57:47.875Z"
   },
   {
    "duration": 123,
    "start_time": "2023-04-24T05:58:31.911Z"
   },
   {
    "duration": 22,
    "start_time": "2023-04-24T05:58:47.529Z"
   },
   {
    "duration": 102,
    "start_time": "2023-04-24T05:59:10.550Z"
   },
   {
    "duration": 78,
    "start_time": "2023-04-24T05:59:24.347Z"
   },
   {
    "duration": 5,
    "start_time": "2023-04-24T05:59:31.535Z"
   },
   {
    "duration": 83,
    "start_time": "2023-04-24T06:01:40.711Z"
   },
   {
    "duration": 10,
    "start_time": "2023-04-24T06:01:44.889Z"
   },
   {
    "duration": 14,
    "start_time": "2023-04-24T06:02:46.269Z"
   },
   {
    "duration": 8,
    "start_time": "2023-04-24T06:02:56.475Z"
   },
   {
    "duration": 16,
    "start_time": "2023-04-24T06:06:14.848Z"
   },
   {
    "duration": 10,
    "start_time": "2023-04-24T06:06:49.075Z"
   },
   {
    "duration": 5,
    "start_time": "2023-04-24T06:09:48.750Z"
   },
   {
    "duration": 16,
    "start_time": "2023-04-24T06:12:20.155Z"
   },
   {
    "duration": 9,
    "start_time": "2023-04-24T06:12:50.562Z"
   },
   {
    "duration": 12,
    "start_time": "2023-04-24T06:13:16.454Z"
   },
   {
    "duration": 11,
    "start_time": "2023-04-24T06:13:33.258Z"
   },
   {
    "duration": 15,
    "start_time": "2023-04-24T06:13:48.950Z"
   },
   {
    "duration": 34,
    "start_time": "2023-04-24T06:15:48.446Z"
   },
   {
    "duration": 7,
    "start_time": "2023-04-24T06:17:34.003Z"
   },
   {
    "duration": 36,
    "start_time": "2023-04-24T06:18:27.817Z"
   },
   {
    "duration": 32,
    "start_time": "2023-04-24T06:18:58.349Z"
   },
   {
    "duration": 27,
    "start_time": "2023-04-24T06:19:05.450Z"
   },
   {
    "duration": 26,
    "start_time": "2023-04-24T06:19:10.578Z"
   },
   {
    "duration": 23,
    "start_time": "2023-04-24T06:19:11.164Z"
   },
   {
    "duration": 36,
    "start_time": "2023-04-24T06:19:11.701Z"
   },
   {
    "duration": 547,
    "start_time": "2023-04-24T06:22:54.666Z"
   },
   {
    "duration": 20,
    "start_time": "2023-04-24T06:23:00.658Z"
   },
   {
    "duration": 20,
    "start_time": "2023-04-24T06:23:15.602Z"
   },
   {
    "duration": 1862,
    "start_time": "2023-04-24T06:23:42.516Z"
   },
   {
    "duration": 7,
    "start_time": "2023-04-24T06:24:01.496Z"
   },
   {
    "duration": 1564,
    "start_time": "2023-04-24T06:24:14.107Z"
   },
   {
    "duration": 1745,
    "start_time": "2023-04-24T06:24:24.732Z"
   },
   {
    "duration": 149,
    "start_time": "2023-04-24T06:25:24.169Z"
   },
   {
    "duration": 7,
    "start_time": "2023-04-24T06:27:09.019Z"
   },
   {
    "duration": 5,
    "start_time": "2023-04-24T06:27:28.978Z"
   },
   {
    "duration": 33,
    "start_time": "2023-04-24T06:33:00.719Z"
   },
   {
    "duration": 27,
    "start_time": "2023-04-24T06:35:42.595Z"
   },
   {
    "duration": 29,
    "start_time": "2023-04-24T06:36:09.515Z"
   },
   {
    "duration": 14,
    "start_time": "2023-04-24T06:36:22.275Z"
   },
   {
    "duration": 106,
    "start_time": "2023-04-24T06:36:57.898Z"
   },
   {
    "duration": 5,
    "start_time": "2023-04-24T06:37:08.884Z"
   },
   {
    "duration": 6,
    "start_time": "2023-04-24T06:37:21.782Z"
   },
   {
    "duration": 27,
    "start_time": "2023-04-24T06:38:11.151Z"
   },
   {
    "duration": 69,
    "start_time": "2023-04-24T06:45:10.232Z"
   },
   {
    "duration": 64,
    "start_time": "2023-04-24T06:59:26.058Z"
   },
   {
    "duration": 14,
    "start_time": "2023-04-24T06:59:43.446Z"
   },
   {
    "duration": 27,
    "start_time": "2023-04-24T07:01:16.034Z"
   },
   {
    "duration": 60,
    "start_time": "2023-04-24T07:01:36.267Z"
   },
   {
    "duration": 19,
    "start_time": "2023-04-24T07:02:10.280Z"
   },
   {
    "duration": 17,
    "start_time": "2023-04-24T07:02:12.885Z"
   },
   {
    "duration": 16,
    "start_time": "2023-04-24T07:02:24.759Z"
   },
   {
    "duration": 15,
    "start_time": "2023-04-24T07:02:35.492Z"
   },
   {
    "duration": 24,
    "start_time": "2023-04-24T07:03:55.338Z"
   },
   {
    "duration": 18,
    "start_time": "2023-04-24T07:04:58.260Z"
   },
   {
    "duration": 17,
    "start_time": "2023-04-24T07:05:00.403Z"
   },
   {
    "duration": 18,
    "start_time": "2023-04-24T07:05:07.484Z"
   },
   {
    "duration": 10,
    "start_time": "2023-04-24T07:05:09.759Z"
   },
   {
    "duration": 17,
    "start_time": "2023-04-24T07:05:29.069Z"
   },
   {
    "duration": 10,
    "start_time": "2023-04-24T07:05:29.648Z"
   },
   {
    "duration": 61,
    "start_time": "2023-04-24T07:05:32.404Z"
   },
   {
    "duration": 6,
    "start_time": "2023-04-24T07:05:32.901Z"
   },
   {
    "duration": 12,
    "start_time": "2023-04-24T07:05:47.820Z"
   },
   {
    "duration": 14,
    "start_time": "2023-04-24T07:05:53.890Z"
   },
   {
    "duration": 65,
    "start_time": "2023-04-24T09:13:26.949Z"
   },
   {
    "duration": 633,
    "start_time": "2023-04-24T09:15:48.855Z"
   },
   {
    "duration": 18,
    "start_time": "2023-04-24T09:15:49.490Z"
   },
   {
    "duration": 4,
    "start_time": "2023-04-24T09:15:49.510Z"
   },
   {
    "duration": 17,
    "start_time": "2023-04-24T09:15:49.516Z"
   },
   {
    "duration": 101,
    "start_time": "2023-04-24T09:15:49.536Z"
   },
   {
    "duration": 24,
    "start_time": "2023-04-24T09:15:49.639Z"
   },
   {
    "duration": 38,
    "start_time": "2023-04-24T09:15:49.665Z"
   },
   {
    "duration": 10,
    "start_time": "2023-04-24T09:15:49.704Z"
   },
   {
    "duration": 15,
    "start_time": "2023-04-24T09:15:49.715Z"
   },
   {
    "duration": 25,
    "start_time": "2023-04-24T09:20:37.944Z"
   },
   {
    "duration": 5,
    "start_time": "2023-04-24T09:21:16.011Z"
   },
   {
    "duration": 116,
    "start_time": "2023-04-24T09:22:09.773Z"
   },
   {
    "duration": 6,
    "start_time": "2023-04-24T09:23:05.629Z"
   },
   {
    "duration": 81,
    "start_time": "2023-04-24T09:29:59.479Z"
   },
   {
    "duration": 56,
    "start_time": "2023-04-24T09:30:44.565Z"
   },
   {
    "duration": 20,
    "start_time": "2023-04-24T09:30:56.387Z"
   },
   {
    "duration": 104,
    "start_time": "2023-04-24T09:31:06.655Z"
   },
   {
    "duration": 30,
    "start_time": "2023-04-24T09:31:09.356Z"
   },
   {
    "duration": 35,
    "start_time": "2023-04-24T09:31:12.133Z"
   },
   {
    "duration": 11,
    "start_time": "2023-04-24T09:31:13.626Z"
   },
   {
    "duration": 14,
    "start_time": "2023-04-24T09:34:25.359Z"
   },
   {
    "duration": 596,
    "start_time": "2023-04-24T09:47:00.202Z"
   },
   {
    "duration": 129,
    "start_time": "2023-04-24T09:47:18.729Z"
   },
   {
    "duration": 228,
    "start_time": "2023-04-24T09:47:21.940Z"
   },
   {
    "duration": 131,
    "start_time": "2023-04-24T09:47:26.456Z"
   },
   {
    "duration": 179,
    "start_time": "2023-04-24T09:47:41.439Z"
   },
   {
    "duration": 155,
    "start_time": "2023-04-24T09:48:14.760Z"
   },
   {
    "duration": 173,
    "start_time": "2023-04-24T09:49:22.549Z"
   },
   {
    "duration": 325,
    "start_time": "2023-04-24T09:52:05.951Z"
   },
   {
    "duration": 162,
    "start_time": "2023-04-24T09:52:11.087Z"
   },
   {
    "duration": 8,
    "start_time": "2023-04-24T09:52:35.816Z"
   },
   {
    "duration": 174,
    "start_time": "2023-04-24T09:52:59.789Z"
   },
   {
    "duration": 189,
    "start_time": "2023-04-24T09:53:07.316Z"
   },
   {
    "duration": 41,
    "start_time": "2023-04-24T12:12:35.076Z"
   },
   {
    "duration": 6,
    "start_time": "2023-04-24T12:13:11.614Z"
   },
   {
    "duration": 566,
    "start_time": "2023-04-24T12:13:18.074Z"
   },
   {
    "duration": 15,
    "start_time": "2023-04-24T12:13:18.642Z"
   },
   {
    "duration": 5,
    "start_time": "2023-04-24T12:13:18.659Z"
   },
   {
    "duration": 9,
    "start_time": "2023-04-24T12:13:18.667Z"
   },
   {
    "duration": 78,
    "start_time": "2023-04-24T12:13:18.678Z"
   },
   {
    "duration": 26,
    "start_time": "2023-04-24T12:13:18.758Z"
   },
   {
    "duration": 99,
    "start_time": "2023-04-24T12:13:18.785Z"
   },
   {
    "duration": 10,
    "start_time": "2023-04-24T12:13:18.886Z"
   },
   {
    "duration": 11,
    "start_time": "2023-04-24T12:13:18.897Z"
   },
   {
    "duration": 6,
    "start_time": "2023-04-24T12:13:39.867Z"
   },
   {
    "duration": 70,
    "start_time": "2023-04-24T12:14:05.395Z"
   },
   {
    "duration": 13,
    "start_time": "2023-04-24T12:14:12.282Z"
   },
   {
    "duration": 51,
    "start_time": "2023-04-24T12:15:04.341Z"
   },
   {
    "duration": 14,
    "start_time": "2023-04-24T12:15:06.712Z"
   },
   {
    "duration": 12,
    "start_time": "2023-04-24T12:16:41.349Z"
   },
   {
    "duration": 4,
    "start_time": "2023-04-24T12:17:42.241Z"
   },
   {
    "duration": 5,
    "start_time": "2023-04-24T12:17:56.078Z"
   },
   {
    "duration": 498,
    "start_time": "2023-04-24T12:18:24.010Z"
   },
   {
    "duration": 138,
    "start_time": "2023-04-24T12:19:00.320Z"
   },
   {
    "duration": 111,
    "start_time": "2023-04-24T12:19:37.876Z"
   },
   {
    "duration": 313,
    "start_time": "2023-04-24T12:19:56.044Z"
   },
   {
    "duration": 1517,
    "start_time": "2023-04-24T12:20:06.399Z"
   },
   {
    "duration": 259,
    "start_time": "2023-04-24T12:20:11.315Z"
   },
   {
    "duration": 158,
    "start_time": "2023-04-24T12:20:52.086Z"
   },
   {
    "duration": 134,
    "start_time": "2023-04-24T12:22:54.766Z"
   },
   {
    "duration": 9,
    "start_time": "2023-04-24T12:25:00.897Z"
   },
   {
    "duration": 116,
    "start_time": "2023-04-24T12:25:29.801Z"
   },
   {
    "duration": 137,
    "start_time": "2023-04-24T12:26:02.754Z"
   },
   {
    "duration": 51,
    "start_time": "2023-04-24T12:27:50.954Z"
   },
   {
    "duration": 9,
    "start_time": "2023-04-24T12:27:54.946Z"
   },
   {
    "duration": 7,
    "start_time": "2023-04-24T12:28:21.631Z"
   },
   {
    "duration": 10,
    "start_time": "2023-04-24T12:29:25.694Z"
   },
   {
    "duration": 9,
    "start_time": "2023-04-24T12:30:01.147Z"
   },
   {
    "duration": 9,
    "start_time": "2023-04-24T14:20:35.599Z"
   },
   {
    "duration": 5,
    "start_time": "2023-04-24T14:21:03.725Z"
   },
   {
    "duration": 284,
    "start_time": "2023-04-24T14:21:15.710Z"
   },
   {
    "duration": 186,
    "start_time": "2023-04-24T14:21:27.331Z"
   },
   {
    "duration": 11,
    "start_time": "2023-04-24T14:28:42.195Z"
   },
   {
    "duration": 554,
    "start_time": "2023-04-24T14:55:33.322Z"
   },
   {
    "duration": 28,
    "start_time": "2023-04-24T14:55:33.878Z"
   },
   {
    "duration": 7,
    "start_time": "2023-04-24T14:55:33.911Z"
   },
   {
    "duration": 14,
    "start_time": "2023-04-24T14:55:33.920Z"
   },
   {
    "duration": 102,
    "start_time": "2023-04-24T14:55:33.938Z"
   },
   {
    "duration": 43,
    "start_time": "2023-04-24T14:55:34.042Z"
   },
   {
    "duration": 38,
    "start_time": "2023-04-24T14:55:34.093Z"
   },
   {
    "duration": 12,
    "start_time": "2023-04-24T14:55:34.133Z"
   },
   {
    "duration": 28,
    "start_time": "2023-04-24T14:55:34.147Z"
   },
   {
    "duration": 12,
    "start_time": "2023-04-24T14:55:34.178Z"
   },
   {
    "duration": 735,
    "start_time": "2023-04-24T14:55:57.501Z"
   },
   {
    "duration": 254,
    "start_time": "2023-04-24T15:08:28.543Z"
   },
   {
    "duration": 311,
    "start_time": "2023-04-24T15:08:35.589Z"
   },
   {
    "duration": 1064,
    "start_time": "2023-04-25T09:59:57.391Z"
   },
   {
    "duration": 24,
    "start_time": "2023-04-25T09:59:58.458Z"
   },
   {
    "duration": 7,
    "start_time": "2023-04-25T09:59:58.484Z"
   },
   {
    "duration": 26,
    "start_time": "2023-04-25T09:59:58.493Z"
   },
   {
    "duration": 107,
    "start_time": "2023-04-25T09:59:58.521Z"
   },
   {
    "duration": 43,
    "start_time": "2023-04-25T09:59:58.630Z"
   },
   {
    "duration": 38,
    "start_time": "2023-04-25T09:59:58.675Z"
   },
   {
    "duration": 30,
    "start_time": "2023-04-25T09:59:58.715Z"
   },
   {
    "duration": 40,
    "start_time": "2023-04-25T09:59:58.747Z"
   },
   {
    "duration": 1194,
    "start_time": "2023-04-25T09:59:58.790Z"
   },
   {
    "duration": 58,
    "start_time": "2023-04-25T09:59:59.988Z"
   },
   {
    "duration": 31,
    "start_time": "2023-04-25T10:00:00.049Z"
   },
   {
    "duration": 1025,
    "start_time": "2023-04-25T10:00:00.083Z"
   },
   {
    "duration": 6,
    "start_time": "2023-04-25T10:00:46.936Z"
   },
   {
    "duration": 731,
    "start_time": "2023-04-25T10:01:02.568Z"
   },
   {
    "duration": 1995,
    "start_time": "2023-04-25T10:02:11.900Z"
   },
   {
    "duration": 3041,
    "start_time": "2023-04-25T10:02:55.429Z"
   },
   {
    "duration": 2744,
    "start_time": "2023-04-25T10:03:12.766Z"
   },
   {
    "duration": 79,
    "start_time": "2023-04-25T10:03:51.571Z"
   },
   {
    "duration": 28,
    "start_time": "2023-04-25T10:55:06.763Z"
   },
   {
    "duration": 964,
    "start_time": "2023-04-25T10:55:08.932Z"
   },
   {
    "duration": 1066,
    "start_time": "2023-04-25T10:59:15.061Z"
   },
   {
    "duration": 34,
    "start_time": "2023-04-25T10:59:16.130Z"
   },
   {
    "duration": 53,
    "start_time": "2023-04-25T10:59:16.168Z"
   },
   {
    "duration": 95,
    "start_time": "2023-04-25T10:59:16.225Z"
   },
   {
    "duration": 160,
    "start_time": "2023-04-25T10:59:16.322Z"
   },
   {
    "duration": 50,
    "start_time": "2023-04-25T10:59:16.485Z"
   },
   {
    "duration": 126,
    "start_time": "2023-04-25T10:59:16.537Z"
   },
   {
    "duration": 25,
    "start_time": "2023-04-25T10:59:16.666Z"
   },
   {
    "duration": 24,
    "start_time": "2023-04-25T10:59:16.694Z"
   },
   {
    "duration": 3265,
    "start_time": "2023-04-25T10:59:16.722Z"
   },
   {
    "duration": 132,
    "start_time": "2023-04-25T10:59:19.990Z"
   },
   {
    "duration": 58,
    "start_time": "2023-04-25T10:59:20.125Z"
   },
   {
    "duration": 1080,
    "start_time": "2023-04-25T10:59:20.186Z"
   },
   {
    "duration": 377,
    "start_time": "2023-04-25T11:00:12.171Z"
   },
   {
    "duration": 359,
    "start_time": "2023-04-25T11:00:39.567Z"
   },
   {
    "duration": 76,
    "start_time": "2023-04-25T11:02:15.805Z"
   },
   {
    "duration": 1048,
    "start_time": "2023-04-25T11:02:24.378Z"
   },
   {
    "duration": 2493,
    "start_time": "2023-04-25T11:02:49.735Z"
   },
   {
    "duration": 7,
    "start_time": "2023-04-25T11:32:36.178Z"
   },
   {
    "duration": 8,
    "start_time": "2023-04-25T11:33:01.316Z"
   },
   {
    "duration": 23,
    "start_time": "2023-04-25T11:34:11.131Z"
   },
   {
    "duration": 1313,
    "start_time": "2023-04-25T13:20:43.594Z"
   },
   {
    "duration": 16,
    "start_time": "2023-04-25T13:20:44.910Z"
   },
   {
    "duration": 4,
    "start_time": "2023-04-25T13:20:44.928Z"
   },
   {
    "duration": 26,
    "start_time": "2023-04-25T13:20:44.933Z"
   },
   {
    "duration": 71,
    "start_time": "2023-04-25T13:20:44.965Z"
   },
   {
    "duration": 41,
    "start_time": "2023-04-25T13:20:45.038Z"
   },
   {
    "duration": 41,
    "start_time": "2023-04-25T13:20:45.081Z"
   },
   {
    "duration": 11,
    "start_time": "2023-04-25T13:20:45.123Z"
   },
   {
    "duration": 7,
    "start_time": "2023-04-25T13:20:45.135Z"
   },
   {
    "duration": 2232,
    "start_time": "2023-04-25T13:20:45.143Z"
   },
   {
    "duration": 66,
    "start_time": "2023-04-25T13:20:47.376Z"
   },
   {
    "duration": 67,
    "start_time": "2023-04-25T13:20:47.444Z"
   },
   {
    "duration": 1712,
    "start_time": "2023-04-25T13:20:47.512Z"
   },
   {
    "duration": 5,
    "start_time": "2023-04-25T13:20:49.227Z"
   },
   {
    "duration": 126,
    "start_time": "2023-04-25T13:21:50.398Z"
   },
   {
    "duration": 91,
    "start_time": "2023-04-25T13:23:17.008Z"
   },
   {
    "duration": 15,
    "start_time": "2023-04-25T13:24:07.906Z"
   },
   {
    "duration": 904,
    "start_time": "2023-04-25T13:24:35.994Z"
   },
   {
    "duration": 16,
    "start_time": "2023-04-25T13:24:36.900Z"
   },
   {
    "duration": 10,
    "start_time": "2023-04-25T13:24:36.918Z"
   },
   {
    "duration": 86,
    "start_time": "2023-04-25T13:24:36.930Z"
   },
   {
    "duration": 99,
    "start_time": "2023-04-25T13:24:37.019Z"
   },
   {
    "duration": 48,
    "start_time": "2023-04-25T13:24:37.119Z"
   },
   {
    "duration": 40,
    "start_time": "2023-04-25T13:24:37.169Z"
   },
   {
    "duration": 11,
    "start_time": "2023-04-25T13:24:37.210Z"
   },
   {
    "duration": 12,
    "start_time": "2023-04-25T13:24:37.223Z"
   },
   {
    "duration": 2233,
    "start_time": "2023-04-25T13:24:37.236Z"
   },
   {
    "duration": 76,
    "start_time": "2023-04-25T13:24:39.474Z"
   },
   {
    "duration": 54,
    "start_time": "2023-04-25T13:24:39.556Z"
   },
   {
    "duration": 1804,
    "start_time": "2023-04-25T13:24:39.612Z"
   },
   {
    "duration": 97,
    "start_time": "2023-04-25T13:24:41.418Z"
   },
   {
    "duration": 0,
    "start_time": "2023-04-25T13:24:41.516Z"
   },
   {
    "duration": 15,
    "start_time": "2023-04-25T13:24:46.186Z"
   },
   {
    "duration": 8,
    "start_time": "2023-04-25T13:24:56.138Z"
   },
   {
    "duration": 9,
    "start_time": "2023-04-25T13:25:58.307Z"
   },
   {
    "duration": 4,
    "start_time": "2023-04-25T13:26:31.091Z"
   },
   {
    "duration": 10,
    "start_time": "2023-04-25T13:50:56.174Z"
   },
   {
    "duration": 10,
    "start_time": "2023-04-25T13:51:18.147Z"
   },
   {
    "duration": 867,
    "start_time": "2023-04-26T04:35:30.965Z"
   },
   {
    "duration": 13,
    "start_time": "2023-04-26T04:35:31.834Z"
   },
   {
    "duration": 3,
    "start_time": "2023-04-26T04:35:31.848Z"
   },
   {
    "duration": 9,
    "start_time": "2023-04-26T04:35:31.853Z"
   },
   {
    "duration": 77,
    "start_time": "2023-04-26T04:35:31.864Z"
   },
   {
    "duration": 24,
    "start_time": "2023-04-26T04:35:31.942Z"
   },
   {
    "duration": 32,
    "start_time": "2023-04-26T04:35:31.968Z"
   },
   {
    "duration": 11,
    "start_time": "2023-04-26T04:35:32.001Z"
   },
   {
    "duration": 4,
    "start_time": "2023-04-26T04:35:32.014Z"
   },
   {
    "duration": 1932,
    "start_time": "2023-04-26T04:35:32.019Z"
   },
   {
    "duration": 72,
    "start_time": "2023-04-26T04:35:33.952Z"
   },
   {
    "duration": 75,
    "start_time": "2023-04-26T04:35:34.026Z"
   },
   {
    "duration": 1526,
    "start_time": "2023-04-26T04:35:34.103Z"
   },
   {
    "duration": 76,
    "start_time": "2023-04-26T04:35:35.631Z"
   },
   {
    "duration": 1640,
    "start_time": "2023-04-26T08:29:57.496Z"
   },
   {
    "duration": 4,
    "start_time": "2023-04-26T08:31:54.402Z"
   },
   {
    "duration": 11,
    "start_time": "2023-04-26T08:31:58.243Z"
   },
   {
    "duration": 87,
    "start_time": "2023-04-26T08:35:43.814Z"
   },
   {
    "duration": 26,
    "start_time": "2023-04-26T08:40:26.102Z"
   },
   {
    "duration": 50,
    "start_time": "2023-04-26T08:40:45.798Z"
   },
   {
    "duration": 54,
    "start_time": "2023-04-26T08:40:53.206Z"
   },
   {
    "duration": 24,
    "start_time": "2023-04-26T08:41:01.811Z"
   },
   {
    "duration": 95,
    "start_time": "2023-04-26T08:41:02.314Z"
   },
   {
    "duration": 13,
    "start_time": "2023-04-26T08:42:42.062Z"
   },
   {
    "duration": 150,
    "start_time": "2023-04-26T08:45:02.753Z"
   },
   {
    "duration": 118,
    "start_time": "2023-04-26T08:46:52.509Z"
   },
   {
    "duration": 130,
    "start_time": "2023-04-26T08:47:16.329Z"
   },
   {
    "duration": 13,
    "start_time": "2023-04-26T08:47:19.364Z"
   },
   {
    "duration": 16,
    "start_time": "2023-04-26T08:47:24.918Z"
   },
   {
    "duration": 2411,
    "start_time": "2023-04-26T08:49:47.750Z"
   },
   {
    "duration": 74,
    "start_time": "2023-04-26T08:50:07.017Z"
   },
   {
    "duration": 1970,
    "start_time": "2023-04-26T08:50:37.926Z"
   },
   {
    "duration": 60,
    "start_time": "2023-04-26T08:50:39.898Z"
   },
   {
    "duration": 11,
    "start_time": "2023-04-26T08:51:36.601Z"
   },
   {
    "duration": 6,
    "start_time": "2023-04-26T08:51:43.740Z"
   },
   {
    "duration": 16,
    "start_time": "2023-04-26T08:55:30.659Z"
   },
   {
    "duration": 11,
    "start_time": "2023-04-26T09:06:42.042Z"
   },
   {
    "duration": 6,
    "start_time": "2023-04-26T09:06:48.531Z"
   },
   {
    "duration": 10,
    "start_time": "2023-04-26T09:07:57.246Z"
   },
   {
    "duration": 8,
    "start_time": "2023-04-26T09:08:46.736Z"
   },
   {
    "duration": 7,
    "start_time": "2023-04-26T09:09:01.010Z"
   },
   {
    "duration": 7,
    "start_time": "2023-04-26T09:09:12.221Z"
   },
   {
    "duration": 10,
    "start_time": "2023-04-26T09:10:20.541Z"
   },
   {
    "duration": 7,
    "start_time": "2023-04-26T09:10:26.099Z"
   },
   {
    "duration": 11,
    "start_time": "2023-04-26T09:10:53.409Z"
   },
   {
    "duration": 1294,
    "start_time": "2023-04-26T10:26:57.360Z"
   },
   {
    "duration": 20,
    "start_time": "2023-04-26T10:26:58.657Z"
   },
   {
    "duration": 8,
    "start_time": "2023-04-26T10:26:58.690Z"
   },
   {
    "duration": 15,
    "start_time": "2023-04-26T10:26:58.701Z"
   },
   {
    "duration": 29,
    "start_time": "2023-04-26T10:26:58.718Z"
   },
   {
    "duration": 8,
    "start_time": "2023-04-26T10:26:58.749Z"
   },
   {
    "duration": 192,
    "start_time": "2023-04-26T10:26:58.759Z"
   },
   {
    "duration": 14,
    "start_time": "2023-04-26T10:26:58.954Z"
   },
   {
    "duration": 239,
    "start_time": "2023-04-26T10:26:58.970Z"
   },
   {
    "duration": 0,
    "start_time": "2023-04-26T10:26:59.212Z"
   },
   {
    "duration": 0,
    "start_time": "2023-04-26T10:26:59.214Z"
   },
   {
    "duration": 0,
    "start_time": "2023-04-26T10:26:59.216Z"
   },
   {
    "duration": 0,
    "start_time": "2023-04-26T10:26:59.218Z"
   },
   {
    "duration": 0,
    "start_time": "2023-04-26T10:26:59.220Z"
   },
   {
    "duration": 0,
    "start_time": "2023-04-26T10:26:59.222Z"
   },
   {
    "duration": 0,
    "start_time": "2023-04-26T10:26:59.224Z"
   },
   {
    "duration": 0,
    "start_time": "2023-04-26T10:26:59.226Z"
   },
   {
    "duration": 1,
    "start_time": "2023-04-26T10:26:59.227Z"
   },
   {
    "duration": 4,
    "start_time": "2023-04-26T10:30:37.646Z"
   },
   {
    "duration": 185,
    "start_time": "2023-04-26T10:31:33.818Z"
   },
   {
    "duration": 158,
    "start_time": "2023-04-26T10:34:44.636Z"
   },
   {
    "duration": 148,
    "start_time": "2023-04-26T10:39:05.217Z"
   },
   {
    "duration": 149,
    "start_time": "2023-04-26T10:47:49.430Z"
   },
   {
    "duration": 252,
    "start_time": "2023-04-26T10:48:47.403Z"
   },
   {
    "duration": 6,
    "start_time": "2023-04-26T10:51:59.972Z"
   },
   {
    "duration": 9,
    "start_time": "2023-04-26T10:52:13.309Z"
   },
   {
    "duration": 6,
    "start_time": "2023-04-26T10:54:04.845Z"
   },
   {
    "duration": 255,
    "start_time": "2023-04-26T10:57:06.572Z"
   },
   {
    "duration": 249,
    "start_time": "2023-04-26T10:57:13.142Z"
   },
   {
    "duration": 301,
    "start_time": "2023-04-26T10:57:18.207Z"
   },
   {
    "duration": 166,
    "start_time": "2023-04-26T10:57:22.804Z"
   },
   {
    "duration": 252,
    "start_time": "2023-04-26T10:57:25.829Z"
   },
   {
    "duration": 151,
    "start_time": "2023-04-26T10:57:42.581Z"
   },
   {
    "duration": 139,
    "start_time": "2023-04-26T10:58:04.451Z"
   },
   {
    "duration": 146,
    "start_time": "2023-04-26T10:58:11.779Z"
   },
   {
    "duration": 139,
    "start_time": "2023-04-26T10:58:17.351Z"
   },
   {
    "duration": 135,
    "start_time": "2023-04-26T10:58:25.557Z"
   },
   {
    "duration": 250,
    "start_time": "2023-04-26T11:00:29.441Z"
   },
   {
    "duration": 133,
    "start_time": "2023-04-26T11:00:40.601Z"
   },
   {
    "duration": 10,
    "start_time": "2023-04-26T11:01:22.734Z"
   },
   {
    "duration": 45,
    "start_time": "2023-04-26T11:10:11.313Z"
   },
   {
    "duration": 1549,
    "start_time": "2023-04-26T14:38:31.950Z"
   },
   {
    "duration": 16,
    "start_time": "2023-04-26T14:38:33.501Z"
   },
   {
    "duration": 4,
    "start_time": "2023-04-26T14:38:33.518Z"
   },
   {
    "duration": 13,
    "start_time": "2023-04-26T14:38:33.525Z"
   },
   {
    "duration": 35,
    "start_time": "2023-04-26T14:38:33.540Z"
   },
   {
    "duration": 7,
    "start_time": "2023-04-26T14:38:33.577Z"
   },
   {
    "duration": 140,
    "start_time": "2023-04-26T14:38:33.586Z"
   },
   {
    "duration": 11,
    "start_time": "2023-04-26T14:38:33.729Z"
   },
   {
    "duration": 133,
    "start_time": "2023-04-26T14:38:33.742Z"
   },
   {
    "duration": 0,
    "start_time": "2023-04-26T14:38:33.877Z"
   },
   {
    "duration": 0,
    "start_time": "2023-04-26T14:38:33.879Z"
   },
   {
    "duration": 0,
    "start_time": "2023-04-26T14:38:33.880Z"
   },
   {
    "duration": 0,
    "start_time": "2023-04-26T14:38:33.881Z"
   },
   {
    "duration": 0,
    "start_time": "2023-04-26T14:38:33.882Z"
   },
   {
    "duration": 0,
    "start_time": "2023-04-26T14:38:33.884Z"
   },
   {
    "duration": 0,
    "start_time": "2023-04-26T14:38:33.885Z"
   },
   {
    "duration": 0,
    "start_time": "2023-04-26T14:38:33.886Z"
   },
   {
    "duration": 0,
    "start_time": "2023-04-26T14:38:33.888Z"
   },
   {
    "duration": 0,
    "start_time": "2023-04-26T14:38:33.889Z"
   },
   {
    "duration": 0,
    "start_time": "2023-04-26T14:38:33.890Z"
   },
   {
    "duration": 0,
    "start_time": "2023-04-26T14:38:33.891Z"
   },
   {
    "duration": 0,
    "start_time": "2023-04-26T14:38:33.894Z"
   },
   {
    "duration": 0,
    "start_time": "2023-04-26T14:38:33.895Z"
   },
   {
    "duration": 0,
    "start_time": "2023-04-26T14:38:33.896Z"
   },
   {
    "duration": 0,
    "start_time": "2023-04-26T14:38:33.898Z"
   },
   {
    "duration": 0,
    "start_time": "2023-04-26T14:38:33.899Z"
   },
   {
    "duration": 0,
    "start_time": "2023-04-26T14:38:33.901Z"
   },
   {
    "duration": 184,
    "start_time": "2023-04-26T14:38:39.717Z"
   },
   {
    "duration": 11,
    "start_time": "2023-04-26T14:38:42.716Z"
   },
   {
    "duration": 1295,
    "start_time": "2023-04-26T14:40:39.595Z"
   },
   {
    "duration": 22,
    "start_time": "2023-04-26T14:40:40.892Z"
   },
   {
    "duration": 3,
    "start_time": "2023-04-26T14:40:40.916Z"
   },
   {
    "duration": 13,
    "start_time": "2023-04-26T14:40:40.921Z"
   },
   {
    "duration": 50,
    "start_time": "2023-04-26T14:40:40.935Z"
   },
   {
    "duration": 0,
    "start_time": "2023-04-26T14:40:40.988Z"
   },
   {
    "duration": 0,
    "start_time": "2023-04-26T14:40:40.989Z"
   },
   {
    "duration": 0,
    "start_time": "2023-04-26T14:40:40.990Z"
   },
   {
    "duration": 0,
    "start_time": "2023-04-26T14:40:40.991Z"
   },
   {
    "duration": 0,
    "start_time": "2023-04-26T14:40:40.993Z"
   },
   {
    "duration": 0,
    "start_time": "2023-04-26T14:40:40.995Z"
   },
   {
    "duration": 0,
    "start_time": "2023-04-26T14:40:40.996Z"
   },
   {
    "duration": 0,
    "start_time": "2023-04-26T14:40:40.997Z"
   },
   {
    "duration": 0,
    "start_time": "2023-04-26T14:40:40.998Z"
   },
   {
    "duration": 0,
    "start_time": "2023-04-26T14:40:40.999Z"
   },
   {
    "duration": 0,
    "start_time": "2023-04-26T14:40:41.000Z"
   },
   {
    "duration": 0,
    "start_time": "2023-04-26T14:40:41.001Z"
   },
   {
    "duration": 0,
    "start_time": "2023-04-26T14:40:41.002Z"
   },
   {
    "duration": 0,
    "start_time": "2023-04-26T14:40:41.003Z"
   },
   {
    "duration": 0,
    "start_time": "2023-04-26T14:40:41.004Z"
   },
   {
    "duration": 0,
    "start_time": "2023-04-26T14:40:41.005Z"
   },
   {
    "duration": 0,
    "start_time": "2023-04-26T14:40:41.006Z"
   },
   {
    "duration": 0,
    "start_time": "2023-04-26T14:40:41.007Z"
   },
   {
    "duration": 0,
    "start_time": "2023-04-26T14:40:41.009Z"
   },
   {
    "duration": 0,
    "start_time": "2023-04-26T14:40:41.009Z"
   },
   {
    "duration": 0,
    "start_time": "2023-04-26T14:40:41.010Z"
   },
   {
    "duration": 0,
    "start_time": "2023-04-26T14:40:41.011Z"
   },
   {
    "duration": 44,
    "start_time": "2023-04-26T14:41:07.505Z"
   },
   {
    "duration": 8,
    "start_time": "2023-04-26T14:41:15.120Z"
   },
   {
    "duration": 152,
    "start_time": "2023-04-26T14:41:25.607Z"
   },
   {
    "duration": 10,
    "start_time": "2023-04-26T14:41:31.377Z"
   },
   {
    "duration": 911,
    "start_time": "2023-04-26T14:44:49.065Z"
   },
   {
    "duration": 13,
    "start_time": "2023-04-26T14:45:17.649Z"
   },
   {
    "duration": 157,
    "start_time": "2023-04-26T14:45:26.289Z"
   },
   {
    "duration": 9,
    "start_time": "2023-04-26T14:46:26.761Z"
   },
   {
    "duration": 175,
    "start_time": "2023-04-26T14:46:35.949Z"
   },
   {
    "duration": 62,
    "start_time": "2023-04-26T14:47:39.141Z"
   },
   {
    "duration": 242,
    "start_time": "2023-04-26T14:49:20.407Z"
   },
   {
    "duration": 226,
    "start_time": "2023-04-26T14:51:33.397Z"
   },
   {
    "duration": 8,
    "start_time": "2023-04-26T14:52:57.852Z"
   },
   {
    "duration": 327,
    "start_time": "2023-04-26T14:53:01.693Z"
   },
   {
    "duration": 399,
    "start_time": "2023-04-26T14:56:01.540Z"
   },
   {
    "duration": 10,
    "start_time": "2023-04-26T14:56:46.314Z"
   },
   {
    "duration": 17,
    "start_time": "2023-04-26T14:59:46.920Z"
   },
   {
    "duration": 13,
    "start_time": "2023-04-26T15:00:12.362Z"
   },
   {
    "duration": 163,
    "start_time": "2023-04-26T15:00:37.563Z"
   },
   {
    "duration": 19,
    "start_time": "2023-04-26T15:00:57.712Z"
   },
   {
    "duration": 115,
    "start_time": "2023-04-26T15:01:08.449Z"
   },
   {
    "duration": 16,
    "start_time": "2023-04-26T15:01:10.515Z"
   },
   {
    "duration": 4,
    "start_time": "2023-04-26T15:01:12.349Z"
   },
   {
    "duration": 9,
    "start_time": "2023-04-26T15:01:14.906Z"
   },
   {
    "duration": 7,
    "start_time": "2023-04-26T15:01:16.833Z"
   },
   {
    "duration": 8,
    "start_time": "2023-04-26T15:01:21.933Z"
   },
   {
    "duration": 127,
    "start_time": "2023-04-26T15:01:22.798Z"
   },
   {
    "duration": 11,
    "start_time": "2023-04-26T15:01:25.057Z"
   },
   {
    "duration": 11,
    "start_time": "2023-04-26T15:04:12.496Z"
   },
   {
    "duration": 19,
    "start_time": "2023-04-26T15:04:16.301Z"
   },
   {
    "duration": 57,
    "start_time": "2023-04-26T15:05:00.244Z"
   },
   {
    "duration": 100,
    "start_time": "2023-04-26T15:05:26.102Z"
   },
   {
    "duration": 8,
    "start_time": "2023-04-26T15:05:48.161Z"
   },
   {
    "duration": 22,
    "start_time": "2023-04-26T15:06:57.856Z"
   },
   {
    "duration": 2554,
    "start_time": "2023-04-26T15:07:04.549Z"
   },
   {
    "duration": 10,
    "start_time": "2023-04-26T15:07:09.149Z"
   },
   {
    "duration": 1369,
    "start_time": "2023-04-26T15:07:16.541Z"
   },
   {
    "duration": 14,
    "start_time": "2023-04-26T15:07:17.912Z"
   },
   {
    "duration": 16,
    "start_time": "2023-04-26T15:07:17.928Z"
   },
   {
    "duration": 15,
    "start_time": "2023-04-26T15:07:17.947Z"
   },
   {
    "duration": 13,
    "start_time": "2023-04-26T15:07:17.964Z"
   },
   {
    "duration": 17,
    "start_time": "2023-04-26T15:07:17.978Z"
   },
   {
    "duration": 7,
    "start_time": "2023-04-26T15:07:17.997Z"
   },
   {
    "duration": 150,
    "start_time": "2023-04-26T15:07:18.006Z"
   },
   {
    "duration": 11,
    "start_time": "2023-04-26T15:07:18.158Z"
   },
   {
    "duration": 15,
    "start_time": "2023-04-26T15:07:18.172Z"
   },
   {
    "duration": 2361,
    "start_time": "2023-04-26T15:07:18.189Z"
   },
   {
    "duration": 74,
    "start_time": "2023-04-26T15:07:20.552Z"
   },
   {
    "duration": 67,
    "start_time": "2023-04-26T15:07:20.627Z"
   },
   {
    "duration": 1894,
    "start_time": "2023-04-26T15:07:20.696Z"
   },
   {
    "duration": 5,
    "start_time": "2023-04-26T15:07:22.592Z"
   },
   {
    "duration": 24,
    "start_time": "2023-04-26T15:07:22.598Z"
   },
   {
    "duration": 10,
    "start_time": "2023-04-26T15:07:22.624Z"
   },
   {
    "duration": 23,
    "start_time": "2023-04-26T15:07:22.636Z"
   },
   {
    "duration": 12,
    "start_time": "2023-04-26T15:07:22.661Z"
   },
   {
    "duration": 5,
    "start_time": "2023-04-26T15:07:22.675Z"
   },
   {
    "duration": 174,
    "start_time": "2023-04-26T15:07:22.681Z"
   },
   {
    "duration": 154,
    "start_time": "2023-04-26T15:07:22.856Z"
   },
   {
    "duration": 174,
    "start_time": "2023-04-26T15:07:23.012Z"
   },
   {
    "duration": 265,
    "start_time": "2023-04-26T15:07:23.188Z"
   },
   {
    "duration": 11,
    "start_time": "2023-04-26T15:07:23.455Z"
   },
   {
    "duration": 171,
    "start_time": "2023-04-26T15:07:23.468Z"
   },
   {
    "duration": 142,
    "start_time": "2023-04-26T15:07:23.642Z"
   },
   {
    "duration": 14,
    "start_time": "2023-04-26T15:07:23.789Z"
   },
   {
    "duration": 165,
    "start_time": "2023-04-26T15:07:23.805Z"
   },
   {
    "duration": 168,
    "start_time": "2023-04-26T15:07:23.972Z"
   },
   {
    "duration": 351,
    "start_time": "2023-04-26T15:07:24.142Z"
   },
   {
    "duration": 253,
    "start_time": "2023-04-26T15:07:24.495Z"
   },
   {
    "duration": 266,
    "start_time": "2023-04-26T15:07:24.750Z"
   },
   {
    "duration": 9,
    "start_time": "2023-04-26T15:07:25.403Z"
   },
   {
    "duration": 37,
    "start_time": "2023-04-26T15:07:25.414Z"
   },
   {
    "duration": 498,
    "start_time": "2023-04-26T15:07:25.453Z"
   },
   {
    "duration": 362,
    "start_time": "2023-04-26T15:10:14.962Z"
   },
   {
    "duration": 246,
    "start_time": "2023-04-26T15:10:24.163Z"
   },
   {
    "duration": 353,
    "start_time": "2023-04-26T15:13:09.515Z"
   },
   {
    "duration": 241,
    "start_time": "2023-04-26T15:13:17.566Z"
   },
   {
    "duration": 200,
    "start_time": "2023-04-26T15:13:24.148Z"
   },
   {
    "duration": 343,
    "start_time": "2023-04-26T15:14:49.760Z"
   },
   {
    "duration": 9,
    "start_time": "2023-04-26T15:15:20.691Z"
   },
   {
    "duration": 187,
    "start_time": "2023-04-26T15:15:48.528Z"
   },
   {
    "duration": 182,
    "start_time": "2023-04-26T15:16:18.512Z"
   },
   {
    "duration": 1348,
    "start_time": "2023-04-26T16:21:14.572Z"
   },
   {
    "duration": 15,
    "start_time": "2023-04-26T16:21:15.922Z"
   },
   {
    "duration": 3,
    "start_time": "2023-04-26T16:21:15.939Z"
   },
   {
    "duration": 15,
    "start_time": "2023-04-26T16:21:15.961Z"
   },
   {
    "duration": 23,
    "start_time": "2023-04-26T16:21:15.978Z"
   },
   {
    "duration": 20,
    "start_time": "2023-04-26T16:21:16.003Z"
   },
   {
    "duration": 18,
    "start_time": "2023-04-26T16:21:16.024Z"
   },
   {
    "duration": 149,
    "start_time": "2023-04-26T16:21:16.044Z"
   },
   {
    "duration": 13,
    "start_time": "2023-04-26T16:21:16.195Z"
   },
   {
    "duration": 15,
    "start_time": "2023-04-26T16:21:16.210Z"
   },
   {
    "duration": 2263,
    "start_time": "2023-04-26T16:21:16.228Z"
   },
   {
    "duration": 88,
    "start_time": "2023-04-26T16:21:18.493Z"
   },
   {
    "duration": 48,
    "start_time": "2023-04-26T16:21:18.583Z"
   },
   {
    "duration": 1968,
    "start_time": "2023-04-26T16:21:18.633Z"
   },
   {
    "duration": 5,
    "start_time": "2023-04-26T16:21:20.604Z"
   },
   {
    "duration": 12,
    "start_time": "2023-04-26T16:21:20.610Z"
   },
   {
    "duration": 23,
    "start_time": "2023-04-26T16:21:20.623Z"
   },
   {
    "duration": 25,
    "start_time": "2023-04-26T16:21:20.648Z"
   },
   {
    "duration": 11,
    "start_time": "2023-04-26T16:21:20.675Z"
   },
   {
    "duration": 16,
    "start_time": "2023-04-26T16:21:20.688Z"
   },
   {
    "duration": 158,
    "start_time": "2023-04-26T16:21:20.705Z"
   },
   {
    "duration": 145,
    "start_time": "2023-04-26T16:21:20.864Z"
   },
   {
    "duration": 170,
    "start_time": "2023-04-26T16:21:21.011Z"
   },
   {
    "duration": 251,
    "start_time": "2023-04-26T16:21:21.183Z"
   },
   {
    "duration": 9,
    "start_time": "2023-04-26T16:21:21.436Z"
   },
   {
    "duration": 162,
    "start_time": "2023-04-26T16:21:21.447Z"
   },
   {
    "duration": 139,
    "start_time": "2023-04-26T16:21:21.610Z"
   },
   {
    "duration": 18,
    "start_time": "2023-04-26T16:21:21.750Z"
   },
   {
    "duration": 161,
    "start_time": "2023-04-26T16:21:21.772Z"
   },
   {
    "duration": 192,
    "start_time": "2023-04-26T16:21:21.934Z"
   },
   {
    "duration": 368,
    "start_time": "2023-04-26T16:21:22.127Z"
   },
   {
    "duration": 259,
    "start_time": "2023-04-26T16:21:22.497Z"
   },
   {
    "duration": 190,
    "start_time": "2023-04-26T16:21:22.758Z"
   },
   {
    "duration": 24,
    "start_time": "2023-04-26T16:21:22.950Z"
   },
   {
    "duration": 396,
    "start_time": "2023-04-26T16:21:22.976Z"
   },
   {
    "duration": 9,
    "start_time": "2023-04-26T16:21:23.374Z"
   },
   {
    "duration": 291,
    "start_time": "2023-04-26T16:21:23.384Z"
   },
   {
    "duration": 212,
    "start_time": "2023-04-26T16:21:23.676Z"
   },
   {
    "duration": 296,
    "start_time": "2023-04-26T16:21:23.890Z"
   },
   {
    "duration": 199,
    "start_time": "2023-04-26T16:25:37.208Z"
   },
   {
    "duration": 208,
    "start_time": "2023-04-26T16:25:39.411Z"
   },
   {
    "duration": 201,
    "start_time": "2023-04-26T16:25:41.771Z"
   },
   {
    "duration": 182,
    "start_time": "2023-04-26T16:25:44.307Z"
   },
   {
    "duration": 140,
    "start_time": "2023-04-26T16:30:16.614Z"
   },
   {
    "duration": 167,
    "start_time": "2023-04-26T16:31:22.096Z"
   },
   {
    "duration": 164,
    "start_time": "2023-04-26T16:31:31.417Z"
   },
   {
    "duration": 222,
    "start_time": "2023-04-26T16:31:43.649Z"
   },
   {
    "duration": 143,
    "start_time": "2023-04-26T16:31:49.481Z"
   },
   {
    "duration": 131,
    "start_time": "2023-04-26T16:33:20.154Z"
   },
   {
    "duration": 137,
    "start_time": "2023-04-26T16:35:35.969Z"
   },
   {
    "duration": 137,
    "start_time": "2023-04-26T16:37:54.001Z"
   },
   {
    "duration": 152,
    "start_time": "2023-04-26T16:40:36.126Z"
   },
   {
    "duration": 1516,
    "start_time": "2023-04-27T08:00:05.381Z"
   },
   {
    "duration": 16,
    "start_time": "2023-04-27T08:00:06.899Z"
   },
   {
    "duration": 18,
    "start_time": "2023-04-27T08:00:06.917Z"
   },
   {
    "duration": 29,
    "start_time": "2023-04-27T08:00:06.937Z"
   },
   {
    "duration": 15,
    "start_time": "2023-04-27T08:00:06.968Z"
   },
   {
    "duration": 13,
    "start_time": "2023-04-27T08:00:06.985Z"
   },
   {
    "duration": 9,
    "start_time": "2023-04-27T08:00:07.000Z"
   },
   {
    "duration": 140,
    "start_time": "2023-04-27T08:00:07.010Z"
   },
   {
    "duration": 11,
    "start_time": "2023-04-27T08:00:07.152Z"
   },
   {
    "duration": 27,
    "start_time": "2023-04-27T08:00:07.166Z"
   },
   {
    "duration": 2268,
    "start_time": "2023-04-27T08:00:07.195Z"
   },
   {
    "duration": 81,
    "start_time": "2023-04-27T08:00:09.465Z"
   },
   {
    "duration": 58,
    "start_time": "2023-04-27T08:00:09.549Z"
   },
   {
    "duration": 1888,
    "start_time": "2023-04-27T08:00:09.609Z"
   },
   {
    "duration": 5,
    "start_time": "2023-04-27T08:00:11.500Z"
   },
   {
    "duration": 21,
    "start_time": "2023-04-27T08:00:11.506Z"
   },
   {
    "duration": 13,
    "start_time": "2023-04-27T08:00:11.529Z"
   },
   {
    "duration": 8,
    "start_time": "2023-04-27T08:00:11.543Z"
   },
   {
    "duration": 11,
    "start_time": "2023-04-27T08:00:11.553Z"
   },
   {
    "duration": 7,
    "start_time": "2023-04-27T08:00:11.566Z"
   },
   {
    "duration": 177,
    "start_time": "2023-04-27T08:00:11.575Z"
   },
   {
    "duration": 169,
    "start_time": "2023-04-27T08:00:11.754Z"
   },
   {
    "duration": 222,
    "start_time": "2023-04-27T08:00:11.925Z"
   },
   {
    "duration": 268,
    "start_time": "2023-04-27T08:00:12.149Z"
   },
   {
    "duration": 9,
    "start_time": "2023-04-27T08:00:12.418Z"
   },
   {
    "duration": 142,
    "start_time": "2023-04-27T08:00:12.428Z"
   },
   {
    "duration": 139,
    "start_time": "2023-04-27T08:00:12.572Z"
   },
   {
    "duration": 8,
    "start_time": "2023-04-27T08:00:12.714Z"
   },
   {
    "duration": 164,
    "start_time": "2023-04-27T08:00:12.723Z"
   },
   {
    "duration": 158,
    "start_time": "2023-04-27T08:00:12.889Z"
   },
   {
    "duration": 349,
    "start_time": "2023-04-27T08:00:13.049Z"
   },
   {
    "duration": 252,
    "start_time": "2023-04-27T08:00:13.399Z"
   },
   {
    "duration": 183,
    "start_time": "2023-04-27T08:00:13.653Z"
   },
   {
    "duration": 9,
    "start_time": "2023-04-27T08:00:13.838Z"
   },
   {
    "duration": 398,
    "start_time": "2023-04-27T08:00:13.849Z"
   },
   {
    "duration": 10,
    "start_time": "2023-04-27T08:00:14.248Z"
   },
   {
    "duration": 267,
    "start_time": "2023-04-27T08:00:14.259Z"
   },
   {
    "duration": 214,
    "start_time": "2023-04-27T08:00:14.528Z"
   },
   {
    "duration": 290,
    "start_time": "2023-04-27T08:00:14.744Z"
   },
   {
    "duration": 201,
    "start_time": "2023-04-27T08:00:15.036Z"
   },
   {
    "duration": 206,
    "start_time": "2023-04-27T08:00:15.239Z"
   },
   {
    "duration": 194,
    "start_time": "2023-04-27T08:00:15.447Z"
   },
   {
    "duration": 153,
    "start_time": "2023-04-27T08:00:15.643Z"
   },
   {
    "duration": 137,
    "start_time": "2023-04-27T08:00:15.797Z"
   },
   {
    "duration": 147,
    "start_time": "2023-04-27T08:00:15.936Z"
   },
   {
    "duration": 144,
    "start_time": "2023-04-27T08:00:16.085Z"
   },
   {
    "duration": 151,
    "start_time": "2023-04-27T08:00:16.231Z"
   },
   {
    "duration": 6,
    "start_time": "2023-04-27T08:01:55.574Z"
   },
   {
    "duration": 168,
    "start_time": "2023-04-27T08:03:01.034Z"
   },
   {
    "duration": 52,
    "start_time": "2023-04-27T08:04:10.145Z"
   },
   {
    "duration": 7,
    "start_time": "2023-04-27T08:04:58.009Z"
   },
   {
    "duration": 272,
    "start_time": "2023-04-27T08:05:18.881Z"
   },
   {
    "duration": 2099,
    "start_time": "2023-04-28T06:46:44.588Z"
   },
   {
    "duration": 21,
    "start_time": "2023-04-28T06:46:46.690Z"
   },
   {
    "duration": 5,
    "start_time": "2023-04-28T06:46:46.712Z"
   },
   {
    "duration": 30,
    "start_time": "2023-04-28T06:46:46.719Z"
   },
   {
    "duration": 12,
    "start_time": "2023-04-28T06:46:46.752Z"
   },
   {
    "duration": 21,
    "start_time": "2023-04-28T06:46:46.767Z"
   },
   {
    "duration": 16,
    "start_time": "2023-04-28T06:46:46.791Z"
   },
   {
    "duration": 205,
    "start_time": "2023-04-28T06:46:46.809Z"
   },
   {
    "duration": 15,
    "start_time": "2023-04-28T06:46:47.017Z"
   },
   {
    "duration": 35,
    "start_time": "2023-04-28T06:46:47.034Z"
   },
   {
    "duration": 2716,
    "start_time": "2023-04-28T06:46:47.072Z"
   },
   {
    "duration": 102,
    "start_time": "2023-04-28T06:46:49.790Z"
   },
   {
    "duration": 83,
    "start_time": "2023-04-28T06:46:49.894Z"
   },
   {
    "duration": 2224,
    "start_time": "2023-04-28T06:46:49.980Z"
   },
   {
    "duration": 6,
    "start_time": "2023-04-28T06:46:52.206Z"
   },
   {
    "duration": 80,
    "start_time": "2023-04-28T06:46:52.214Z"
   },
   {
    "duration": 19,
    "start_time": "2023-04-28T06:46:52.296Z"
   },
   {
    "duration": 36,
    "start_time": "2023-04-28T06:46:52.317Z"
   },
   {
    "duration": 27,
    "start_time": "2023-04-28T06:46:52.356Z"
   },
   {
    "duration": 21,
    "start_time": "2023-04-28T06:46:52.385Z"
   },
   {
    "duration": 197,
    "start_time": "2023-04-28T06:46:52.408Z"
   },
   {
    "duration": 181,
    "start_time": "2023-04-28T06:46:52.607Z"
   },
   {
    "duration": 205,
    "start_time": "2023-04-28T06:46:52.791Z"
   },
   {
    "duration": 296,
    "start_time": "2023-04-28T06:46:52.998Z"
   },
   {
    "duration": 11,
    "start_time": "2023-04-28T06:46:53.296Z"
   },
   {
    "duration": 172,
    "start_time": "2023-04-28T06:46:53.309Z"
   },
   {
    "duration": 179,
    "start_time": "2023-04-28T06:46:53.483Z"
   },
   {
    "duration": 12,
    "start_time": "2023-04-28T06:46:53.664Z"
   },
   {
    "duration": 197,
    "start_time": "2023-04-28T06:46:53.678Z"
   },
   {
    "duration": 198,
    "start_time": "2023-04-28T06:46:53.877Z"
   },
   {
    "duration": 422,
    "start_time": "2023-04-28T06:46:54.078Z"
   },
   {
    "duration": 317,
    "start_time": "2023-04-28T06:46:54.503Z"
   },
   {
    "duration": 239,
    "start_time": "2023-04-28T06:46:54.822Z"
   },
   {
    "duration": 10,
    "start_time": "2023-04-28T06:46:55.063Z"
   },
   {
    "duration": 461,
    "start_time": "2023-04-28T06:46:55.075Z"
   },
   {
    "duration": 14,
    "start_time": "2023-04-28T06:46:55.538Z"
   },
   {
    "duration": 311,
    "start_time": "2023-04-28T06:46:55.554Z"
   },
   {
    "duration": 295,
    "start_time": "2023-04-28T06:46:55.867Z"
   },
   {
    "duration": 391,
    "start_time": "2023-04-28T06:46:56.164Z"
   },
   {
    "duration": 251,
    "start_time": "2023-04-28T06:46:56.559Z"
   },
   {
    "duration": 243,
    "start_time": "2023-04-28T06:46:56.814Z"
   },
   {
    "duration": 236,
    "start_time": "2023-04-28T06:46:57.059Z"
   },
   {
    "duration": 186,
    "start_time": "2023-04-28T06:46:57.297Z"
   },
   {
    "duration": 173,
    "start_time": "2023-04-28T06:46:57.486Z"
   },
   {
    "duration": 186,
    "start_time": "2023-04-28T06:46:57.661Z"
   },
   {
    "duration": 168,
    "start_time": "2023-04-28T06:46:57.850Z"
   },
   {
    "duration": 186,
    "start_time": "2023-04-28T06:46:58.020Z"
   },
   {
    "duration": 8,
    "start_time": "2023-04-28T06:46:58.209Z"
   },
   {
    "duration": 290,
    "start_time": "2023-04-28T06:46:58.219Z"
   },
   {
    "duration": 7,
    "start_time": "2023-04-28T06:46:58.512Z"
   },
   {
    "duration": 347,
    "start_time": "2023-04-28T06:46:58.521Z"
   },
   {
    "duration": 151,
    "start_time": "2023-04-28T06:51:06.693Z"
   },
   {
    "duration": 19,
    "start_time": "2023-04-28T06:51:07.150Z"
   },
   {
    "duration": 5,
    "start_time": "2023-04-28T06:51:09.054Z"
   },
   {
    "duration": 11,
    "start_time": "2023-04-28T06:51:10.350Z"
   },
   {
    "duration": 11,
    "start_time": "2023-04-28T06:51:12.889Z"
   },
   {
    "duration": 55,
    "start_time": "2023-04-28T06:51:18.400Z"
   },
   {
    "duration": 10,
    "start_time": "2023-04-28T06:51:30.451Z"
   },
   {
    "duration": 7,
    "start_time": "2023-04-28T06:51:40.620Z"
   },
   {
    "duration": 158,
    "start_time": "2023-04-28T06:51:57.182Z"
   },
   {
    "duration": 22,
    "start_time": "2023-04-28T06:51:57.646Z"
   },
   {
    "duration": 4,
    "start_time": "2023-04-28T06:51:59.609Z"
   },
   {
    "duration": 11,
    "start_time": "2023-04-28T06:52:01.138Z"
   },
   {
    "duration": 7,
    "start_time": "2023-04-28T06:52:09.285Z"
   },
   {
    "duration": 120,
    "start_time": "2023-04-28T06:52:13.494Z"
   },
   {
    "duration": 9,
    "start_time": "2023-04-28T06:52:16.536Z"
   },
   {
    "duration": 35,
    "start_time": "2023-04-28T06:52:39.868Z"
   },
   {
    "duration": 9,
    "start_time": "2023-04-28T06:52:47.000Z"
   },
   {
    "duration": 8,
    "start_time": "2023-04-28T06:52:57.565Z"
   },
   {
    "duration": 13,
    "start_time": "2023-04-28T07:00:09.715Z"
   },
   {
    "duration": 8,
    "start_time": "2023-04-28T07:00:44.984Z"
   },
   {
    "duration": 306,
    "start_time": "2023-04-28T07:15:22.711Z"
   },
   {
    "duration": 1362,
    "start_time": "2023-04-28T08:20:42.257Z"
   },
   {
    "duration": 12,
    "start_time": "2023-04-28T08:20:43.621Z"
   },
   {
    "duration": 3,
    "start_time": "2023-04-28T08:20:43.635Z"
   },
   {
    "duration": 10,
    "start_time": "2023-04-28T08:20:43.639Z"
   },
   {
    "duration": 7,
    "start_time": "2023-04-28T08:20:43.651Z"
   },
   {
    "duration": 12,
    "start_time": "2023-04-28T08:20:43.659Z"
   },
   {
    "duration": 6,
    "start_time": "2023-04-28T08:20:43.672Z"
   },
   {
    "duration": 117,
    "start_time": "2023-04-28T08:20:43.693Z"
   },
   {
    "duration": 10,
    "start_time": "2023-04-28T08:20:43.812Z"
   },
   {
    "duration": 14,
    "start_time": "2023-04-28T08:20:43.824Z"
   },
   {
    "duration": 1931,
    "start_time": "2023-04-28T08:20:43.840Z"
   },
   {
    "duration": 64,
    "start_time": "2023-04-28T08:20:45.772Z"
   },
   {
    "duration": 40,
    "start_time": "2023-04-28T08:20:45.838Z"
   },
   {
    "duration": 1599,
    "start_time": "2023-04-28T08:20:45.879Z"
   },
   {
    "duration": 4,
    "start_time": "2023-04-28T08:20:47.479Z"
   },
   {
    "duration": 18,
    "start_time": "2023-04-28T08:20:47.484Z"
   },
   {
    "duration": 6,
    "start_time": "2023-04-28T08:20:47.503Z"
   },
   {
    "duration": 6,
    "start_time": "2023-04-28T08:20:47.511Z"
   },
   {
    "duration": 10,
    "start_time": "2023-04-28T08:20:47.518Z"
   },
   {
    "duration": 4,
    "start_time": "2023-04-28T08:20:47.529Z"
   },
   {
    "duration": 159,
    "start_time": "2023-04-28T08:20:47.535Z"
   },
   {
    "duration": 127,
    "start_time": "2023-04-28T08:20:47.696Z"
   },
   {
    "duration": 150,
    "start_time": "2023-04-28T08:20:47.825Z"
   },
   {
    "duration": 226,
    "start_time": "2023-04-28T08:20:47.977Z"
   },
   {
    "duration": 9,
    "start_time": "2023-04-28T08:20:48.204Z"
   },
   {
    "duration": 126,
    "start_time": "2023-04-28T08:20:48.215Z"
   },
   {
    "duration": 123,
    "start_time": "2023-04-28T08:20:48.343Z"
   },
   {
    "duration": 8,
    "start_time": "2023-04-28T08:20:48.470Z"
   },
   {
    "duration": 150,
    "start_time": "2023-04-28T08:20:48.479Z"
   },
   {
    "duration": 147,
    "start_time": "2023-04-28T08:20:48.631Z"
   },
   {
    "duration": 291,
    "start_time": "2023-04-28T08:20:48.780Z"
   },
   {
    "duration": 228,
    "start_time": "2023-04-28T08:20:49.072Z"
   },
   {
    "duration": 172,
    "start_time": "2023-04-28T08:20:49.302Z"
   },
   {
    "duration": 7,
    "start_time": "2023-04-28T08:20:49.475Z"
   },
   {
    "duration": 327,
    "start_time": "2023-04-28T08:20:49.484Z"
   },
   {
    "duration": 7,
    "start_time": "2023-04-28T08:20:49.813Z"
   },
   {
    "duration": 219,
    "start_time": "2023-04-28T08:20:49.822Z"
   },
   {
    "duration": 171,
    "start_time": "2023-04-28T08:20:50.043Z"
   },
   {
    "duration": 260,
    "start_time": "2023-04-28T08:20:50.216Z"
   },
   {
    "duration": 174,
    "start_time": "2023-04-28T08:20:50.478Z"
   },
   {
    "duration": 175,
    "start_time": "2023-04-28T08:20:50.653Z"
   },
   {
    "duration": 159,
    "start_time": "2023-04-28T08:20:50.829Z"
   },
   {
    "duration": 133,
    "start_time": "2023-04-28T08:20:50.990Z"
   },
   {
    "duration": 119,
    "start_time": "2023-04-28T08:20:51.124Z"
   },
   {
    "duration": 146,
    "start_time": "2023-04-28T08:20:51.245Z"
   },
   {
    "duration": 148,
    "start_time": "2023-04-28T08:20:51.394Z"
   },
   {
    "duration": 134,
    "start_time": "2023-04-28T08:20:51.543Z"
   },
   {
    "duration": 15,
    "start_time": "2023-04-28T08:20:51.679Z"
   },
   {
    "duration": 156,
    "start_time": "2023-04-28T08:20:51.696Z"
   },
   {
    "duration": 6,
    "start_time": "2023-04-28T08:20:51.854Z"
   },
   {
    "duration": 245,
    "start_time": "2023-04-28T08:20:51.862Z"
   },
   {
    "duration": 2436,
    "start_time": "2023-04-28T08:22:38.386Z"
   },
   {
    "duration": 187,
    "start_time": "2023-04-28T08:23:03.743Z"
   },
   {
    "duration": 109,
    "start_time": "2023-04-28T08:24:16.221Z"
   },
   {
    "duration": 8,
    "start_time": "2023-04-28T08:34:47.206Z"
   },
   {
    "duration": 8,
    "start_time": "2023-04-28T08:36:32.959Z"
   },
   {
    "duration": 14,
    "start_time": "2023-04-28T08:36:52.405Z"
   },
   {
    "duration": 10,
    "start_time": "2023-04-28T08:37:09.889Z"
   },
   {
    "duration": 110,
    "start_time": "2023-04-28T08:38:36.529Z"
   },
   {
    "duration": 34,
    "start_time": "2023-04-28T08:38:41.823Z"
   },
   {
    "duration": 13,
    "start_time": "2023-04-28T08:38:48.718Z"
   },
   {
    "duration": 6,
    "start_time": "2023-04-28T08:41:34.830Z"
   },
   {
    "duration": 141,
    "start_time": "2023-04-28T08:41:43.396Z"
   },
   {
    "duration": 6,
    "start_time": "2023-04-28T08:41:44.166Z"
   },
   {
    "duration": 8,
    "start_time": "2023-04-28T08:43:00.320Z"
   },
   {
    "duration": 10,
    "start_time": "2023-04-28T08:50:10.074Z"
   },
   {
    "duration": 16,
    "start_time": "2023-04-28T08:51:30.290Z"
   },
   {
    "duration": 14,
    "start_time": "2023-04-28T08:51:37.166Z"
   },
   {
    "duration": 14,
    "start_time": "2023-04-28T08:53:18.558Z"
   },
   {
    "duration": 1204,
    "start_time": "2023-04-28T08:55:42.587Z"
   },
   {
    "duration": 24,
    "start_time": "2023-04-28T08:55:43.792Z"
   },
   {
    "duration": 1926,
    "start_time": "2023-04-28T08:55:43.818Z"
   },
   {
    "duration": 71,
    "start_time": "2023-04-28T08:55:45.746Z"
   },
   {
    "duration": 60,
    "start_time": "2023-04-28T08:55:45.819Z"
   },
   {
    "duration": 0,
    "start_time": "2023-04-28T08:55:45.882Z"
   },
   {
    "duration": 0,
    "start_time": "2023-04-28T08:55:45.883Z"
   },
   {
    "duration": 0,
    "start_time": "2023-04-28T08:55:45.884Z"
   },
   {
    "duration": 0,
    "start_time": "2023-04-28T08:55:45.885Z"
   },
   {
    "duration": 0,
    "start_time": "2023-04-28T08:55:45.886Z"
   },
   {
    "duration": 0,
    "start_time": "2023-04-28T08:55:45.887Z"
   },
   {
    "duration": 0,
    "start_time": "2023-04-28T08:55:45.888Z"
   },
   {
    "duration": 0,
    "start_time": "2023-04-28T08:55:45.889Z"
   },
   {
    "duration": 0,
    "start_time": "2023-04-28T08:55:45.890Z"
   },
   {
    "duration": 0,
    "start_time": "2023-04-28T08:55:45.891Z"
   },
   {
    "duration": 1,
    "start_time": "2023-04-28T08:55:45.892Z"
   },
   {
    "duration": 0,
    "start_time": "2023-04-28T08:55:45.896Z"
   },
   {
    "duration": 0,
    "start_time": "2023-04-28T08:55:45.897Z"
   },
   {
    "duration": 0,
    "start_time": "2023-04-28T08:55:45.899Z"
   },
   {
    "duration": 0,
    "start_time": "2023-04-28T08:55:45.901Z"
   },
   {
    "duration": 0,
    "start_time": "2023-04-28T08:55:45.902Z"
   },
   {
    "duration": 0,
    "start_time": "2023-04-28T08:55:45.903Z"
   },
   {
    "duration": 0,
    "start_time": "2023-04-28T08:55:45.905Z"
   },
   {
    "duration": 0,
    "start_time": "2023-04-28T08:55:45.909Z"
   },
   {
    "duration": 0,
    "start_time": "2023-04-28T08:55:45.910Z"
   },
   {
    "duration": 0,
    "start_time": "2023-04-28T08:55:45.912Z"
   },
   {
    "duration": 0,
    "start_time": "2023-04-28T08:55:45.913Z"
   },
   {
    "duration": 0,
    "start_time": "2023-04-28T08:55:45.914Z"
   },
   {
    "duration": 0,
    "start_time": "2023-04-28T08:55:45.915Z"
   },
   {
    "duration": 0,
    "start_time": "2023-04-28T08:55:45.916Z"
   },
   {
    "duration": 0,
    "start_time": "2023-04-28T08:55:45.917Z"
   },
   {
    "duration": 0,
    "start_time": "2023-04-28T08:55:45.918Z"
   },
   {
    "duration": 0,
    "start_time": "2023-04-28T08:55:45.919Z"
   },
   {
    "duration": 0,
    "start_time": "2023-04-28T08:55:45.921Z"
   },
   {
    "duration": 0,
    "start_time": "2023-04-28T08:55:45.921Z"
   },
   {
    "duration": 0,
    "start_time": "2023-04-28T08:55:45.922Z"
   },
   {
    "duration": 0,
    "start_time": "2023-04-28T08:55:45.923Z"
   },
   {
    "duration": 0,
    "start_time": "2023-04-28T08:55:45.924Z"
   },
   {
    "duration": 0,
    "start_time": "2023-04-28T08:55:45.925Z"
   },
   {
    "duration": 0,
    "start_time": "2023-04-28T08:55:45.926Z"
   },
   {
    "duration": 0,
    "start_time": "2023-04-28T08:55:45.926Z"
   },
   {
    "duration": 0,
    "start_time": "2023-04-28T08:55:45.927Z"
   },
   {
    "duration": 0,
    "start_time": "2023-04-28T08:55:45.928Z"
   },
   {
    "duration": 0,
    "start_time": "2023-04-28T08:55:45.929Z"
   },
   {
    "duration": 0,
    "start_time": "2023-04-28T08:55:45.930Z"
   },
   {
    "duration": 0,
    "start_time": "2023-04-28T08:55:45.931Z"
   },
   {
    "duration": 0,
    "start_time": "2023-04-28T08:55:45.932Z"
   },
   {
    "duration": 0,
    "start_time": "2023-04-28T08:55:45.932Z"
   },
   {
    "duration": 0,
    "start_time": "2023-04-28T08:55:45.933Z"
   },
   {
    "duration": 0,
    "start_time": "2023-04-28T08:55:45.934Z"
   },
   {
    "duration": 0,
    "start_time": "2023-04-28T08:55:45.935Z"
   },
   {
    "duration": 0,
    "start_time": "2023-04-28T08:55:45.936Z"
   },
   {
    "duration": 0,
    "start_time": "2023-04-28T08:55:45.937Z"
   },
   {
    "duration": 0,
    "start_time": "2023-04-28T08:55:45.938Z"
   },
   {
    "duration": 0,
    "start_time": "2023-04-28T08:55:45.939Z"
   },
   {
    "duration": 0,
    "start_time": "2023-04-28T08:55:45.939Z"
   },
   {
    "duration": 0,
    "start_time": "2023-04-28T08:55:45.940Z"
   },
   {
    "duration": 0,
    "start_time": "2023-04-28T08:55:45.940Z"
   },
   {
    "duration": 1178,
    "start_time": "2023-04-28T09:00:16.136Z"
   },
   {
    "duration": 13,
    "start_time": "2023-04-28T09:00:17.316Z"
   },
   {
    "duration": 1879,
    "start_time": "2023-04-28T09:00:17.331Z"
   },
   {
    "duration": 71,
    "start_time": "2023-04-28T09:00:19.212Z"
   },
   {
    "duration": 69,
    "start_time": "2023-04-28T09:00:19.285Z"
   },
   {
    "duration": 0,
    "start_time": "2023-04-28T09:00:19.356Z"
   },
   {
    "duration": 0,
    "start_time": "2023-04-28T09:00:19.357Z"
   },
   {
    "duration": 0,
    "start_time": "2023-04-28T09:00:19.358Z"
   },
   {
    "duration": 0,
    "start_time": "2023-04-28T09:00:19.359Z"
   },
   {
    "duration": 0,
    "start_time": "2023-04-28T09:00:19.360Z"
   },
   {
    "duration": 0,
    "start_time": "2023-04-28T09:00:19.361Z"
   },
   {
    "duration": 0,
    "start_time": "2023-04-28T09:00:19.362Z"
   },
   {
    "duration": 0,
    "start_time": "2023-04-28T09:00:19.363Z"
   },
   {
    "duration": 0,
    "start_time": "2023-04-28T09:00:19.364Z"
   },
   {
    "duration": 0,
    "start_time": "2023-04-28T09:00:19.365Z"
   },
   {
    "duration": 0,
    "start_time": "2023-04-28T09:00:19.366Z"
   },
   {
    "duration": 0,
    "start_time": "2023-04-28T09:00:19.366Z"
   },
   {
    "duration": 0,
    "start_time": "2023-04-28T09:00:19.367Z"
   },
   {
    "duration": 0,
    "start_time": "2023-04-28T09:00:19.368Z"
   },
   {
    "duration": 0,
    "start_time": "2023-04-28T09:00:19.369Z"
   },
   {
    "duration": 0,
    "start_time": "2023-04-28T09:00:19.370Z"
   },
   {
    "duration": 0,
    "start_time": "2023-04-28T09:00:19.371Z"
   },
   {
    "duration": 0,
    "start_time": "2023-04-28T09:00:19.371Z"
   },
   {
    "duration": 0,
    "start_time": "2023-04-28T09:00:19.372Z"
   },
   {
    "duration": 0,
    "start_time": "2023-04-28T09:00:19.373Z"
   },
   {
    "duration": 0,
    "start_time": "2023-04-28T09:00:19.374Z"
   },
   {
    "duration": 0,
    "start_time": "2023-04-28T09:00:19.375Z"
   },
   {
    "duration": 0,
    "start_time": "2023-04-28T09:00:19.376Z"
   },
   {
    "duration": 0,
    "start_time": "2023-04-28T09:00:19.377Z"
   },
   {
    "duration": 0,
    "start_time": "2023-04-28T09:00:19.378Z"
   },
   {
    "duration": 0,
    "start_time": "2023-04-28T09:00:19.379Z"
   },
   {
    "duration": 0,
    "start_time": "2023-04-28T09:00:19.380Z"
   },
   {
    "duration": 0,
    "start_time": "2023-04-28T09:00:19.381Z"
   },
   {
    "duration": 0,
    "start_time": "2023-04-28T09:00:19.382Z"
   },
   {
    "duration": 0,
    "start_time": "2023-04-28T09:00:19.382Z"
   },
   {
    "duration": 0,
    "start_time": "2023-04-28T09:00:19.383Z"
   },
   {
    "duration": 0,
    "start_time": "2023-04-28T09:00:19.384Z"
   },
   {
    "duration": 0,
    "start_time": "2023-04-28T09:00:19.385Z"
   },
   {
    "duration": 0,
    "start_time": "2023-04-28T09:00:19.386Z"
   },
   {
    "duration": 0,
    "start_time": "2023-04-28T09:00:19.387Z"
   },
   {
    "duration": 0,
    "start_time": "2023-04-28T09:00:19.388Z"
   },
   {
    "duration": 0,
    "start_time": "2023-04-28T09:00:19.389Z"
   },
   {
    "duration": 0,
    "start_time": "2023-04-28T09:00:19.390Z"
   },
   {
    "duration": 0,
    "start_time": "2023-04-28T09:00:19.391Z"
   },
   {
    "duration": 0,
    "start_time": "2023-04-28T09:00:19.392Z"
   },
   {
    "duration": 0,
    "start_time": "2023-04-28T09:00:19.393Z"
   },
   {
    "duration": 0,
    "start_time": "2023-04-28T09:00:19.398Z"
   },
   {
    "duration": 0,
    "start_time": "2023-04-28T09:00:19.399Z"
   },
   {
    "duration": 0,
    "start_time": "2023-04-28T09:00:19.400Z"
   },
   {
    "duration": 0,
    "start_time": "2023-04-28T09:00:19.401Z"
   },
   {
    "duration": 0,
    "start_time": "2023-04-28T09:00:19.403Z"
   },
   {
    "duration": 0,
    "start_time": "2023-04-28T09:00:19.404Z"
   },
   {
    "duration": 0,
    "start_time": "2023-04-28T09:00:19.405Z"
   },
   {
    "duration": 0,
    "start_time": "2023-04-28T09:00:19.405Z"
   },
   {
    "duration": 0,
    "start_time": "2023-04-28T09:00:19.406Z"
   },
   {
    "duration": 0,
    "start_time": "2023-04-28T09:00:19.407Z"
   },
   {
    "duration": 0,
    "start_time": "2023-04-28T09:00:19.408Z"
   },
   {
    "duration": 0,
    "start_time": "2023-04-28T09:00:19.408Z"
   },
   {
    "duration": 178,
    "start_time": "2023-04-28T09:00:23.288Z"
   },
   {
    "duration": 185,
    "start_time": "2023-04-28T09:00:25.469Z"
   },
   {
    "duration": 155,
    "start_time": "2023-04-28T09:00:28.010Z"
   },
   {
    "duration": 5,
    "start_time": "2023-04-28T09:01:18.180Z"
   },
   {
    "duration": 5,
    "start_time": "2023-04-28T09:01:38.786Z"
   },
   {
    "duration": 5,
    "start_time": "2023-04-28T09:02:02.822Z"
   },
   {
    "duration": 1120,
    "start_time": "2023-04-28T09:10:31.024Z"
   },
   {
    "duration": 1181,
    "start_time": "2023-04-28T09:10:48.008Z"
   },
   {
    "duration": 17,
    "start_time": "2023-04-28T09:10:49.191Z"
   },
   {
    "duration": 1902,
    "start_time": "2023-04-28T09:10:49.210Z"
   },
   {
    "duration": 70,
    "start_time": "2023-04-28T09:10:51.114Z"
   },
   {
    "duration": 54,
    "start_time": "2023-04-28T09:10:51.186Z"
   },
   {
    "duration": 0,
    "start_time": "2023-04-28T09:10:51.242Z"
   },
   {
    "duration": 0,
    "start_time": "2023-04-28T09:10:51.244Z"
   },
   {
    "duration": 0,
    "start_time": "2023-04-28T09:10:51.245Z"
   },
   {
    "duration": 0,
    "start_time": "2023-04-28T09:10:51.246Z"
   },
   {
    "duration": 0,
    "start_time": "2023-04-28T09:10:51.247Z"
   },
   {
    "duration": 0,
    "start_time": "2023-04-28T09:10:51.248Z"
   },
   {
    "duration": 0,
    "start_time": "2023-04-28T09:10:51.249Z"
   },
   {
    "duration": 0,
    "start_time": "2023-04-28T09:10:51.250Z"
   },
   {
    "duration": 0,
    "start_time": "2023-04-28T09:10:51.251Z"
   },
   {
    "duration": 0,
    "start_time": "2023-04-28T09:10:51.252Z"
   },
   {
    "duration": 0,
    "start_time": "2023-04-28T09:10:51.253Z"
   },
   {
    "duration": 0,
    "start_time": "2023-04-28T09:10:51.254Z"
   },
   {
    "duration": 0,
    "start_time": "2023-04-28T09:10:51.255Z"
   },
   {
    "duration": 0,
    "start_time": "2023-04-28T09:10:51.256Z"
   },
   {
    "duration": 0,
    "start_time": "2023-04-28T09:10:51.257Z"
   },
   {
    "duration": 0,
    "start_time": "2023-04-28T09:10:51.258Z"
   },
   {
    "duration": 0,
    "start_time": "2023-04-28T09:10:51.259Z"
   },
   {
    "duration": 0,
    "start_time": "2023-04-28T09:10:51.260Z"
   },
   {
    "duration": 0,
    "start_time": "2023-04-28T09:10:51.261Z"
   },
   {
    "duration": 0,
    "start_time": "2023-04-28T09:10:51.262Z"
   },
   {
    "duration": 0,
    "start_time": "2023-04-28T09:10:51.263Z"
   },
   {
    "duration": 0,
    "start_time": "2023-04-28T09:10:51.264Z"
   },
   {
    "duration": 0,
    "start_time": "2023-04-28T09:10:51.264Z"
   },
   {
    "duration": 0,
    "start_time": "2023-04-28T09:10:51.266Z"
   },
   {
    "duration": 0,
    "start_time": "2023-04-28T09:10:51.266Z"
   },
   {
    "duration": 0,
    "start_time": "2023-04-28T09:10:51.267Z"
   },
   {
    "duration": 0,
    "start_time": "2023-04-28T09:10:51.268Z"
   },
   {
    "duration": 0,
    "start_time": "2023-04-28T09:10:51.269Z"
   },
   {
    "duration": 0,
    "start_time": "2023-04-28T09:10:51.270Z"
   },
   {
    "duration": 0,
    "start_time": "2023-04-28T09:10:51.271Z"
   },
   {
    "duration": 0,
    "start_time": "2023-04-28T09:10:51.272Z"
   },
   {
    "duration": 0,
    "start_time": "2023-04-28T09:10:51.273Z"
   },
   {
    "duration": 0,
    "start_time": "2023-04-28T09:10:51.274Z"
   },
   {
    "duration": 0,
    "start_time": "2023-04-28T09:10:51.275Z"
   },
   {
    "duration": 0,
    "start_time": "2023-04-28T09:10:51.276Z"
   },
   {
    "duration": 0,
    "start_time": "2023-04-28T09:10:51.277Z"
   },
   {
    "duration": 0,
    "start_time": "2023-04-28T09:10:51.278Z"
   },
   {
    "duration": 0,
    "start_time": "2023-04-28T09:10:51.279Z"
   },
   {
    "duration": 0,
    "start_time": "2023-04-28T09:10:51.294Z"
   },
   {
    "duration": 0,
    "start_time": "2023-04-28T09:10:51.294Z"
   },
   {
    "duration": 0,
    "start_time": "2023-04-28T09:10:51.295Z"
   },
   {
    "duration": 0,
    "start_time": "2023-04-28T09:10:51.306Z"
   },
   {
    "duration": 1,
    "start_time": "2023-04-28T09:10:51.306Z"
   },
   {
    "duration": 0,
    "start_time": "2023-04-28T09:10:51.307Z"
   },
   {
    "duration": 0,
    "start_time": "2023-04-28T09:10:51.308Z"
   },
   {
    "duration": 0,
    "start_time": "2023-04-28T09:10:51.309Z"
   },
   {
    "duration": 0,
    "start_time": "2023-04-28T09:10:51.310Z"
   },
   {
    "duration": 0,
    "start_time": "2023-04-28T09:10:51.311Z"
   },
   {
    "duration": 0,
    "start_time": "2023-04-28T09:10:51.312Z"
   },
   {
    "duration": 0,
    "start_time": "2023-04-28T09:10:51.312Z"
   },
   {
    "duration": 0,
    "start_time": "2023-04-28T09:10:51.313Z"
   },
   {
    "duration": 0,
    "start_time": "2023-04-28T09:10:51.314Z"
   },
   {
    "duration": 0,
    "start_time": "2023-04-28T09:10:51.315Z"
   },
   {
    "duration": 0,
    "start_time": "2023-04-28T09:10:51.317Z"
   },
   {
    "duration": 0,
    "start_time": "2023-04-28T09:10:51.318Z"
   },
   {
    "duration": 0,
    "start_time": "2023-04-28T09:10:51.319Z"
   },
   {
    "duration": 3,
    "start_time": "2023-04-28T09:11:08.371Z"
   },
   {
    "duration": 9,
    "start_time": "2023-04-28T09:11:09.031Z"
   },
   {
    "duration": 9,
    "start_time": "2023-04-28T09:11:09.171Z"
   },
   {
    "duration": 22,
    "start_time": "2023-04-28T09:11:09.884Z"
   },
   {
    "duration": 13,
    "start_time": "2023-04-28T09:11:10.060Z"
   },
   {
    "duration": 74,
    "start_time": "2023-04-28T09:11:10.686Z"
   },
   {
    "duration": 7,
    "start_time": "2023-04-28T09:11:10.832Z"
   },
   {
    "duration": 145,
    "start_time": "2023-04-28T09:11:11.011Z"
   },
   {
    "duration": 7,
    "start_time": "2023-04-28T09:11:11.207Z"
   },
   {
    "duration": 7,
    "start_time": "2023-04-28T09:11:11.332Z"
   },
   {
    "duration": 13,
    "start_time": "2023-04-28T09:11:12.044Z"
   },
   {
    "duration": 105,
    "start_time": "2023-04-28T09:11:12.136Z"
   },
   {
    "duration": 2118,
    "start_time": "2023-04-28T09:11:12.629Z"
   },
   {
    "duration": 78,
    "start_time": "2023-04-28T09:11:14.749Z"
   },
   {
    "duration": 46,
    "start_time": "2023-04-28T09:11:14.828Z"
   },
   {
    "duration": 1711,
    "start_time": "2023-04-28T09:11:14.876Z"
   },
   {
    "duration": 12,
    "start_time": "2023-04-28T09:11:16.595Z"
   },
   {
    "duration": 14,
    "start_time": "2023-04-28T09:11:16.609Z"
   },
   {
    "duration": 8,
    "start_time": "2023-04-28T09:11:16.625Z"
   },
   {
    "duration": 8,
    "start_time": "2023-04-28T09:11:16.634Z"
   },
   {
    "duration": 9,
    "start_time": "2023-04-28T09:11:16.644Z"
   },
   {
    "duration": 4,
    "start_time": "2023-04-28T09:11:16.655Z"
   },
   {
    "duration": 163,
    "start_time": "2023-04-28T09:11:16.661Z"
   },
   {
    "duration": 141,
    "start_time": "2023-04-28T09:11:16.826Z"
   },
   {
    "duration": 139,
    "start_time": "2023-04-28T09:11:16.969Z"
   },
   {
    "duration": 227,
    "start_time": "2023-04-28T09:11:17.110Z"
   },
   {
    "duration": 8,
    "start_time": "2023-04-28T09:11:17.339Z"
   },
   {
    "duration": 144,
    "start_time": "2023-04-28T09:11:17.348Z"
   },
   {
    "duration": 125,
    "start_time": "2023-04-28T09:11:17.493Z"
   },
   {
    "duration": 8,
    "start_time": "2023-04-28T09:11:17.620Z"
   },
   {
    "duration": 132,
    "start_time": "2023-04-28T09:11:17.904Z"
   },
   {
    "duration": 138,
    "start_time": "2023-04-28T09:11:18.237Z"
   },
   {
    "duration": 325,
    "start_time": "2023-04-28T09:11:18.654Z"
   },
   {
    "duration": 232,
    "start_time": "2023-04-28T09:11:18.981Z"
   },
   {
    "duration": 174,
    "start_time": "2023-04-28T09:11:19.287Z"
   },
   {
    "duration": 8,
    "start_time": "2023-04-28T09:11:19.463Z"
   },
   {
    "duration": 331,
    "start_time": "2023-04-28T09:11:19.794Z"
   },
   {
    "duration": 8,
    "start_time": "2023-04-28T09:11:20.127Z"
   },
   {
    "duration": 326,
    "start_time": "2023-04-28T09:12:03.994Z"
   },
   {
    "duration": 170,
    "start_time": "2023-04-28T09:12:09.505Z"
   },
   {
    "duration": 130,
    "start_time": "2023-04-29T08:44:23.754Z"
   },
   {
    "duration": 1730,
    "start_time": "2023-04-29T08:47:43.558Z"
   },
   {
    "duration": 15,
    "start_time": "2023-04-29T08:47:45.290Z"
   },
   {
    "duration": 1926,
    "start_time": "2023-04-29T08:47:45.307Z"
   },
   {
    "duration": 71,
    "start_time": "2023-04-29T08:47:47.235Z"
   },
   {
    "duration": 3,
    "start_time": "2023-04-29T08:47:47.308Z"
   },
   {
    "duration": 9,
    "start_time": "2023-04-29T08:47:47.333Z"
   },
   {
    "duration": 7,
    "start_time": "2023-04-29T08:47:47.344Z"
   },
   {
    "duration": 22,
    "start_time": "2023-04-29T08:47:47.353Z"
   },
   {
    "duration": 18,
    "start_time": "2023-04-29T08:47:47.376Z"
   },
   {
    "duration": 12,
    "start_time": "2023-04-29T08:47:47.395Z"
   },
   {
    "duration": 133,
    "start_time": "2023-04-29T08:47:47.432Z"
   },
   {
    "duration": 7,
    "start_time": "2023-04-29T08:47:47.566Z"
   },
   {
    "duration": 13,
    "start_time": "2023-04-29T08:47:47.575Z"
   },
   {
    "duration": 12,
    "start_time": "2023-04-29T08:47:47.591Z"
   },
   {
    "duration": 117,
    "start_time": "2023-04-29T08:47:47.605Z"
   },
   {
    "duration": 0,
    "start_time": "2023-04-29T08:47:47.724Z"
   },
   {
    "duration": 0,
    "start_time": "2023-04-29T08:47:47.725Z"
   },
   {
    "duration": 0,
    "start_time": "2023-04-29T08:47:47.726Z"
   },
   {
    "duration": 0,
    "start_time": "2023-04-29T08:47:47.727Z"
   },
   {
    "duration": 0,
    "start_time": "2023-04-29T08:47:47.733Z"
   },
   {
    "duration": 0,
    "start_time": "2023-04-29T08:47:47.734Z"
   },
   {
    "duration": 0,
    "start_time": "2023-04-29T08:47:47.736Z"
   },
   {
    "duration": 0,
    "start_time": "2023-04-29T08:47:47.737Z"
   },
   {
    "duration": 0,
    "start_time": "2023-04-29T08:47:47.738Z"
   },
   {
    "duration": 0,
    "start_time": "2023-04-29T08:47:47.739Z"
   },
   {
    "duration": 0,
    "start_time": "2023-04-29T08:47:47.740Z"
   },
   {
    "duration": 0,
    "start_time": "2023-04-29T08:47:47.742Z"
   },
   {
    "duration": 0,
    "start_time": "2023-04-29T08:47:47.743Z"
   },
   {
    "duration": 0,
    "start_time": "2023-04-29T08:47:47.744Z"
   },
   {
    "duration": 0,
    "start_time": "2023-04-29T08:47:47.745Z"
   },
   {
    "duration": 0,
    "start_time": "2023-04-29T08:47:47.746Z"
   },
   {
    "duration": 0,
    "start_time": "2023-04-29T08:47:47.748Z"
   },
   {
    "duration": 0,
    "start_time": "2023-04-29T08:47:47.749Z"
   },
   {
    "duration": 0,
    "start_time": "2023-04-29T08:47:47.750Z"
   },
   {
    "duration": 0,
    "start_time": "2023-04-29T08:47:47.751Z"
   },
   {
    "duration": 0,
    "start_time": "2023-04-29T08:47:47.752Z"
   },
   {
    "duration": 0,
    "start_time": "2023-04-29T08:47:47.753Z"
   },
   {
    "duration": 0,
    "start_time": "2023-04-29T08:47:47.755Z"
   },
   {
    "duration": 0,
    "start_time": "2023-04-29T08:47:47.756Z"
   },
   {
    "duration": 0,
    "start_time": "2023-04-29T08:47:47.757Z"
   },
   {
    "duration": 0,
    "start_time": "2023-04-29T08:47:47.758Z"
   },
   {
    "duration": 0,
    "start_time": "2023-04-29T08:47:47.759Z"
   },
   {
    "duration": 0,
    "start_time": "2023-04-29T08:47:47.760Z"
   },
   {
    "duration": 0,
    "start_time": "2023-04-29T08:47:47.761Z"
   },
   {
    "duration": 0,
    "start_time": "2023-04-29T08:47:47.762Z"
   },
   {
    "duration": 0,
    "start_time": "2023-04-29T08:47:47.763Z"
   },
   {
    "duration": 0,
    "start_time": "2023-04-29T08:47:47.764Z"
   },
   {
    "duration": 0,
    "start_time": "2023-04-29T08:47:47.765Z"
   },
   {
    "duration": 0,
    "start_time": "2023-04-29T08:47:47.766Z"
   },
   {
    "duration": 0,
    "start_time": "2023-04-29T08:47:47.767Z"
   },
   {
    "duration": 0,
    "start_time": "2023-04-29T08:47:47.768Z"
   },
   {
    "duration": 0,
    "start_time": "2023-04-29T08:47:47.769Z"
   },
   {
    "duration": 0,
    "start_time": "2023-04-29T08:47:47.770Z"
   },
   {
    "duration": 0,
    "start_time": "2023-04-29T08:47:47.770Z"
   },
   {
    "duration": 0,
    "start_time": "2023-04-29T08:47:47.771Z"
   },
   {
    "duration": 0,
    "start_time": "2023-04-29T08:47:47.834Z"
   },
   {
    "duration": 0,
    "start_time": "2023-04-29T08:47:47.834Z"
   },
   {
    "duration": 0,
    "start_time": "2023-04-29T08:47:47.835Z"
   },
   {
    "duration": 0,
    "start_time": "2023-04-29T08:47:47.836Z"
   },
   {
    "duration": 1676,
    "start_time": "2023-04-30T18:11:29.326Z"
   },
   {
    "duration": 15,
    "start_time": "2023-04-30T18:11:31.004Z"
   },
   {
    "duration": 2197,
    "start_time": "2023-04-30T18:11:31.021Z"
   },
   {
    "duration": 90,
    "start_time": "2023-04-30T18:11:33.221Z"
   },
   {
    "duration": 4,
    "start_time": "2023-04-30T18:11:33.313Z"
   },
   {
    "duration": 19,
    "start_time": "2023-04-30T18:11:33.319Z"
   },
   {
    "duration": 9,
    "start_time": "2023-04-30T18:11:33.340Z"
   },
   {
    "duration": 30,
    "start_time": "2023-04-30T18:11:33.350Z"
   },
   {
    "duration": 18,
    "start_time": "2023-04-30T18:11:33.384Z"
   },
   {
    "duration": 8,
    "start_time": "2023-04-30T18:11:33.405Z"
   },
   {
    "duration": 180,
    "start_time": "2023-04-30T18:11:33.415Z"
   },
   {
    "duration": 6,
    "start_time": "2023-04-30T18:11:33.597Z"
   },
   {
    "duration": 9,
    "start_time": "2023-04-30T18:11:33.604Z"
   },
   {
    "duration": 17,
    "start_time": "2023-04-30T18:11:33.615Z"
   },
   {
    "duration": 158,
    "start_time": "2023-04-30T18:11:33.634Z"
   },
   {
    "duration": 0,
    "start_time": "2023-04-30T18:11:33.794Z"
   },
   {
    "duration": 0,
    "start_time": "2023-04-30T18:11:33.795Z"
   },
   {
    "duration": 0,
    "start_time": "2023-04-30T18:11:33.796Z"
   },
   {
    "duration": 0,
    "start_time": "2023-04-30T18:11:33.797Z"
   },
   {
    "duration": 0,
    "start_time": "2023-04-30T18:11:33.798Z"
   },
   {
    "duration": 1,
    "start_time": "2023-04-30T18:11:33.799Z"
   },
   {
    "duration": 0,
    "start_time": "2023-04-30T18:11:33.801Z"
   },
   {
    "duration": 0,
    "start_time": "2023-04-30T18:11:33.802Z"
   },
   {
    "duration": 0,
    "start_time": "2023-04-30T18:11:33.804Z"
   },
   {
    "duration": 0,
    "start_time": "2023-04-30T18:11:33.805Z"
   },
   {
    "duration": 0,
    "start_time": "2023-04-30T18:11:33.807Z"
   },
   {
    "duration": 0,
    "start_time": "2023-04-30T18:11:33.808Z"
   },
   {
    "duration": 0,
    "start_time": "2023-04-30T18:11:33.809Z"
   },
   {
    "duration": 0,
    "start_time": "2023-04-30T18:11:33.810Z"
   },
   {
    "duration": 0,
    "start_time": "2023-04-30T18:11:33.812Z"
   },
   {
    "duration": 0,
    "start_time": "2023-04-30T18:11:33.813Z"
   },
   {
    "duration": 0,
    "start_time": "2023-04-30T18:11:33.814Z"
   },
   {
    "duration": 0,
    "start_time": "2023-04-30T18:11:33.815Z"
   },
   {
    "duration": 0,
    "start_time": "2023-04-30T18:11:33.817Z"
   },
   {
    "duration": 0,
    "start_time": "2023-04-30T18:11:33.856Z"
   },
   {
    "duration": 0,
    "start_time": "2023-04-30T18:11:33.856Z"
   },
   {
    "duration": 0,
    "start_time": "2023-04-30T18:11:33.857Z"
   },
   {
    "duration": 0,
    "start_time": "2023-04-30T18:11:33.858Z"
   },
   {
    "duration": 0,
    "start_time": "2023-04-30T18:11:33.858Z"
   },
   {
    "duration": 0,
    "start_time": "2023-04-30T18:11:33.859Z"
   },
   {
    "duration": 0,
    "start_time": "2023-04-30T18:11:33.860Z"
   },
   {
    "duration": 0,
    "start_time": "2023-04-30T18:11:33.861Z"
   },
   {
    "duration": 0,
    "start_time": "2023-04-30T18:11:33.862Z"
   },
   {
    "duration": 0,
    "start_time": "2023-04-30T18:11:33.863Z"
   },
   {
    "duration": 0,
    "start_time": "2023-04-30T18:11:33.865Z"
   },
   {
    "duration": 0,
    "start_time": "2023-04-30T18:11:33.866Z"
   },
   {
    "duration": 0,
    "start_time": "2023-04-30T18:11:33.867Z"
   },
   {
    "duration": 0,
    "start_time": "2023-04-30T18:11:33.872Z"
   },
   {
    "duration": 0,
    "start_time": "2023-04-30T18:11:33.873Z"
   },
   {
    "duration": 0,
    "start_time": "2023-04-30T18:11:33.874Z"
   },
   {
    "duration": 0,
    "start_time": "2023-04-30T18:11:33.875Z"
   },
   {
    "duration": 0,
    "start_time": "2023-04-30T18:11:33.876Z"
   },
   {
    "duration": 0,
    "start_time": "2023-04-30T18:11:33.877Z"
   },
   {
    "duration": 0,
    "start_time": "2023-04-30T18:11:33.878Z"
   },
   {
    "duration": 0,
    "start_time": "2023-04-30T18:11:33.879Z"
   },
   {
    "duration": 0,
    "start_time": "2023-04-30T18:11:33.881Z"
   },
   {
    "duration": 0,
    "start_time": "2023-04-30T18:11:33.882Z"
   },
   {
    "duration": 0,
    "start_time": "2023-04-30T18:11:33.883Z"
   },
   {
    "duration": 0,
    "start_time": "2023-04-30T18:11:33.884Z"
   },
   {
    "duration": 28,
    "start_time": "2023-04-30T18:12:22.165Z"
   },
   {
    "duration": 12,
    "start_time": "2023-04-30T18:12:24.729Z"
   },
   {
    "duration": 1349,
    "start_time": "2023-04-30T18:12:42.911Z"
   },
   {
    "duration": 20,
    "start_time": "2023-04-30T18:12:44.263Z"
   },
   {
    "duration": 2204,
    "start_time": "2023-04-30T18:12:44.286Z"
   },
   {
    "duration": 77,
    "start_time": "2023-04-30T18:12:46.492Z"
   },
   {
    "duration": 3,
    "start_time": "2023-04-30T18:12:46.571Z"
   },
   {
    "duration": 17,
    "start_time": "2023-04-30T18:12:46.575Z"
   },
   {
    "duration": 8,
    "start_time": "2023-04-30T18:12:46.594Z"
   },
   {
    "duration": 25,
    "start_time": "2023-04-30T18:12:46.603Z"
   },
   {
    "duration": 28,
    "start_time": "2023-04-30T18:12:46.630Z"
   },
   {
    "duration": 16,
    "start_time": "2023-04-30T18:12:46.664Z"
   },
   {
    "duration": 153,
    "start_time": "2023-04-30T18:12:46.683Z"
   },
   {
    "duration": 7,
    "start_time": "2023-04-30T18:12:46.838Z"
   },
   {
    "duration": 33,
    "start_time": "2023-04-30T18:12:46.847Z"
   },
   {
    "duration": 14,
    "start_time": "2023-04-30T18:12:46.887Z"
   },
   {
    "duration": 9,
    "start_time": "2023-04-30T18:12:46.903Z"
   },
   {
    "duration": 2302,
    "start_time": "2023-04-30T18:12:46.914Z"
   },
   {
    "duration": 89,
    "start_time": "2023-04-30T18:12:49.218Z"
   },
   {
    "duration": 72,
    "start_time": "2023-04-30T18:12:49.308Z"
   },
   {
    "duration": 1897,
    "start_time": "2023-04-30T18:12:49.390Z"
   },
   {
    "duration": 5,
    "start_time": "2023-04-30T18:12:51.288Z"
   },
   {
    "duration": 8,
    "start_time": "2023-04-30T18:12:51.294Z"
   },
   {
    "duration": 7,
    "start_time": "2023-04-30T18:12:51.304Z"
   },
   {
    "duration": 8,
    "start_time": "2023-04-30T18:12:51.312Z"
   },
   {
    "duration": 51,
    "start_time": "2023-04-30T18:12:51.321Z"
   },
   {
    "duration": 7,
    "start_time": "2023-04-30T18:12:51.380Z"
   },
   {
    "duration": 162,
    "start_time": "2023-04-30T18:12:51.388Z"
   },
   {
    "duration": 156,
    "start_time": "2023-04-30T18:12:51.551Z"
   },
   {
    "duration": 154,
    "start_time": "2023-04-30T18:12:51.709Z"
   },
   {
    "duration": 254,
    "start_time": "2023-04-30T18:12:51.865Z"
   },
   {
    "duration": 12,
    "start_time": "2023-04-30T18:12:52.121Z"
   },
   {
    "duration": 173,
    "start_time": "2023-04-30T18:12:52.135Z"
   },
   {
    "duration": 140,
    "start_time": "2023-04-30T18:12:52.310Z"
   },
   {
    "duration": 10,
    "start_time": "2023-04-30T18:12:52.455Z"
   },
   {
    "duration": 164,
    "start_time": "2023-04-30T18:12:52.466Z"
   },
   {
    "duration": 167,
    "start_time": "2023-04-30T18:12:52.632Z"
   },
   {
    "duration": 389,
    "start_time": "2023-04-30T18:12:52.801Z"
   },
   {
    "duration": 293,
    "start_time": "2023-04-30T18:12:53.194Z"
   },
   {
    "duration": 190,
    "start_time": "2023-04-30T18:12:53.489Z"
   },
   {
    "duration": 11,
    "start_time": "2023-04-30T18:12:53.681Z"
   },
   {
    "duration": 495,
    "start_time": "2023-04-30T18:12:53.694Z"
   },
   {
    "duration": 12,
    "start_time": "2023-04-30T18:12:54.194Z"
   },
   {
    "duration": 292,
    "start_time": "2023-04-30T18:12:54.208Z"
   },
   {
    "duration": 202,
    "start_time": "2023-04-30T18:12:54.502Z"
   },
   {
    "duration": 315,
    "start_time": "2023-04-30T18:12:54.706Z"
   },
   {
    "duration": 206,
    "start_time": "2023-04-30T18:12:55.023Z"
   },
   {
    "duration": 232,
    "start_time": "2023-04-30T18:12:55.230Z"
   },
   {
    "duration": 206,
    "start_time": "2023-04-30T18:12:55.477Z"
   },
   {
    "duration": 6,
    "start_time": "2023-04-30T18:12:55.685Z"
   },
   {
    "duration": 38,
    "start_time": "2023-04-30T18:12:55.692Z"
   },
   {
    "duration": 7,
    "start_time": "2023-04-30T18:12:55.732Z"
   },
   {
    "duration": 184,
    "start_time": "2023-04-30T18:12:55.741Z"
   },
   {
    "duration": 147,
    "start_time": "2023-04-30T18:12:55.926Z"
   },
   {
    "duration": 157,
    "start_time": "2023-04-30T18:12:56.078Z"
   },
   {
    "duration": 191,
    "start_time": "2023-04-30T18:12:56.237Z"
   },
   {
    "duration": 173,
    "start_time": "2023-04-30T18:12:56.430Z"
   },
   {
    "duration": 5,
    "start_time": "2023-04-30T18:12:56.605Z"
   },
   {
    "duration": 183,
    "start_time": "2023-04-30T18:12:56.612Z"
   },
   {
    "duration": 5,
    "start_time": "2023-04-30T18:12:56.797Z"
   },
   {
    "duration": 304,
    "start_time": "2023-04-30T18:12:56.804Z"
   },
   {
    "duration": 47,
    "start_time": "2023-06-09T06:36:53.286Z"
   },
   {
    "duration": 1775,
    "start_time": "2023-06-09T06:37:01.732Z"
   },
   {
    "duration": 16,
    "start_time": "2023-06-09T06:37:03.509Z"
   },
   {
    "duration": 2063,
    "start_time": "2023-06-09T06:37:03.527Z"
   },
   {
    "duration": 64,
    "start_time": "2023-06-09T06:37:05.593Z"
   },
   {
    "duration": 4,
    "start_time": "2023-06-09T06:37:05.658Z"
   },
   {
    "duration": 13,
    "start_time": "2023-06-09T06:37:05.663Z"
   },
   {
    "duration": 6,
    "start_time": "2023-06-09T06:37:05.677Z"
   },
   {
    "duration": 15,
    "start_time": "2023-06-09T06:37:05.685Z"
   },
   {
    "duration": 37,
    "start_time": "2023-06-09T06:37:05.701Z"
   },
   {
    "duration": 11,
    "start_time": "2023-06-09T06:37:05.741Z"
   },
   {
    "duration": 10,
    "start_time": "2023-06-09T06:37:05.754Z"
   },
   {
    "duration": 150,
    "start_time": "2023-06-09T06:37:05.766Z"
   },
   {
    "duration": 6,
    "start_time": "2023-06-09T06:37:05.918Z"
   },
   {
    "duration": 214,
    "start_time": "2023-06-09T06:37:05.925Z"
   },
   {
    "duration": 29,
    "start_time": "2023-06-09T06:37:06.141Z"
   },
   {
    "duration": 22,
    "start_time": "2023-06-09T06:37:06.172Z"
   },
   {
    "duration": 2013,
    "start_time": "2023-06-09T06:37:06.195Z"
   },
   {
    "duration": 75,
    "start_time": "2023-06-09T06:37:08.209Z"
   },
   {
    "duration": 86,
    "start_time": "2023-06-09T06:37:08.286Z"
   },
   {
    "duration": 1599,
    "start_time": "2023-06-09T06:37:08.374Z"
   },
   {
    "duration": 4,
    "start_time": "2023-06-09T06:37:09.975Z"
   },
   {
    "duration": 14,
    "start_time": "2023-06-09T06:37:09.981Z"
   },
   {
    "duration": 20,
    "start_time": "2023-06-09T06:37:09.996Z"
   },
   {
    "duration": 7,
    "start_time": "2023-06-09T06:37:10.017Z"
   },
   {
    "duration": 12,
    "start_time": "2023-06-09T06:37:10.026Z"
   },
   {
    "duration": 6,
    "start_time": "2023-06-09T06:37:10.040Z"
   },
   {
    "duration": 147,
    "start_time": "2023-06-09T06:37:10.047Z"
   },
   {
    "duration": 126,
    "start_time": "2023-06-09T06:37:10.197Z"
   },
   {
    "duration": 124,
    "start_time": "2023-06-09T06:37:10.324Z"
   },
   {
    "duration": 206,
    "start_time": "2023-06-09T06:37:10.450Z"
   },
   {
    "duration": 7,
    "start_time": "2023-06-09T06:37:10.657Z"
   },
   {
    "duration": 124,
    "start_time": "2023-06-09T06:37:10.666Z"
   },
   {
    "duration": 113,
    "start_time": "2023-06-09T06:37:10.791Z"
   },
   {
    "duration": 13,
    "start_time": "2023-06-09T06:37:10.906Z"
   },
   {
    "duration": 132,
    "start_time": "2023-06-09T06:37:10.920Z"
   },
   {
    "duration": 128,
    "start_time": "2023-06-09T06:37:11.054Z"
   },
   {
    "duration": 293,
    "start_time": "2023-06-09T06:37:11.184Z"
   },
   {
    "duration": 208,
    "start_time": "2023-06-09T06:37:11.479Z"
   },
   {
    "duration": 156,
    "start_time": "2023-06-09T06:37:11.688Z"
   },
   {
    "duration": 10,
    "start_time": "2023-06-09T06:37:11.845Z"
   },
   {
    "duration": 335,
    "start_time": "2023-06-09T06:37:11.857Z"
   },
   {
    "duration": 8,
    "start_time": "2023-06-09T06:37:12.193Z"
   },
   {
    "duration": 215,
    "start_time": "2023-06-09T06:37:12.202Z"
   },
   {
    "duration": 162,
    "start_time": "2023-06-09T06:37:12.418Z"
   },
   {
    "duration": 250,
    "start_time": "2023-06-09T06:37:12.582Z"
   },
   {
    "duration": 174,
    "start_time": "2023-06-09T06:37:12.833Z"
   },
   {
    "duration": 185,
    "start_time": "2023-06-09T06:37:13.009Z"
   },
   {
    "duration": 192,
    "start_time": "2023-06-09T06:37:13.195Z"
   },
   {
    "duration": 6,
    "start_time": "2023-06-09T06:37:13.389Z"
   },
   {
    "duration": 20,
    "start_time": "2023-06-09T06:37:13.396Z"
   },
   {
    "duration": 5,
    "start_time": "2023-06-09T06:37:13.418Z"
   },
   {
    "duration": 133,
    "start_time": "2023-06-09T06:37:13.425Z"
   },
   {
    "duration": 121,
    "start_time": "2023-06-09T06:37:13.560Z"
   },
   {
    "duration": 128,
    "start_time": "2023-06-09T06:37:13.683Z"
   },
   {
    "duration": 126,
    "start_time": "2023-06-09T06:37:13.816Z"
   },
   {
    "duration": 131,
    "start_time": "2023-06-09T06:37:13.943Z"
   },
   {
    "duration": 4,
    "start_time": "2023-06-09T06:37:14.076Z"
   },
   {
    "duration": 161,
    "start_time": "2023-06-09T06:37:14.082Z"
   },
   {
    "duration": 5,
    "start_time": "2023-06-09T06:37:14.245Z"
   },
   {
    "duration": 236,
    "start_time": "2023-06-09T06:37:14.251Z"
   },
   {
    "duration": 5,
    "start_time": "2023-06-09T06:37:25.353Z"
   },
   {
    "duration": 5,
    "start_time": "2023-06-09T06:37:34.544Z"
   },
   {
    "duration": 4,
    "start_time": "2023-06-09T06:37:45.205Z"
   },
   {
    "duration": 5,
    "start_time": "2023-06-09T06:38:01.916Z"
   },
   {
    "duration": 5,
    "start_time": "2023-06-09T06:38:07.335Z"
   },
   {
    "duration": 5,
    "start_time": "2023-06-09T06:38:07.759Z"
   },
   {
    "duration": 5,
    "start_time": "2023-06-09T06:38:11.511Z"
   }
  ],
  "kernelspec": {
   "display_name": "Python 3",
   "language": "python",
   "name": "python3"
  },
  "language_info": {
   "codemirror_mode": {
    "name": "ipython",
    "version": 3
   },
   "file_extension": ".py",
   "mimetype": "text/x-python",
   "name": "python",
   "nbconvert_exporter": "python",
   "pygments_lexer": "ipython3",
   "version": "3.8.5"
  },
  "toc": {
   "base_numbering": 1,
   "nav_menu": {},
   "number_sections": true,
   "sideBar": true,
   "skip_h1_title": true,
   "title_cell": "Table of Contents",
   "title_sidebar": "Contents",
   "toc_cell": false,
   "toc_position": {},
   "toc_section_display": true,
   "toc_window_display": false
  }
 },
 "nbformat": 4,
 "nbformat_minor": 2
}
